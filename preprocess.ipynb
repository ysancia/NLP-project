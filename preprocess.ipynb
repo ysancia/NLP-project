{
 "cells": [
  {
   "cell_type": "code",
   "execution_count": 1,
   "id": "d043b2b7",
   "metadata": {},
   "outputs": [],
   "source": [
    "import os\n",
    "import glob\n",
    "import numpy as np\n",
    "import pandas as pd\n",
    "import pickle\n",
    "from sklearn.feature_extraction.text import TfidfVectorizer, CountVectorizer\n",
    "import re"
   ]
  },
  {
   "cell_type": "code",
   "execution_count": 2,
   "id": "1e56f5d5",
   "metadata": {},
   "outputs": [],
   "source": [
    "# siege of mariupol\n",
    "mar01 = pd.read_csv(\"0301.csv\")"
   ]
  },
  {
   "cell_type": "code",
   "execution_count": 4,
   "id": "ec7c30cb",
   "metadata": {},
   "outputs": [
    {
     "name": "stdout",
     "output_type": "stream",
     "text": [
      "<class 'pandas.core.frame.DataFrame'>\n",
      "RangeIndex: 409279 entries, 0 to 409278\n",
      "Data columns (total 18 columns):\n",
      " #   Column          Non-Null Count   Dtype \n",
      "---  ------          --------------   ----- \n",
      " 0   Unnamed: 0      409279 non-null  int64 \n",
      " 1   userid          409279 non-null  int64 \n",
      " 2   username        409279 non-null  object\n",
      " 3   acctdesc        317709 non-null  object\n",
      " 4   location        235394 non-null  object\n",
      " 5   following       409279 non-null  int64 \n",
      " 6   followers       409279 non-null  int64 \n",
      " 7   totaltweets     409279 non-null  int64 \n",
      " 8   usercreatedts   409279 non-null  object\n",
      " 9   tweetid         409279 non-null  int64 \n",
      " 10  tweetcreatedts  409279 non-null  object\n",
      " 11  retweetcount    409279 non-null  int64 \n",
      " 12  text            409279 non-null  object\n",
      " 13  hashtags        409279 non-null  object\n",
      " 14  language        409279 non-null  object\n",
      " 15  coordinates     37 non-null      object\n",
      " 16  favorite_count  409279 non-null  int64 \n",
      " 17  extractedts     409279 non-null  object\n",
      "dtypes: int64(8), object(10)\n",
      "memory usage: 56.2+ MB\n"
     ]
    }
   ],
   "source": [
    "mar01.info()"
   ]
  },
  {
   "cell_type": "code",
   "execution_count": 7,
   "id": "8b162d92",
   "metadata": {},
   "outputs": [],
   "source": [
    "# lviv attack\n",
    "mar13 = pd.read_csv(\"0313.csv\")"
   ]
  },
  {
   "cell_type": "code",
   "execution_count": 8,
   "id": "6b8136a0",
   "metadata": {},
   "outputs": [],
   "source": [
    "# mariupol hospital siege\n",
    "mar15 = pd.read_csv(\"0315.csv\")"
   ]
  },
  {
   "cell_type": "code",
   "execution_count": 9,
   "id": "01729cf2",
   "metadata": {},
   "outputs": [],
   "source": [
    "# mariupol theater bombed\n",
    "mar16 = pd.read_csv(\"0316.csv\")"
   ]
  },
  {
   "cell_type": "code",
   "execution_count": 10,
   "id": "8b76404a",
   "metadata": {},
   "outputs": [],
   "source": [
    "# withdrawal from bucha - evidence of atrocities\n",
    "apr03 = pd.read_csv(\"0403.csv\")"
   ]
  },
  {
   "cell_type": "code",
   "execution_count": 11,
   "id": "ace94e6d",
   "metadata": {},
   "outputs": [],
   "source": [
    "# bombing of karmatorsk railway\n",
    "apr08 = pd.read_csv(\"0408.csv\")"
   ]
  },
  {
   "cell_type": "code",
   "execution_count": 12,
   "id": "d96e2ac9",
   "metadata": {},
   "outputs": [],
   "source": [
    "mar01 = mar01[(mar01[\"language\"] == \"en\")]\n",
    "mar13 = mar13[(mar13[\"language\"] == \"en\")]\n",
    "mar15 = mar15[(mar15[\"language\"] == \"en\")]\n",
    "mar16 = mar16[(mar16[\"language\"] == \"en\")]\n",
    "apr03 = apr03[(apr03[\"language\"] == \"en\")]\n",
    "apr08 = apr08[(apr08[\"language\"] == \"en\")]"
   ]
  },
  {
   "cell_type": "code",
   "execution_count": 22,
   "id": "fce50d56",
   "metadata": {},
   "outputs": [],
   "source": [
    "df = pd.concat([mar01, mar13, mar15, mar16, apr03, apr08])"
   ]
  },
  {
   "cell_type": "code",
   "execution_count": 25,
   "id": "82d95fe7",
   "metadata": {},
   "outputs": [
    {
     "name": "stdout",
     "output_type": "stream",
     "text": [
      "<class 'pandas.core.frame.DataFrame'>\n",
      "Int64Index: 1734174 entries, 0 to 405522\n",
      "Data columns (total 18 columns):\n",
      " #   Column          Dtype \n",
      "---  ------          ----- \n",
      " 0   Unnamed: 0      int64 \n",
      " 1   userid          int64 \n",
      " 2   username        object\n",
      " 3   acctdesc        object\n",
      " 4   location        object\n",
      " 5   following       int64 \n",
      " 6   followers       int64 \n",
      " 7   totaltweets     int64 \n",
      " 8   usercreatedts   object\n",
      " 9   tweetid         int64 \n",
      " 10  tweetcreatedts  object\n",
      " 11  retweetcount    int64 \n",
      " 12  text            object\n",
      " 13  hashtags        object\n",
      " 14  language        object\n",
      " 15  coordinates     object\n",
      " 16  favorite_count  int64 \n",
      " 17  extractedts     object\n",
      "dtypes: int64(8), object(10)\n",
      "memory usage: 251.4+ MB\n"
     ]
    }
   ],
   "source": [
    "df.info()"
   ]
  },
  {
   "cell_type": "code",
   "execution_count": 26,
   "id": "fe3a2d82",
   "metadata": {},
   "outputs": [],
   "source": [
    "df_file = \"final.pickle\"   \n",
    "save_df = open(df_file,\"wb\")\n",
    "pickle.dump(df, save_df)          \n",
    "save_df.close()"
   ]
  },
  {
   "cell_type": "code",
   "execution_count": 30,
   "id": "72606ca8",
   "metadata": {},
   "outputs": [
    {
     "data": {
      "text/plain": [
       "'.@peta urges government to rescue student along with his companion dog amid the #UkraineRussiaWar \\n\\n@PetaIndia | #PETA #UkraineUnderAttack #UkraineWar\\n\\nhttps://t.co/0J1IldeHyz'"
      ]
     },
     "execution_count": 30,
     "metadata": {},
     "output_type": "execute_result"
    }
   ],
   "source": [
    "df.iloc[1][\"text\"]"
   ]
  },
  {
   "cell_type": "code",
   "execution_count": 31,
   "id": "be49c8c4",
   "metadata": {},
   "outputs": [],
   "source": [
    "a = re.sub(r\"http\\S+\", \"\", df.iloc[1][\"text\"])"
   ]
  },
  {
   "cell_type": "code",
   "execution_count": 32,
   "id": "fdde25a6",
   "metadata": {},
   "outputs": [
    {
     "data": {
      "text/plain": [
       "'.@peta urges government to rescue student along with his companion dog amid the #UkraineRussiaWar \\n\\n@PetaIndia | #PETA #UkraineUnderAttack #UkraineWar\\n\\n'"
      ]
     },
     "execution_count": 32,
     "metadata": {},
     "output_type": "execute_result"
    }
   ],
   "source": [
    "a"
   ]
  },
  {
   "cell_type": "code",
   "execution_count": 33,
   "id": "3d64207f",
   "metadata": {},
   "outputs": [
    {
     "data": {
      "text/plain": [
       "'When you know physics and geo-politics! #Ukraine https://t.co/uAt27Z4XJw'"
      ]
     },
     "execution_count": 33,
     "metadata": {},
     "output_type": "execute_result"
    }
   ],
   "source": [
    "df.iloc[4][\"text\"]"
   ]
  },
  {
   "cell_type": "code",
   "execution_count": 34,
   "id": "86664970",
   "metadata": {},
   "outputs": [],
   "source": [
    "b = re.sub(r\"http\\S+\", \"\", df.iloc[4][\"text\"])"
   ]
  },
  {
   "cell_type": "code",
   "execution_count": 35,
   "id": "e4315494",
   "metadata": {},
   "outputs": [
    {
     "data": {
      "text/plain": [
       "'When you know physics and geo-politics! #Ukraine '"
      ]
     },
     "execution_count": 35,
     "metadata": {},
     "output_type": "execute_result"
    }
   ],
   "source": [
    "b"
   ]
  },
  {
   "cell_type": "code",
   "execution_count": 47,
   "id": "9d11c4d9",
   "metadata": {},
   "outputs": [],
   "source": [
    "def remove_http(df):\n",
    "    docs = df.text\n",
    "    for i in range(0,len(docs)):\n",
    "        docs[i]= re.sub(r\"http\\S+\", \"\", docs[i])\n",
    "    return docs"
   ]
  },
  {
   "cell_type": "code",
   "execution_count": 54,
   "id": "6f27a1b8",
   "metadata": {},
   "outputs": [],
   "source": [
    "smaller_mar01 = mar01.sample(n = 100000, random_state = 17)"
   ]
  },
  {
   "cell_type": "code",
   "execution_count": 55,
   "id": "232ebc7e",
   "metadata": {},
   "outputs": [
    {
     "data": {
      "text/html": [
       "<div>\n",
       "<style scoped>\n",
       "    .dataframe tbody tr th:only-of-type {\n",
       "        vertical-align: middle;\n",
       "    }\n",
       "\n",
       "    .dataframe tbody tr th {\n",
       "        vertical-align: top;\n",
       "    }\n",
       "\n",
       "    .dataframe thead th {\n",
       "        text-align: right;\n",
       "    }\n",
       "</style>\n",
       "<table border=\"1\" class=\"dataframe\">\n",
       "  <thead>\n",
       "    <tr style=\"text-align: right;\">\n",
       "      <th></th>\n",
       "      <th>Unnamed: 0</th>\n",
       "      <th>userid</th>\n",
       "      <th>username</th>\n",
       "      <th>acctdesc</th>\n",
       "      <th>location</th>\n",
       "      <th>following</th>\n",
       "      <th>followers</th>\n",
       "      <th>totaltweets</th>\n",
       "      <th>usercreatedts</th>\n",
       "      <th>tweetid</th>\n",
       "      <th>tweetcreatedts</th>\n",
       "      <th>retweetcount</th>\n",
       "      <th>text</th>\n",
       "      <th>hashtags</th>\n",
       "      <th>language</th>\n",
       "      <th>coordinates</th>\n",
       "      <th>favorite_count</th>\n",
       "      <th>extractedts</th>\n",
       "    </tr>\n",
       "  </thead>\n",
       "  <tbody>\n",
       "    <tr>\n",
       "      <th>285999</th>\n",
       "      <td>435211</td>\n",
       "      <td>47541189</td>\n",
       "      <td>toddxz</td>\n",
       "      <td>Blogger, Writer, Gamer, movie buff, music fan,...</td>\n",
       "      <td>the southwest usa</td>\n",
       "      <td>235</td>\n",
       "      <td>181</td>\n",
       "      <td>62505</td>\n",
       "      <td>2009-06-16 04:22:53.000000</td>\n",
       "      <td>1498697283365310467</td>\n",
       "      <td>2022-03-01 16:30:51</td>\n",
       "      <td>0</td>\n",
       "      <td>'40-Mile Long' Russian Military Convoy Approac...</td>\n",
       "      <td>[{'text': 'RussiaUkraineWar', 'indices': [105,...</td>\n",
       "      <td>en</td>\n",
       "      <td>NaN</td>\n",
       "      <td>0</td>\n",
       "      <td>2022-03-01 16:31:40.793873</td>\n",
       "    </tr>\n",
       "    <tr>\n",
       "      <th>408432</th>\n",
       "      <td>557644</td>\n",
       "      <td>827828628469723136</td>\n",
       "      <td>Burak9100</td>\n",
       "      <td>NaN</td>\n",
       "      <td>NaN</td>\n",
       "      <td>2709</td>\n",
       "      <td>846</td>\n",
       "      <td>77600</td>\n",
       "      <td>2017-02-04 10:38:20.000000</td>\n",
       "      <td>1498803868762845187</td>\n",
       "      <td>2022-03-01 23:34:23</td>\n",
       "      <td>12739</td>\n",
       "      <td>My sister was trapped in #Ukraine. This is a t...</td>\n",
       "      <td>[{'text': 'Ukraine', 'indices': [39, 47]}, {'t...</td>\n",
       "      <td>en</td>\n",
       "      <td>NaN</td>\n",
       "      <td>0</td>\n",
       "      <td>2022-03-01 23:35:56.567833</td>\n",
       "    </tr>\n",
       "    <tr>\n",
       "      <th>938</th>\n",
       "      <td>150150</td>\n",
       "      <td>920645671128059904</td>\n",
       "      <td>noir_a_m</td>\n",
       "      <td>she/they. 25. #savelucifer veteran, #cloneclub...</td>\n",
       "      <td>pain: despair and baguette</td>\n",
       "      <td>252</td>\n",
       "      <td>29</td>\n",
       "      <td>8509</td>\n",
       "      <td>2017-10-18 13:40:07.000000</td>\n",
       "      <td>1498448162582839296</td>\n",
       "      <td>2022-03-01 00:00:56</td>\n",
       "      <td>13007</td>\n",
       "      <td>President @ZelenskyyUa has signed application ...</td>\n",
       "      <td>[{'text': 'Ukraine', 'indices': [87, 95]}]</td>\n",
       "      <td>en</td>\n",
       "      <td>NaN</td>\n",
       "      <td>0</td>\n",
       "      <td>2022-03-01 00:02:33.589113</td>\n",
       "    </tr>\n",
       "    <tr>\n",
       "      <th>255277</th>\n",
       "      <td>404489</td>\n",
       "      <td>1498599316830699520</td>\n",
       "      <td>UButakov</td>\n",
       "      <td>NaN</td>\n",
       "      <td>NaN</td>\n",
       "      <td>1</td>\n",
       "      <td>0</td>\n",
       "      <td>386</td>\n",
       "      <td>2022-03-01 10:01:51.000000</td>\n",
       "      <td>1498670850425466884</td>\n",
       "      <td>2022-03-01 14:45:49</td>\n",
       "      <td>0</td>\n",
       "      <td>@PrezidentZeman STOP RUSSIAN AGGRESSION AGAINS...</td>\n",
       "      <td>[{'text': 'UKRAINE', 'indices': [48, 56]}, {'t...</td>\n",
       "      <td>en</td>\n",
       "      <td>NaN</td>\n",
       "      <td>0</td>\n",
       "      <td>2022-03-01 14:46:36.876259</td>\n",
       "    </tr>\n",
       "    <tr>\n",
       "      <th>397244</th>\n",
       "      <td>546456</td>\n",
       "      <td>15320390</td>\n",
       "      <td>belleirene</td>\n",
       "      <td>Voice, Accent &amp; Acting @mtu_csm &amp; self, Craic ...</td>\n",
       "      <td>Cork, Ireland</td>\n",
       "      <td>751</td>\n",
       "      <td>1171</td>\n",
       "      <td>10814</td>\n",
       "      <td>2008-07-04 19:40:06.000000</td>\n",
       "      <td>1498792472608219144</td>\n",
       "      <td>2022-03-01 22:49:06</td>\n",
       "      <td>12017</td>\n",
       "      <td>My sister was trapped in #Ukraine. This is a t...</td>\n",
       "      <td>[{'text': 'Ukraine', 'indices': [39, 47]}, {'t...</td>\n",
       "      <td>en</td>\n",
       "      <td>NaN</td>\n",
       "      <td>0</td>\n",
       "      <td>2022-03-01 22:50:54.814755</td>\n",
       "    </tr>\n",
       "  </tbody>\n",
       "</table>\n",
       "</div>"
      ],
      "text/plain": [
       "        Unnamed: 0               userid    username  \\\n",
       "285999      435211             47541189      toddxz   \n",
       "408432      557644   827828628469723136   Burak9100   \n",
       "938         150150   920645671128059904    noir_a_m   \n",
       "255277      404489  1498599316830699520    UButakov   \n",
       "397244      546456             15320390  belleirene   \n",
       "\n",
       "                                                 acctdesc  \\\n",
       "285999  Blogger, Writer, Gamer, movie buff, music fan,...   \n",
       "408432                                                NaN   \n",
       "938     she/they. 25. #savelucifer veteran, #cloneclub...   \n",
       "255277                                                NaN   \n",
       "397244  Voice, Accent & Acting @mtu_csm & self, Craic ...   \n",
       "\n",
       "                          location  following  followers  totaltweets  \\\n",
       "285999           the southwest usa        235        181        62505   \n",
       "408432                         NaN       2709        846        77600   \n",
       "938     pain: despair and baguette        252         29         8509   \n",
       "255277                         NaN          1          0          386   \n",
       "397244               Cork, Ireland        751       1171        10814   \n",
       "\n",
       "                     usercreatedts              tweetid       tweetcreatedts  \\\n",
       "285999  2009-06-16 04:22:53.000000  1498697283365310467  2022-03-01 16:30:51   \n",
       "408432  2017-02-04 10:38:20.000000  1498803868762845187  2022-03-01 23:34:23   \n",
       "938     2017-10-18 13:40:07.000000  1498448162582839296  2022-03-01 00:00:56   \n",
       "255277  2022-03-01 10:01:51.000000  1498670850425466884  2022-03-01 14:45:49   \n",
       "397244  2008-07-04 19:40:06.000000  1498792472608219144  2022-03-01 22:49:06   \n",
       "\n",
       "        retweetcount                                               text  \\\n",
       "285999             0  '40-Mile Long' Russian Military Convoy Approac...   \n",
       "408432         12739  My sister was trapped in #Ukraine. This is a t...   \n",
       "938            13007  President @ZelenskyyUa has signed application ...   \n",
       "255277             0  @PrezidentZeman STOP RUSSIAN AGGRESSION AGAINS...   \n",
       "397244         12017  My sister was trapped in #Ukraine. This is a t...   \n",
       "\n",
       "                                                 hashtags language  \\\n",
       "285999  [{'text': 'RussiaUkraineWar', 'indices': [105,...       en   \n",
       "408432  [{'text': 'Ukraine', 'indices': [39, 47]}, {'t...       en   \n",
       "938            [{'text': 'Ukraine', 'indices': [87, 95]}]       en   \n",
       "255277  [{'text': 'UKRAINE', 'indices': [48, 56]}, {'t...       en   \n",
       "397244  [{'text': 'Ukraine', 'indices': [39, 47]}, {'t...       en   \n",
       "\n",
       "       coordinates  favorite_count                 extractedts  \n",
       "285999         NaN               0  2022-03-01 16:31:40.793873  \n",
       "408432         NaN               0  2022-03-01 23:35:56.567833  \n",
       "938            NaN               0  2022-03-01 00:02:33.589113  \n",
       "255277         NaN               0  2022-03-01 14:46:36.876259  \n",
       "397244         NaN               0  2022-03-01 22:50:54.814755  "
      ]
     },
     "execution_count": 55,
     "metadata": {},
     "output_type": "execute_result"
    }
   ],
   "source": [
    "smaller_mar01.head()"
   ]
  },
  {
   "cell_type": "code",
   "execution_count": 58,
   "id": "ace90f79",
   "metadata": {},
   "outputs": [],
   "source": [
    "smaller_mar01 = smaller_mar01.reset_index()"
   ]
  },
  {
   "cell_type": "code",
   "execution_count": 59,
   "id": "0c1904ae",
   "metadata": {},
   "outputs": [
    {
     "data": {
      "text/html": [
       "<div>\n",
       "<style scoped>\n",
       "    .dataframe tbody tr th:only-of-type {\n",
       "        vertical-align: middle;\n",
       "    }\n",
       "\n",
       "    .dataframe tbody tr th {\n",
       "        vertical-align: top;\n",
       "    }\n",
       "\n",
       "    .dataframe thead th {\n",
       "        text-align: right;\n",
       "    }\n",
       "</style>\n",
       "<table border=\"1\" class=\"dataframe\">\n",
       "  <thead>\n",
       "    <tr style=\"text-align: right;\">\n",
       "      <th></th>\n",
       "      <th>index</th>\n",
       "      <th>Unnamed: 0</th>\n",
       "      <th>userid</th>\n",
       "      <th>username</th>\n",
       "      <th>acctdesc</th>\n",
       "      <th>location</th>\n",
       "      <th>following</th>\n",
       "      <th>followers</th>\n",
       "      <th>totaltweets</th>\n",
       "      <th>usercreatedts</th>\n",
       "      <th>tweetid</th>\n",
       "      <th>tweetcreatedts</th>\n",
       "      <th>retweetcount</th>\n",
       "      <th>text</th>\n",
       "      <th>hashtags</th>\n",
       "      <th>language</th>\n",
       "      <th>coordinates</th>\n",
       "      <th>favorite_count</th>\n",
       "      <th>extractedts</th>\n",
       "    </tr>\n",
       "  </thead>\n",
       "  <tbody>\n",
       "    <tr>\n",
       "      <th>0</th>\n",
       "      <td>285999</td>\n",
       "      <td>435211</td>\n",
       "      <td>47541189</td>\n",
       "      <td>toddxz</td>\n",
       "      <td>Blogger, Writer, Gamer, movie buff, music fan,...</td>\n",
       "      <td>the southwest usa</td>\n",
       "      <td>235</td>\n",
       "      <td>181</td>\n",
       "      <td>62505</td>\n",
       "      <td>2009-06-16 04:22:53.000000</td>\n",
       "      <td>1498697283365310467</td>\n",
       "      <td>2022-03-01 16:30:51</td>\n",
       "      <td>0</td>\n",
       "      <td>'40-Mile Long' Russian Military Convoy Approac...</td>\n",
       "      <td>[{'text': 'RussiaUkraineWar', 'indices': [105,...</td>\n",
       "      <td>en</td>\n",
       "      <td>NaN</td>\n",
       "      <td>0</td>\n",
       "      <td>2022-03-01 16:31:40.793873</td>\n",
       "    </tr>\n",
       "    <tr>\n",
       "      <th>1</th>\n",
       "      <td>408432</td>\n",
       "      <td>557644</td>\n",
       "      <td>827828628469723136</td>\n",
       "      <td>Burak9100</td>\n",
       "      <td>NaN</td>\n",
       "      <td>NaN</td>\n",
       "      <td>2709</td>\n",
       "      <td>846</td>\n",
       "      <td>77600</td>\n",
       "      <td>2017-02-04 10:38:20.000000</td>\n",
       "      <td>1498803868762845187</td>\n",
       "      <td>2022-03-01 23:34:23</td>\n",
       "      <td>12739</td>\n",
       "      <td>My sister was trapped in #Ukraine. This is a t...</td>\n",
       "      <td>[{'text': 'Ukraine', 'indices': [39, 47]}, {'t...</td>\n",
       "      <td>en</td>\n",
       "      <td>NaN</td>\n",
       "      <td>0</td>\n",
       "      <td>2022-03-01 23:35:56.567833</td>\n",
       "    </tr>\n",
       "    <tr>\n",
       "      <th>2</th>\n",
       "      <td>938</td>\n",
       "      <td>150150</td>\n",
       "      <td>920645671128059904</td>\n",
       "      <td>noir_a_m</td>\n",
       "      <td>she/they. 25. #savelucifer veteran, #cloneclub...</td>\n",
       "      <td>pain: despair and baguette</td>\n",
       "      <td>252</td>\n",
       "      <td>29</td>\n",
       "      <td>8509</td>\n",
       "      <td>2017-10-18 13:40:07.000000</td>\n",
       "      <td>1498448162582839296</td>\n",
       "      <td>2022-03-01 00:00:56</td>\n",
       "      <td>13007</td>\n",
       "      <td>President @ZelenskyyUa has signed application ...</td>\n",
       "      <td>[{'text': 'Ukraine', 'indices': [87, 95]}]</td>\n",
       "      <td>en</td>\n",
       "      <td>NaN</td>\n",
       "      <td>0</td>\n",
       "      <td>2022-03-01 00:02:33.589113</td>\n",
       "    </tr>\n",
       "    <tr>\n",
       "      <th>3</th>\n",
       "      <td>255277</td>\n",
       "      <td>404489</td>\n",
       "      <td>1498599316830699520</td>\n",
       "      <td>UButakov</td>\n",
       "      <td>NaN</td>\n",
       "      <td>NaN</td>\n",
       "      <td>1</td>\n",
       "      <td>0</td>\n",
       "      <td>386</td>\n",
       "      <td>2022-03-01 10:01:51.000000</td>\n",
       "      <td>1498670850425466884</td>\n",
       "      <td>2022-03-01 14:45:49</td>\n",
       "      <td>0</td>\n",
       "      <td>@PrezidentZeman STOP RUSSIAN AGGRESSION AGAINS...</td>\n",
       "      <td>[{'text': 'UKRAINE', 'indices': [48, 56]}, {'t...</td>\n",
       "      <td>en</td>\n",
       "      <td>NaN</td>\n",
       "      <td>0</td>\n",
       "      <td>2022-03-01 14:46:36.876259</td>\n",
       "    </tr>\n",
       "    <tr>\n",
       "      <th>4</th>\n",
       "      <td>397244</td>\n",
       "      <td>546456</td>\n",
       "      <td>15320390</td>\n",
       "      <td>belleirene</td>\n",
       "      <td>Voice, Accent &amp; Acting @mtu_csm &amp; self, Craic ...</td>\n",
       "      <td>Cork, Ireland</td>\n",
       "      <td>751</td>\n",
       "      <td>1171</td>\n",
       "      <td>10814</td>\n",
       "      <td>2008-07-04 19:40:06.000000</td>\n",
       "      <td>1498792472608219144</td>\n",
       "      <td>2022-03-01 22:49:06</td>\n",
       "      <td>12017</td>\n",
       "      <td>My sister was trapped in #Ukraine. This is a t...</td>\n",
       "      <td>[{'text': 'Ukraine', 'indices': [39, 47]}, {'t...</td>\n",
       "      <td>en</td>\n",
       "      <td>NaN</td>\n",
       "      <td>0</td>\n",
       "      <td>2022-03-01 22:50:54.814755</td>\n",
       "    </tr>\n",
       "  </tbody>\n",
       "</table>\n",
       "</div>"
      ],
      "text/plain": [
       "    index  Unnamed: 0               userid    username  \\\n",
       "0  285999      435211             47541189      toddxz   \n",
       "1  408432      557644   827828628469723136   Burak9100   \n",
       "2     938      150150   920645671128059904    noir_a_m   \n",
       "3  255277      404489  1498599316830699520    UButakov   \n",
       "4  397244      546456             15320390  belleirene   \n",
       "\n",
       "                                            acctdesc  \\\n",
       "0  Blogger, Writer, Gamer, movie buff, music fan,...   \n",
       "1                                                NaN   \n",
       "2  she/they. 25. #savelucifer veteran, #cloneclub...   \n",
       "3                                                NaN   \n",
       "4  Voice, Accent & Acting @mtu_csm & self, Craic ...   \n",
       "\n",
       "                     location  following  followers  totaltweets  \\\n",
       "0           the southwest usa        235        181        62505   \n",
       "1                         NaN       2709        846        77600   \n",
       "2  pain: despair and baguette        252         29         8509   \n",
       "3                         NaN          1          0          386   \n",
       "4               Cork, Ireland        751       1171        10814   \n",
       "\n",
       "                usercreatedts              tweetid       tweetcreatedts  \\\n",
       "0  2009-06-16 04:22:53.000000  1498697283365310467  2022-03-01 16:30:51   \n",
       "1  2017-02-04 10:38:20.000000  1498803868762845187  2022-03-01 23:34:23   \n",
       "2  2017-10-18 13:40:07.000000  1498448162582839296  2022-03-01 00:00:56   \n",
       "3  2022-03-01 10:01:51.000000  1498670850425466884  2022-03-01 14:45:49   \n",
       "4  2008-07-04 19:40:06.000000  1498792472608219144  2022-03-01 22:49:06   \n",
       "\n",
       "   retweetcount                                               text  \\\n",
       "0             0  '40-Mile Long' Russian Military Convoy Approac...   \n",
       "1         12739  My sister was trapped in #Ukraine. This is a t...   \n",
       "2         13007  President @ZelenskyyUa has signed application ...   \n",
       "3             0  @PrezidentZeman STOP RUSSIAN AGGRESSION AGAINS...   \n",
       "4         12017  My sister was trapped in #Ukraine. This is a t...   \n",
       "\n",
       "                                            hashtags language coordinates  \\\n",
       "0  [{'text': 'RussiaUkraineWar', 'indices': [105,...       en         NaN   \n",
       "1  [{'text': 'Ukraine', 'indices': [39, 47]}, {'t...       en         NaN   \n",
       "2         [{'text': 'Ukraine', 'indices': [87, 95]}]       en         NaN   \n",
       "3  [{'text': 'UKRAINE', 'indices': [48, 56]}, {'t...       en         NaN   \n",
       "4  [{'text': 'Ukraine', 'indices': [39, 47]}, {'t...       en         NaN   \n",
       "\n",
       "   favorite_count                 extractedts  \n",
       "0               0  2022-03-01 16:31:40.793873  \n",
       "1               0  2022-03-01 23:35:56.567833  \n",
       "2               0  2022-03-01 00:02:33.589113  \n",
       "3               0  2022-03-01 14:46:36.876259  \n",
       "4               0  2022-03-01 22:50:54.814755  "
      ]
     },
     "execution_count": 59,
     "metadata": {},
     "output_type": "execute_result"
    }
   ],
   "source": [
    "smaller_mar01.head()"
   ]
  },
  {
   "cell_type": "code",
   "execution_count": 60,
   "id": "10132e44",
   "metadata": {},
   "outputs": [
    {
     "name": "stderr",
     "output_type": "stream",
     "text": [
      "/var/folders/6l/6tcwml6d7hqb9tfsn7kf5z6r0000gn/T/ipykernel_14023/2792148299.py:4: SettingWithCopyWarning: \n",
      "A value is trying to be set on a copy of a slice from a DataFrame\n",
      "\n",
      "See the caveats in the documentation: https://pandas.pydata.org/pandas-docs/stable/user_guide/indexing.html#returning-a-view-versus-a-copy\n",
      "  docs[i]= re.sub(r'http\\S+', '', docs[i])\n"
     ]
    }
   ],
   "source": [
    "test = remove_http(smaller_mar01)"
   ]
  },
  {
   "cell_type": "code",
   "execution_count": 69,
   "id": "4c7671cc",
   "metadata": {},
   "outputs": [],
   "source": [
    "mar01_docs = test"
   ]
  },
  {
   "cell_type": "code",
   "execution_count": 68,
   "id": "55d4daaa",
   "metadata": {},
   "outputs": [
    {
     "name": "stderr",
     "output_type": "stream",
     "text": [
      "/var/folders/6l/6tcwml6d7hqb9tfsn7kf5z6r0000gn/T/ipykernel_14023/2792148299.py:4: SettingWithCopyWarning: \n",
      "A value is trying to be set on a copy of a slice from a DataFrame\n",
      "\n",
      "See the caveats in the documentation: https://pandas.pydata.org/pandas-docs/stable/user_guide/indexing.html#returning-a-view-versus-a-copy\n",
      "  docs[i]= re.sub(r'http\\S+', '', docs[i])\n",
      "/var/folders/6l/6tcwml6d7hqb9tfsn7kf5z6r0000gn/T/ipykernel_14023/2792148299.py:4: SettingWithCopyWarning: \n",
      "A value is trying to be set on a copy of a slice from a DataFrame\n",
      "\n",
      "See the caveats in the documentation: https://pandas.pydata.org/pandas-docs/stable/user_guide/indexing.html#returning-a-view-versus-a-copy\n",
      "  docs[i]= re.sub(r'http\\S+', '', docs[i])\n",
      "/var/folders/6l/6tcwml6d7hqb9tfsn7kf5z6r0000gn/T/ipykernel_14023/2792148299.py:4: SettingWithCopyWarning: \n",
      "A value is trying to be set on a copy of a slice from a DataFrame\n",
      "\n",
      "See the caveats in the documentation: https://pandas.pydata.org/pandas-docs/stable/user_guide/indexing.html#returning-a-view-versus-a-copy\n",
      "  docs[i]= re.sub(r'http\\S+', '', docs[i])\n",
      "/var/folders/6l/6tcwml6d7hqb9tfsn7kf5z6r0000gn/T/ipykernel_14023/2792148299.py:4: SettingWithCopyWarning: \n",
      "A value is trying to be set on a copy of a slice from a DataFrame\n",
      "\n",
      "See the caveats in the documentation: https://pandas.pydata.org/pandas-docs/stable/user_guide/indexing.html#returning-a-view-versus-a-copy\n",
      "  docs[i]= re.sub(r'http\\S+', '', docs[i])\n",
      "/var/folders/6l/6tcwml6d7hqb9tfsn7kf5z6r0000gn/T/ipykernel_14023/2792148299.py:4: SettingWithCopyWarning: \n",
      "A value is trying to be set on a copy of a slice from a DataFrame\n",
      "\n",
      "See the caveats in the documentation: https://pandas.pydata.org/pandas-docs/stable/user_guide/indexing.html#returning-a-view-versus-a-copy\n",
      "  docs[i]= re.sub(r'http\\S+', '', docs[i])\n"
     ]
    }
   ],
   "source": [
    "smaller_mar13 = mar13.sample(n = 100000, random_state = 17)\n",
    "smaller_mar13 = smaller_mar13.reset_index()\n",
    "mar13_docs = remove_http(smaller_mar13)\n",
    "\n",
    "smaller_mar15 = mar15.sample(n = 100000, random_state = 17)\n",
    "smaller_mar15 = smaller_mar15.reset_index()\n",
    "mar15_docs = remove_http(smaller_mar15)\n",
    "\n",
    "smaller_mar16 = mar16.sample(n = 100000, random_state = 17)\n",
    "smaller_mar16 = smaller_mar16.reset_index()\n",
    "mar16_docs = remove_http(smaller_mar16)\n",
    "\n",
    "smaller_apr03 = apr03.sample(n = 100000, random_state = 17)\n",
    "smaller_apr03 = smaller_apr03.reset_index()\n",
    "apr03_docs = remove_http(smaller_apr03)\n",
    "\n",
    "smaller_apr08 = apr08.sample(n = 100000, random_state = 17)\n",
    "smaller_apr08 = smaller_apr08.reset_index()\n",
    "apr08_docs = remove_http(smaller_apr08)"
   ]
  },
  {
   "cell_type": "code",
   "execution_count": 118,
   "id": "01cf9592",
   "metadata": {},
   "outputs": [],
   "source": [
    "def remove(df):\n",
    "    docs = df.text\n",
    "    for i in range(0,len(docs)):\n",
    "        docs[i]= re.sub(r\"http\\S+\", \"\", docs[i])\n",
    "        docs[i]= re.sub(r\"\\n\",\"\", docs[i])\n",
    "        docs[i]= re.sub(r\"#\",\"\", docs[i])\n",
    "    return docs"
   ]
  },
  {
   "cell_type": "code",
   "execution_count": 119,
   "id": "7fbefdec",
   "metadata": {},
   "outputs": [
    {
     "name": "stderr",
     "output_type": "stream",
     "text": [
      "/var/folders/6l/6tcwml6d7hqb9tfsn7kf5z6r0000gn/T/ipykernel_14023/362137062.py:4: SettingWithCopyWarning: \n",
      "A value is trying to be set on a copy of a slice from a DataFrame\n",
      "\n",
      "See the caveats in the documentation: https://pandas.pydata.org/pandas-docs/stable/user_guide/indexing.html#returning-a-view-versus-a-copy\n",
      "  docs[i]= re.sub(r\"http\\S+\", \"\", docs[i])\n",
      "/var/folders/6l/6tcwml6d7hqb9tfsn7kf5z6r0000gn/T/ipykernel_14023/362137062.py:5: SettingWithCopyWarning: \n",
      "A value is trying to be set on a copy of a slice from a DataFrame\n",
      "\n",
      "See the caveats in the documentation: https://pandas.pydata.org/pandas-docs/stable/user_guide/indexing.html#returning-a-view-versus-a-copy\n",
      "  docs[i]= re.sub(r\"\\n\",\"\", docs[i])\n",
      "/var/folders/6l/6tcwml6d7hqb9tfsn7kf5z6r0000gn/T/ipykernel_14023/362137062.py:6: SettingWithCopyWarning: \n",
      "A value is trying to be set on a copy of a slice from a DataFrame\n",
      "\n",
      "See the caveats in the documentation: https://pandas.pydata.org/pandas-docs/stable/user_guide/indexing.html#returning-a-view-versus-a-copy\n",
      "  docs[i]= re.sub(r\"#\",\"\", docs[i])\n"
     ]
    }
   ],
   "source": [
    "test_apr08 = apr08.sample(n = 100000, random_state = 50)\n",
    "test_apr08 = test_apr08.reset_index()\n",
    "test_apr08_docs = remove(test_apr08)\n",
    "df_file = \"test_apr08.pickle\"   \n",
    "save_df = open(df_file,\"wb\")\n",
    "pickle.dump(test_apr08_docs, save_df)          \n",
    "save_df.close()"
   ]
  },
  {
   "cell_type": "code",
   "execution_count": 70,
   "id": "88b8d7c9",
   "metadata": {},
   "outputs": [],
   "source": [
    "df_file = \"mar01.pickle\"   \n",
    "save_df = open(df_file,\"wb\")\n",
    "pickle.dump(mar01_docs, save_df)          \n",
    "save_df.close()"
   ]
  },
  {
   "cell_type": "code",
   "execution_count": 71,
   "id": "c2c6745c",
   "metadata": {},
   "outputs": [],
   "source": [
    "df_file = \"mar13.pickle\"   \n",
    "save_df = open(df_file,\"wb\")\n",
    "pickle.dump(mar13_docs, save_df)          \n",
    "save_df.close()\n",
    "df_file = \"mar15.pickle\"   \n",
    "save_df = open(df_file,\"wb\")\n",
    "pickle.dump(mar15_docs, save_df)          \n",
    "save_df.close()\n",
    "df_file = \"mar16.pickle\"   \n",
    "save_df = open(df_file,\"wb\")\n",
    "pickle.dump(mar16_docs, save_df)          \n",
    "save_df.close()\n",
    "df_file = \"apr03.pickle\"   \n",
    "save_df = open(df_file,\"wb\")\n",
    "pickle.dump(apr03_docs, save_df)          \n",
    "save_df.close()\n",
    "df_file = \"apr08.pickle\"   \n",
    "save_df = open(df_file,\"wb\")\n",
    "pickle.dump(apr08_docs, save_df)          \n",
    "save_df.close()\n"
   ]
  },
  {
   "cell_type": "code",
   "execution_count": 73,
   "id": "6203d9bc",
   "metadata": {},
   "outputs": [
    {
     "data": {
      "text/plain": [
       "'.@peta urges government to rescue student along with his companion dog amid the #UkraineRussiaWar \\n\\n@PetaIndia | #PETA #UkraineUnderAttack #UkraineWar\\n\\n'"
      ]
     },
     "execution_count": 73,
     "metadata": {},
     "output_type": "execute_result"
    }
   ],
   "source": [
    "a"
   ]
  },
  {
   "cell_type": "code",
   "execution_count": 76,
   "id": "0282cb49",
   "metadata": {},
   "outputs": [],
   "source": [
    "a = re.sub(r\"\\n\",\"\",a)"
   ]
  },
  {
   "cell_type": "code",
   "execution_count": 77,
   "id": "5ca7370d",
   "metadata": {},
   "outputs": [
    {
     "data": {
      "text/plain": [
       "'.@peta urges government to rescue student along with his companion dog amid the #UkraineRussiaWar @PetaIndia | #PETA #UkraineUnderAttack #UkraineWar'"
      ]
     },
     "execution_count": 77,
     "metadata": {},
     "output_type": "execute_result"
    }
   ],
   "source": [
    "a"
   ]
  },
  {
   "cell_type": "code",
   "execution_count": 82,
   "id": "14ed7bf1",
   "metadata": {},
   "outputs": [],
   "source": [
    "def remove_nl(docs):\n",
    "    \n",
    "    for i in range(0,len(docs)):\n",
    "        docs[i]= re.sub(r\"\\n\",\"\", docs[i])\n",
    "    return docs"
   ]
  },
  {
   "cell_type": "code",
   "execution_count": 81,
   "id": "8c34fe51",
   "metadata": {},
   "outputs": [
    {
     "data": {
      "text/plain": [
       "\"'40-Mile Long' Russian Military Convoy Approaching Ukraine Capital  via @YouTube #RussiaUkraineWar\""
      ]
     },
     "execution_count": 81,
     "metadata": {},
     "output_type": "execute_result"
    }
   ],
   "source": [
    "re.sub(r\"\\n\",\"\",mar01_docs[0])"
   ]
  },
  {
   "cell_type": "code",
   "execution_count": 83,
   "id": "b21fbf3a",
   "metadata": {},
   "outputs": [
    {
     "name": "stderr",
     "output_type": "stream",
     "text": [
      "/var/folders/6l/6tcwml6d7hqb9tfsn7kf5z6r0000gn/T/ipykernel_14023/359623102.py:4: SettingWithCopyWarning: \n",
      "A value is trying to be set on a copy of a slice from a DataFrame\n",
      "\n",
      "See the caveats in the documentation: https://pandas.pydata.org/pandas-docs/stable/user_guide/indexing.html#returning-a-view-versus-a-copy\n",
      "  docs[i]= re.sub(r\"\\n\",\"\", docs[i])\n"
     ]
    }
   ],
   "source": [
    "mar01_docs = remove_nl(mar01_docs)\n",
    "mar13_docs = remove_nl(mar13_docs)\n",
    "mar15_docs = remove_nl(mar15_docs)\n",
    "mar16_docs = remove_nl(mar16_docs)\n",
    "apr03_docs = remove_nl(apr03_docs)\n",
    "apr08_docs = remove_nl(apr08_docs)\n"
   ]
  },
  {
   "cell_type": "code",
   "execution_count": 85,
   "id": "232608e5",
   "metadata": {},
   "outputs": [],
   "source": [
    "def remove_hash(docs):\n",
    "    \n",
    "    for i in range(0,len(docs)):\n",
    "        docs[i]= re.sub(r\"#\",\"\", docs[i])\n",
    "    return docs"
   ]
  },
  {
   "cell_type": "code",
   "execution_count": 86,
   "id": "679418d2",
   "metadata": {},
   "outputs": [
    {
     "name": "stderr",
     "output_type": "stream",
     "text": [
      "/var/folders/6l/6tcwml6d7hqb9tfsn7kf5z6r0000gn/T/ipykernel_14023/3428577527.py:4: SettingWithCopyWarning: \n",
      "A value is trying to be set on a copy of a slice from a DataFrame\n",
      "\n",
      "See the caveats in the documentation: https://pandas.pydata.org/pandas-docs/stable/user_guide/indexing.html#returning-a-view-versus-a-copy\n",
      "  docs[i]= re.sub(r\"#\",\"\", docs[i])\n"
     ]
    }
   ],
   "source": [
    "mar01_docs = remove_hash(mar01_docs)\n",
    "mar13_docs = remove_hash(mar13_docs)\n",
    "mar15_docs = remove_hash(mar15_docs)\n",
    "mar16_docs = remove_hash(mar16_docs)\n",
    "apr03_docs = remove_hash(apr03_docs)\n",
    "apr08_docs = remove_hash(apr08_docs)"
   ]
  },
  {
   "cell_type": "code",
   "execution_count": 87,
   "id": "70d765cd",
   "metadata": {},
   "outputs": [],
   "source": [
    "df_file = \"mar01.pickle\"   \n",
    "save_df = open(df_file,\"wb\")\n",
    "pickle.dump(mar01_docs, save_df)          \n",
    "save_df.close()\n",
    "df_file = \"mar13.pickle\"   \n",
    "save_df = open(df_file,\"wb\")\n",
    "pickle.dump(mar13_docs, save_df)          \n",
    "save_df.close()\n",
    "df_file = \"mar15.pickle\"   \n",
    "save_df = open(df_file,\"wb\")\n",
    "pickle.dump(mar15_docs, save_df)          \n",
    "save_df.close()\n",
    "df_file = \"mar16.pickle\"   \n",
    "save_df = open(df_file,\"wb\")\n",
    "pickle.dump(mar16_docs, save_df)          \n",
    "save_df.close()\n",
    "df_file = \"apr03.pickle\"   \n",
    "save_df = open(df_file,\"wb\")\n",
    "pickle.dump(apr03_docs, save_df)          \n",
    "save_df.close()\n",
    "df_file = \"apr08.pickle\"   \n",
    "save_df = open(df_file,\"wb\")\n",
    "pickle.dump(apr08_docs, save_df)          \n",
    "save_df.close()"
   ]
  },
  {
   "cell_type": "code",
   "execution_count": 107,
   "id": "ef831f47",
   "metadata": {},
   "outputs": [],
   "source": [
    "import nltk\n",
    "\n",
    "from nltk.corpus import stopwords\n",
    "from nltk.tokenize import word_tokenize\n",
    "from nltk.stem import PorterStemmer"
   ]
  },
  {
   "cell_type": "code",
   "execution_count": 95,
   "id": "c32f0379",
   "metadata": {},
   "outputs": [],
   "source": [
    "stopword_list = stopwords.words('english')"
   ]
  },
  {
   "cell_type": "code",
   "execution_count": 96,
   "id": "ebd68da5",
   "metadata": {},
   "outputs": [
    {
     "data": {
      "text/plain": [
       "list"
      ]
     },
     "execution_count": 96,
     "metadata": {},
     "output_type": "execute_result"
    }
   ],
   "source": [
    "type(stopword_list)"
   ]
  },
  {
   "cell_type": "code",
   "execution_count": 97,
   "id": "3014644c",
   "metadata": {},
   "outputs": [],
   "source": [
    "stopword_list.append(\"amp\")"
   ]
  },
  {
   "cell_type": "code",
   "execution_count": 109,
   "id": "5ca20e20",
   "metadata": {},
   "outputs": [],
   "source": [
    "def token_stop(docs):\n",
    "    for i in range(0,len(docs)):\n",
    "        tokens=word_tokenize(docs[i])\n",
    "        removed=[w for w in tokens if not w.lower() in stopword_list]\n",
    "        docs[i]=\" \".join([w for w in removed])\n",
    "        \n",
    "    return docs"
   ]
  },
  {
   "cell_type": "code",
   "execution_count": 110,
   "id": "e6143483",
   "metadata": {},
   "outputs": [
    {
     "name": "stderr",
     "output_type": "stream",
     "text": [
      "/var/folders/6l/6tcwml6d7hqb9tfsn7kf5z6r0000gn/T/ipykernel_14023/2630452412.py:5: SettingWithCopyWarning: \n",
      "A value is trying to be set on a copy of a slice from a DataFrame\n",
      "\n",
      "See the caveats in the documentation: https://pandas.pydata.org/pandas-docs/stable/user_guide/indexing.html#returning-a-view-versus-a-copy\n",
      "  docs[i]=\" \".join([w for w in removed])\n"
     ]
    }
   ],
   "source": [
    "token_mar01 = token_stop(mar01_docs)"
   ]
  },
  {
   "cell_type": "code",
   "execution_count": 113,
   "id": "351b250e",
   "metadata": {},
   "outputs": [],
   "source": [
    "df_file = \"mar01token.pickle\"   \n",
    "save_df = open(df_file,\"wb\")\n",
    "pickle.dump(token_mar01, save_df)          \n",
    "save_df.close()\n"
   ]
  },
  {
   "cell_type": "code",
   "execution_count": 114,
   "id": "223b31a1",
   "metadata": {},
   "outputs": [
    {
     "name": "stderr",
     "output_type": "stream",
     "text": [
      "/var/folders/6l/6tcwml6d7hqb9tfsn7kf5z6r0000gn/T/ipykernel_14023/2630452412.py:5: SettingWithCopyWarning: \n",
      "A value is trying to be set on a copy of a slice from a DataFrame\n",
      "\n",
      "See the caveats in the documentation: https://pandas.pydata.org/pandas-docs/stable/user_guide/indexing.html#returning-a-view-versus-a-copy\n",
      "  docs[i]=\" \".join([w for w in removed])\n"
     ]
    }
   ],
   "source": [
    "token_mar13 = token_stop(mar13_docs)\n",
    "df_file = \"mar13token.pickle\"   \n",
    "save_df = open(df_file,\"wb\")\n",
    "pickle.dump(token_mar13, save_df)          \n",
    "save_df.close()"
   ]
  },
  {
   "cell_type": "code",
   "execution_count": 115,
   "id": "d04a1bc9",
   "metadata": {},
   "outputs": [
    {
     "name": "stderr",
     "output_type": "stream",
     "text": [
      "/var/folders/6l/6tcwml6d7hqb9tfsn7kf5z6r0000gn/T/ipykernel_14023/2630452412.py:5: SettingWithCopyWarning: \n",
      "A value is trying to be set on a copy of a slice from a DataFrame\n",
      "\n",
      "See the caveats in the documentation: https://pandas.pydata.org/pandas-docs/stable/user_guide/indexing.html#returning-a-view-versus-a-copy\n",
      "  docs[i]=\" \".join([w for w in removed])\n"
     ]
    }
   ],
   "source": [
    "token_mar15 = token_stop(mar15_docs)\n",
    "token_mar16 = token_stop(mar16_docs)\n",
    "token_apr03 = token_stop(apr03_docs)\n",
    "token_apr08 = token_stop(apr08_docs)"
   ]
  },
  {
   "cell_type": "code",
   "execution_count": 116,
   "id": "345738af",
   "metadata": {},
   "outputs": [],
   "source": [
    "df_file = \"mar15token.pickle\"   \n",
    "save_df = open(df_file,\"wb\")\n",
    "pickle.dump(token_mar15, save_df)          \n",
    "save_df.close()\n",
    "df_file = \"mar16token.pickle\"   \n",
    "save_df = open(df_file,\"wb\")\n",
    "pickle.dump(token_mar16, save_df)          \n",
    "save_df.close()\n",
    "df_file = \"apr03token.pickle\"   \n",
    "save_df = open(df_file,\"wb\")\n",
    "pickle.dump(token_apr03, save_df)          \n",
    "save_df.close()\n",
    "df_file = \"apr08token.pickle\"   \n",
    "save_df = open(df_file,\"wb\")\n",
    "pickle.dump(token_apr08, save_df)          \n",
    "save_df.close()"
   ]
  },
  {
   "cell_type": "code",
   "execution_count": 117,
   "id": "8ae79aa4",
   "metadata": {},
   "outputs": [
    {
     "name": "stderr",
     "output_type": "stream",
     "text": [
      "/var/folders/6l/6tcwml6d7hqb9tfsn7kf5z6r0000gn/T/ipykernel_14023/2792148299.py:4: SettingWithCopyWarning: \n",
      "A value is trying to be set on a copy of a slice from a DataFrame\n",
      "\n",
      "See the caveats in the documentation: https://pandas.pydata.org/pandas-docs/stable/user_guide/indexing.html#returning-a-view-versus-a-copy\n",
      "  docs[i]= re.sub(r'http\\S+', '', docs[i])\n",
      "/var/folders/6l/6tcwml6d7hqb9tfsn7kf5z6r0000gn/T/ipykernel_14023/2630452412.py:5: SettingWithCopyWarning: \n",
      "A value is trying to be set on a copy of a slice from a DataFrame\n",
      "\n",
      "See the caveats in the documentation: https://pandas.pydata.org/pandas-docs/stable/user_guide/indexing.html#returning-a-view-versus-a-copy\n",
      "  docs[i]=\" \".join([w for w in removed])\n"
     ]
    }
   ],
   "source": [
    "feb = pd.read_pickle(r\"df.pickle\")\n",
    "eng_feb = feb[(feb[\"language\"] == \"en\")]\n",
    "smaller_feb = eng_feb.sample(n = 100000, random_state = 17)\n",
    "smaller_feb = smaller_feb.reset_index()\n",
    "feb_docs = remove_http(smaller_feb)\n",
    "feb_docs = remove_nl(feb_docs)\n",
    "feb_docs = remove_hash(feb_docs)\n",
    "\n",
    "df_file = \"feb.pickle\"   \n",
    "save_df = open(df_file,\"wb\")\n",
    "pickle.dump(feb_docs, save_df)          \n",
    "save_df.close()\n",
    "\n",
    "token_feb = token_stop(feb_docs)\n",
    "\n",
    "df_file = \"febtoken.pickle\"   \n",
    "save_df = open(df_file,\"wb\")\n",
    "pickle.dump(token_feb, save_df)          \n",
    "save_df.close()"
   ]
  },
  {
   "cell_type": "code",
   "execution_count": null,
   "id": "dd68a757",
   "metadata": {},
   "outputs": [],
   "source": []
  }
 ],
 "metadata": {
  "kernelspec": {
   "display_name": "Python [conda env:metis] *",
   "language": "python",
   "name": "conda-env-metis-py"
  },
  "language_info": {
   "codemirror_mode": {
    "name": "ipython",
    "version": 3
   },
   "file_extension": ".py",
   "mimetype": "text/x-python",
   "name": "python",
   "nbconvert_exporter": "python",
   "pygments_lexer": "ipython3",
   "version": "3.9.7"
  }
 },
 "nbformat": 4,
 "nbformat_minor": 5
}

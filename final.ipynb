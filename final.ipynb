{
 "cells": [
  {
   "cell_type": "code",
   "execution_count": 1,
   "id": "eee1e070",
   "metadata": {},
   "outputs": [],
   "source": [
    "import os\n",
    "import glob\n",
    "import numpy as np\n",
    "import pandas as pd\n",
    "import pickle\n",
    "from sklearn.feature_extraction.text import TfidfVectorizer, CountVectorizer\n",
    "import re"
   ]
  },
  {
   "cell_type": "code",
   "execution_count": 2,
   "id": "60615dcb",
   "metadata": {},
   "outputs": [],
   "source": [
    "from vaderSentiment.vaderSentiment import SentimentIntensityAnalyzer"
   ]
  },
  {
   "cell_type": "code",
   "execution_count": 13,
   "id": "9fbb210a",
   "metadata": {},
   "outputs": [],
   "source": [
    "from matplotlib import pyplot as plt"
   ]
  },
  {
   "cell_type": "code",
   "execution_count": 50,
   "id": "06db7410",
   "metadata": {},
   "outputs": [],
   "source": [
    "import scattertext as st"
   ]
  },
  {
   "cell_type": "code",
   "execution_count": null,
   "id": "b6016d0e",
   "metadata": {},
   "outputs": [],
   "source": [
    "# mar 01 - siege of mariupol\n",
    "# mar 13 - lviv attack\n",
    "# mar 15 - mariupol hospital siege\n",
    "# mar 16 - mariupol theater bombed\n",
    "# apr 03 - withdrawal from bucha - evidence of atrocities\n",
    "# apr 08 - bombing of karmatorsk railway"
   ]
  },
  {
   "cell_type": "code",
   "execution_count": 112,
   "id": "8a91a272",
   "metadata": {},
   "outputs": [],
   "source": [
    "mar01_docs = pd.read_pickle(r\"mar01.pickle\")\n",
    "mar13_docs = pd.read_pickle(r\"mar13.pickle\")\n",
    "mar15_docs = pd.read_pickle(r\"mar15.pickle\")\n",
    "mar16_docs = pd.read_pickle(r\"mar16.pickle\")\n",
    "apr03_docs = pd.read_pickle(r\"apr03.pickle\")\n",
    "apr08_docs = pd.read_pickle(r\"apr08.pickle\")"
   ]
  },
  {
   "cell_type": "code",
   "execution_count": 113,
   "id": "a74c857c",
   "metadata": {},
   "outputs": [],
   "source": [
    "vader = SentimentIntensityAnalyzer()"
   ]
  },
  {
   "cell_type": "code",
   "execution_count": 8,
   "id": "7bc6097f",
   "metadata": {},
   "outputs": [],
   "source": [
    "def get_scores(docs):\n",
    "    scores=[]\n",
    "    for i in docs:\n",
    "        score=vader.polarity_scores(i)\n",
    "        scores.append(score)\n",
    "    return scores"
   ]
  },
  {
   "cell_type": "code",
   "execution_count": 182,
   "id": "ecdeac2c",
   "metadata": {},
   "outputs": [],
   "source": [
    "feb_docs = pd.read_pickle(r\"feb.pickle\")\n",
    "feb_scores = get_scores(feb_docs)\n",
    "feb_scoredf = pd.DataFrame(feb_scores)\n",
    "combined_feb = feb_scoredf\n",
    "combined_feb[\"text\"] = feb_docs\n",
    "\n"
   ]
  },
  {
   "cell_type": "code",
   "execution_count": 183,
   "id": "32d358fd",
   "metadata": {},
   "outputs": [
    {
     "data": {
      "text/plain": [
       "<Figure size 720x360 with 0 Axes>"
      ]
     },
     "metadata": {},
     "output_type": "display_data"
    },
    {
     "data": {
      "image/png": "[encoded data removed]",
      "text/plain": [
       "<Figure size 432x288 with 1 Axes>"
      ]
     },
     "metadata": {
      "needs_background": "light"
     },
     "output_type": "display_data"
    }
   ],
   "source": [
    "feb_chart = get_counts(combined_feb, \"Feb 27-28\")"
   ]
  },
  {
   "cell_type": "code",
   "execution_count": 114,
   "id": "ad2e71a3",
   "metadata": {},
   "outputs": [],
   "source": [
    "mar01_scores = get_scores(mar01_docs)"
   ]
  },
  {
   "cell_type": "code",
   "execution_count": 115,
   "id": "06aa015f",
   "metadata": {},
   "outputs": [],
   "source": [
    "mar13_scores = get_scores(mar13_docs)\n",
    "mar15_scores = get_scores(mar15_docs)\n",
    "mar16_scores = get_scores(mar16_docs)\n",
    "apr03_scores = get_scores(apr03_docs)\n",
    "apr08_scores = get_scores(apr08_docs)"
   ]
  },
  {
   "cell_type": "code",
   "execution_count": 116,
   "id": "0be0bfae",
   "metadata": {},
   "outputs": [],
   "source": [
    "# convert to dataframe\n",
    "mar01_scoredf = pd.DataFrame(mar01_scores)\n",
    "mar13_scoredf = pd.DataFrame(mar13_scores)\n",
    "mar15_scoredf = pd.DataFrame(mar15_scores)\n",
    "mar16_scoredf = pd.DataFrame(mar16_scores)\n",
    "apr03_scoredf = pd.DataFrame(apr03_scores)\n",
    "apr08_scoredf = pd.DataFrame(apr08_scores)"
   ]
  },
  {
   "cell_type": "code",
   "execution_count": 117,
   "id": "58c84f66",
   "metadata": {},
   "outputs": [],
   "source": [
    "# combine scores with docs\n",
    "combined_mar01 = mar01_scoredf\n",
    "combined_mar01[\"text\"] = mar01_docs\n",
    "\n",
    "combined_mar13 = mar13_scoredf\n",
    "combined_mar13[\"text\"] = mar13_docs\n",
    "\n",
    "combined_mar15 = mar15_scoredf\n",
    "combined_mar15[\"text\"] = mar15_docs\n",
    "\n",
    "combined_mar16 = mar16_scoredf\n",
    "combined_mar16[\"text\"] = mar16_docs\n",
    "\n",
    "combined_apr03 = apr03_scoredf\n",
    "combined_apr03[\"text\"] = apr03_docs\n",
    "\n",
    "combined_apr08 = apr08_scoredf\n",
    "combined_apr08[\"text\"] = apr08_docs"
   ]
  },
  {
   "cell_type": "code",
   "execution_count": 118,
   "id": "4c858d7a",
   "metadata": {},
   "outputs": [],
   "source": [
    "def get_counts(df, date):\n",
    "    \n",
    "    column_neg = df[\"neg\"]\n",
    "    column_pos = df[\"pos\"]\n",
    "    column_neu = df[\"neu\"]\n",
    "    column_comp = df[\"compound\"]\n",
    "    \n",
    "    #neg_count = column_neg[df[\"neg\"] > 0].count()\n",
    "    #pos_count = column_pos[df[\"pos\"] > 0].count()\n",
    "    #neu_count = column_neu[df[\"neu\"]==1].count()\n",
    "\n",
    "    comp_neg = column_comp[df[\"compound\"]<0].count()\n",
    "    comp_pos = column_comp[df[\"compound\"]>0].count()\n",
    "    comp_neu = column_comp[df[\"compound\"]==0].count()\n",
    "    \n",
    "    percent_neg = (comp_neg/100000)*100\n",
    "    percent_pos = (comp_pos/100000)*100\n",
    "    percent_neu = (comp_neu/100000)*100\n",
    "\n",
    "    \n",
    "    fig = plt.figure(figsize = (10, 5))\n",
    "    ax = plt.subplots()\n",
    "    \n",
    "    indexes = [\"Negative\",\"Positive\",\"Neutral\"]\n",
    "    values = [percent_neg,percent_pos,percent_neu]\n",
    "    \n",
    "    for index, value in enumerate(values):\n",
    "        plt.text(index,value,str(int(value))+\"%\")\n",
    "    \n",
    "    plt.bar(indexes, values, color ='lightgray',\n",
    "        width = 0.4)\n",
    " \n",
    "    plt.xlabel(\"Compound Score\")\n",
    "    plt.ylabel(\"Percentage of tweets\")\n",
    "    plt.title(\"Sentiment of tweets from \" + date)\n",
    "    \n",
    "    plt.savefig(date+\"2.png\")\n",
    "    \n",
    "    return fig"
   ]
  },
  {
   "cell_type": "code",
   "execution_count": 119,
   "id": "3ec4c56d",
   "metadata": {},
   "outputs": [
    {
     "data": {
      "text/plain": [
       "<Figure size 720x360 with 0 Axes>"
      ]
     },
     "metadata": {},
     "output_type": "display_data"
    },
    {
     "data": {
      "image/png": "[encoded data removed]",
      "text/plain": [
       "<Figure size 432x288 with 1 Axes>"
      ]
     },
     "metadata": {
      "needs_background": "light"
     },
     "output_type": "display_data"
    },
    {
     "data": {
      "text/plain": [
       "<Figure size 720x360 with 0 Axes>"
      ]
     },
     "metadata": {},
     "output_type": "display_data"
    },
    {
     "data": {
      "image/png": "[encoded data removed]",
      "text/plain": [
       "<Figure size 432x288 with 1 Axes>"
      ]
     },
     "metadata": {
      "needs_background": "light"
     },
     "output_type": "display_data"
    },
    {
     "data": {
      "text/plain": [
       "<Figure size 720x360 with 0 Axes>"
      ]
     },
     "metadata": {},
     "output_type": "display_data"
    },
    {
     "data": {
      "image/png": "[encoded data removed]",
      "text/plain": [
       "<Figure size 432x288 with 1 Axes>"
      ]
     },
     "metadata": {
      "needs_background": "light"
     },
     "output_type": "display_data"
    },
    {
     "data": {
      "text/plain": [
       "<Figure size 720x360 with 0 Axes>"
      ]
     },
     "metadata": {},
     "output_type": "display_data"
    },
    {
     "data": {
      "image/png": "[encoded data removed]",
      "text/plain": [
       "<Figure size 432x288 with 1 Axes>"
      ]
     },
     "metadata": {
      "needs_background": "light"
     },
     "output_type": "display_data"
    },
    {
     "data": {
      "text/plain": [
       "<Figure size 720x360 with 0 Axes>"
      ]
     },
     "metadata": {},
     "output_type": "display_data"
    },
    {
     "data": {
      "image/png": "[encoded data removed]",
      "text/plain": [
       "<Figure size 432x288 with 1 Axes>"
      ]
     },
     "metadata": {
      "needs_background": "light"
     },
     "output_type": "display_data"
    },
    {
     "data": {
      "text/plain": [
       "<Figure size 720x360 with 0 Axes>"
      ]
     },
     "metadata": {},
     "output_type": "display_data"
    },
    {
     "data": {
      "image/png": "[encoded data removed]",
      "text/plain": [
       "<Figure size 432x288 with 1 Axes>"
      ]
     },
     "metadata": {
      "needs_background": "light"
     },
     "output_type": "display_data"
    }
   ],
   "source": [
    "mar01_chart = get_counts(combined_mar01, \"March 01\")\n",
    "mar13_chart = get_counts(combined_mar13, \"March 13\")\n",
    "mar15_chart = get_counts(combined_mar15, \"March 15\")\n",
    "mar16_chart = get_counts(combined_mar16, \"March 16\")\n",
    "apr03_chart = get_counts(combined_apr03, \"April 03\")\n",
    "apr08_chart = get_counts(combined_apr08, \"April 08\")"
   ]
  },
  {
   "cell_type": "code",
   "execution_count": 129,
   "id": "4ad048fa",
   "metadata": {},
   "outputs": [],
   "source": [
    "mar01 = pd.DataFrame({\"date\":\"mar01\", \"text\":mar01_docs.values})\n",
    "mar13 = pd.DataFrame({\"date\":\"mar13\", \"text\":mar13_docs.values})\n",
    "mar15 = pd.DataFrame({\"date\":\"mar15\", \"text\":mar15_docs.values})\n",
    "mar16 = pd.DataFrame({\"date\":\"mar16\", \"text\":mar16_docs.values})\n",
    "apr03 = pd.DataFrame({\"date\":\"apr03\", \"text\":apr03_docs.values})\n",
    "apr08 = pd.DataFrame({\"date\":\"apr08\", \"text\":apr08_docs.values})"
   ]
  },
  {
   "cell_type": "code",
   "execution_count": 134,
   "id": "c3deb4cb",
   "metadata": {},
   "outputs": [],
   "source": [
    "mar01_token = pd.read_pickle(r\"mar01token.pickle\")"
   ]
  },
  {
   "cell_type": "code",
   "execution_count": 142,
   "id": "d84ceace",
   "metadata": {},
   "outputs": [
    {
     "data": {
      "text/plain": [
       "'@ PrezidentZeman STOP RUSSIAN AGGRESSION UKRAINE . @ NATO CLOSE SKY UKRAINE ! EXCLUDE RUSSIA @ UN SECURITY COUNCIL ! ! ! StopPutin StopRussia'"
      ]
     },
     "execution_count": 142,
     "metadata": {},
     "output_type": "execute_result"
    }
   ],
   "source": [
    "mar01_token[3]"
   ]
  },
  {
   "cell_type": "code",
   "execution_count": 137,
   "id": "34451995",
   "metadata": {},
   "outputs": [],
   "source": [
    "mar01toke = pd.DataFrame({\"date\":\"mar01\",\"text\":mar01_token.values})"
   ]
  },
  {
   "cell_type": "code",
   "execution_count": 139,
   "id": "9d32c69d",
   "metadata": {},
   "outputs": [
    {
     "name": "stderr",
     "output_type": "stream",
     "text": [
      "/var/folders/6l/6tcwml6d7hqb9tfsn7kf5z6r0000gn/T/ipykernel_22454/1354444393.py:3: FutureWarning: The frame.append method is deprecated and will be removed from pandas in a future version. Use pandas.concat instead.\n",
      "  token_mar01_mar13 = mar01toke.append(mar13toke)\n"
     ]
    }
   ],
   "source": [
    "mar13_token = pd.read_pickle(r\"mar13token.pickle\")\n",
    "mar13toke = pd.DataFrame({\"date\":\"mar13\",\"text\":mar13_token.values})\n",
    "token_mar01_mar13 = mar01toke.append(mar13toke)"
   ]
  },
  {
   "cell_type": "code",
   "execution_count": 173,
   "id": "4c287944",
   "metadata": {},
   "outputs": [],
   "source": [
    "mar15_token = pd.read_pickle(r\"mar15token.pickle\")\n",
    "mar16_token = pd.read_pickle(r\"mar16token.pickle\")\n",
    "apr03_token = pd.read_pickle(r\"apr03token.pickle\")\n",
    "apr08_token = pd.read_pickle(r\"apr08token.pickle\")\n",
    "\n",
    "mar15toke = pd.DataFrame({\"date\":\"mar15\",\"text\":mar15_token.values})\n",
    "mar16toke = pd.DataFrame({\"date\":\"mar16\",\"text\":mar16_token.values})\n",
    "apr03toke = pd.DataFrame({\"date\":\"apr03\",\"text\":apr03_token.values})\n",
    "apr08toke = pd.DataFrame({\"date\":\"apr08\",\"text\":apr08_token.values})"
   ]
  },
  {
   "cell_type": "code",
   "execution_count": 158,
   "id": "a16bdc30",
   "metadata": {},
   "outputs": [],
   "source": [
    "#mar01 v mar13\n",
    "mar0113token_corp = st.CorpusFromPandas(token_mar01_mar13,\n",
    "                             category_col=\"date\",\n",
    "                             text_col=\"text\",\n",
    "                             nlp=st.whitespace_nlp_with_sentences\n",
    "                            ).build()"
   ]
  },
  {
   "cell_type": "code",
   "execution_count": 168,
   "id": "8050712a",
   "metadata": {},
   "outputs": [],
   "source": [
    "first = st.produce_scattertext_explorer(\n",
    "        mar0113token_corp,\n",
    "        category=\"mar01\",\n",
    "        category_name=\"March 01\",\n",
    "        not_category_name=\"March 13\",\n",
    "        minimum_term_frequency=5000,\n",
    "        pmi_threshold_coefficient=5,\n",
    "        width_in_pixels=700\n",
    "        )\n",
    "open(\"first.html\", \"wb\").write(first.encode(\"utf-8\"));"
   ]
  },
  {
   "cell_type": "code",
   "execution_count": 170,
   "id": "fd74cb4c",
   "metadata": {},
   "outputs": [
    {
     "name": "stderr",
     "output_type": "stream",
     "text": [
      "/var/folders/6l/6tcwml6d7hqb9tfsn7kf5z6r0000gn/T/ipykernel_22454/1298757141.py:2: FutureWarning: The frame.append method is deprecated and will be removed from pandas in a future version. Use pandas.concat instead.\n",
      "  token_mar01_mar15 = mar01toke.append(mar15toke)\n"
     ]
    }
   ],
   "source": [
    "#mar01 v mar15\n",
    "token_mar01_mar15 = mar01toke.append(mar15toke)\n",
    "mar0115token_corp = st.CorpusFromPandas(token_mar01_mar15,\n",
    "                             category_col=\"date\",\n",
    "                             text_col=\"text\",\n",
    "                             nlp=st.whitespace_nlp_with_sentences\n",
    "                            ).build()\n",
    "second = st.produce_scattertext_explorer(\n",
    "        mar0115token_corp,\n",
    "        category=\"mar01\",\n",
    "        category_name=\"March 01\",\n",
    "        not_category_name=\"March 15\",\n",
    "        minimum_term_frequency=5000,\n",
    "        pmi_threshold_coefficient=5,\n",
    "        width_in_pixels=700\n",
    "        )\n",
    "open(\"second.html\", \"wb\").write(second.encode(\"utf-8\"));"
   ]
  },
  {
   "cell_type": "code",
   "execution_count": 171,
   "id": "8cd9d3c7",
   "metadata": {},
   "outputs": [
    {
     "name": "stderr",
     "output_type": "stream",
     "text": [
      "/var/folders/6l/6tcwml6d7hqb9tfsn7kf5z6r0000gn/T/ipykernel_22454/591869717.py:2: FutureWarning: The frame.append method is deprecated and will be removed from pandas in a future version. Use pandas.concat instead.\n",
      "  token_mar01_mar16 = mar01toke.append(mar16toke)\n"
     ]
    }
   ],
   "source": [
    "#mar01 v mar16\n",
    "token_mar01_mar16 = mar01toke.append(mar16toke)\n",
    "mar0116token_corp = st.CorpusFromPandas(token_mar01_mar16,\n",
    "                             category_col=\"date\",\n",
    "                             text_col=\"text\",\n",
    "                             nlp=st.whitespace_nlp_with_sentences\n",
    "                            ).build()\n",
    "third = st.produce_scattertext_explorer(\n",
    "        mar0116token_corp,\n",
    "        category=\"mar01\",\n",
    "        category_name=\"March 01\",\n",
    "        not_category_name=\"March 16\",\n",
    "        minimum_term_frequency=5000,\n",
    "        pmi_threshold_coefficient=5,\n",
    "        width_in_pixels=700\n",
    "        )\n",
    "open(\"third.html\", \"wb\").write(third.encode(\"utf-8\"));"
   ]
  },
  {
   "cell_type": "code",
   "execution_count": 174,
   "id": "2296403a",
   "metadata": {},
   "outputs": [
    {
     "name": "stderr",
     "output_type": "stream",
     "text": [
      "/var/folders/6l/6tcwml6d7hqb9tfsn7kf5z6r0000gn/T/ipykernel_22454/3259790059.py:2: FutureWarning: The frame.append method is deprecated and will be removed from pandas in a future version. Use pandas.concat instead.\n",
      "  token_mar01_apr03 = mar01toke.append(apr03toke)\n"
     ]
    }
   ],
   "source": [
    "#mar01 v apr03\n",
    "token_mar01_apr03 = mar01toke.append(apr03toke)\n",
    "mar01apr03token_corp = st.CorpusFromPandas(token_mar01_apr03,\n",
    "                             category_col=\"date\",\n",
    "                             text_col=\"text\",\n",
    "                             nlp=st.whitespace_nlp_with_sentences\n",
    "                            ).build()\n",
    "fourth = st.produce_scattertext_explorer(\n",
    "        mar01apr03token_corp,\n",
    "        category=\"mar01\",\n",
    "        category_name=\"March 01\",\n",
    "        not_category_name=\"April 03\",\n",
    "        minimum_term_frequency=5000,\n",
    "        pmi_threshold_coefficient=5,\n",
    "        width_in_pixels=700\n",
    "        )\n",
    "open(\"fourth.html\", \"wb\").write(fourth.encode(\"utf-8\"));"
   ]
  },
  {
   "cell_type": "code",
   "execution_count": 175,
   "id": "688c5803",
   "metadata": {},
   "outputs": [
    {
     "name": "stderr",
     "output_type": "stream",
     "text": [
      "/var/folders/6l/6tcwml6d7hqb9tfsn7kf5z6r0000gn/T/ipykernel_22454/272322242.py:2: FutureWarning: The frame.append method is deprecated and will be removed from pandas in a future version. Use pandas.concat instead.\n",
      "  token_mar01_apr08 = mar01toke.append(apr08toke)\n"
     ]
    }
   ],
   "source": [
    "#mar01 v apr08\n",
    "token_mar01_apr08 = mar01toke.append(apr08toke)\n",
    "mar01apr08token_corp = st.CorpusFromPandas(token_mar01_apr08,\n",
    "                             category_col=\"date\",\n",
    "                             text_col=\"text\",\n",
    "                             nlp=st.whitespace_nlp_with_sentences\n",
    "                            ).build()\n",
    "fifth = st.produce_scattertext_explorer(\n",
    "        mar01apr08token_corp,\n",
    "        category=\"mar01\",\n",
    "        category_name=\"March 01\",\n",
    "        not_category_name=\"April 08\",\n",
    "        minimum_term_frequency=5000,\n",
    "        pmi_threshold_coefficient=5,\n",
    "        width_in_pixels=700\n",
    "        )\n",
    "open(\"fifth.html\", \"wb\").write(fifth.encode(\"utf-8\"));"
   ]
  },
  {
   "cell_type": "code",
   "execution_count": 181,
   "id": "50364cea",
   "metadata": {},
   "outputs": [
    {
     "name": "stderr",
     "output_type": "stream",
     "text": [
      "/var/folders/6l/6tcwml6d7hqb9tfsn7kf5z6r0000gn/T/ipykernel_22454/3601113689.py:2: FutureWarning: The frame.append method is deprecated and will be removed from pandas in a future version. Use pandas.concat instead.\n",
      "  token_mar01_rest = mar01toke.append(mar13toke)\n",
      "/var/folders/6l/6tcwml6d7hqb9tfsn7kf5z6r0000gn/T/ipykernel_22454/3601113689.py:3: FutureWarning: The frame.append method is deprecated and will be removed from pandas in a future version. Use pandas.concat instead.\n",
      "  token_mar01_rest = token_mar01_rest.append(mar15toke)\n",
      "/var/folders/6l/6tcwml6d7hqb9tfsn7kf5z6r0000gn/T/ipykernel_22454/3601113689.py:4: FutureWarning: The frame.append method is deprecated and will be removed from pandas in a future version. Use pandas.concat instead.\n",
      "  token_mar01_rest = token_mar01_rest.append(mar16toke)\n",
      "/var/folders/6l/6tcwml6d7hqb9tfsn7kf5z6r0000gn/T/ipykernel_22454/3601113689.py:5: FutureWarning: The frame.append method is deprecated and will be removed from pandas in a future version. Use pandas.concat instead.\n",
      "  token_mar01_rest = token_mar01_rest.append(apr03toke)\n",
      "/var/folders/6l/6tcwml6d7hqb9tfsn7kf5z6r0000gn/T/ipykernel_22454/3601113689.py:6: FutureWarning: The frame.append method is deprecated and will be removed from pandas in a future version. Use pandas.concat instead.\n",
      "  token_mar01_rest = token_mar01_rest.append(apr08toke)\n"
     ]
    }
   ],
   "source": [
    "#mar01 v all other dates\n",
    "token_mar01_rest = mar01toke.append(mar13toke)\n",
    "token_mar01_rest = token_mar01_rest.append(mar15toke)\n",
    "token_mar01_rest = token_mar01_rest.append(mar16toke)\n",
    "token_mar01_rest = token_mar01_rest.append(apr03toke)\n",
    "token_mar01_rest = token_mar01_rest.append(apr08toke)\n",
    "mar01resttoken_corp = st.CorpusFromPandas(token_mar01_rest,\n",
    "                             category_col=\"date\",\n",
    "                             text_col=\"text\",\n",
    "                             nlp=st.whitespace_nlp_with_sentences\n",
    "                            ).build()\n",
    "rest = st.produce_scattertext_explorer(\n",
    "        mar01resttoken_corp,\n",
    "        category=\"mar01\",\n",
    "        category_name=\"March 01\",\n",
    "        not_category_name=\"All other dates\",\n",
    "        minimum_term_frequency=7000,\n",
    "        pmi_threshold_coefficient=5,\n",
    "        width_in_pixels=1000\n",
    "        )\n",
    "open(\"rest.html\", \"wb\").write(rest.encode(\"utf-8\"));"
   ]
  },
  {
   "cell_type": "code",
   "execution_count": 178,
   "id": "28eae0cf",
   "metadata": {},
   "outputs": [
    {
     "name": "stdout",
     "output_type": "stream",
     "text": [
      "<class 'pandas.core.frame.DataFrame'>\n",
      "Int64Index: 600000 entries, 0 to 99999\n",
      "Data columns (total 2 columns):\n",
      " #   Column  Non-Null Count   Dtype \n",
      "---  ------  --------------   ----- \n",
      " 0   date    600000 non-null  object\n",
      " 1   text    600000 non-null  object\n",
      "dtypes: object(2)\n",
      "memory usage: 13.7+ MB\n"
     ]
    }
   ],
   "source": [
    "token_mar01_rest.info()"
   ]
  },
  {
   "cell_type": "code",
   "execution_count": 130,
   "id": "b28241c2",
   "metadata": {},
   "outputs": [
    {
     "name": "stderr",
     "output_type": "stream",
     "text": [
      "/var/folders/6l/6tcwml6d7hqb9tfsn7kf5z6r0000gn/T/ipykernel_22454/96437509.py:1: FutureWarning: The frame.append method is deprecated and will be removed from pandas in a future version. Use pandas.concat instead.\n",
      "  mar01_mar13 = mar01.append(mar13)\n"
     ]
    }
   ],
   "source": [
    "#mar01_mar13 = mar01.append(mar13)"
   ]
  },
  {
   "cell_type": "code",
   "execution_count": 131,
   "id": "ad2e8ad5",
   "metadata": {},
   "outputs": [],
   "source": [
    "#mar01_13_corp = st.CorpusFromPandas(mar01_mar13,\n",
    "#                             category_col=\"date\",\n",
    "#                             text_col=\"text\",\n",
    "#                             nlp=st.whitespace_nlp_with_sentences\n",
    "#                            ).build()"
   ]
  },
  {
   "cell_type": "code",
   "execution_count": 132,
   "id": "fddefb99",
   "metadata": {},
   "outputs": [],
   "source": [
    "#first = st.produce_scattertext_explorer(\n",
    "#        mar01_13_corp,\n",
    "#        category=\"mar01\",\n",
    "#        category_name=\"March 01\",\n",
    "#        not_category_name=\"March 13\",\n",
    "#        minimum_term_frequency=20000,\n",
    "#        pmi_threshold_coefficient=5,\n",
    "#        width_in_pixels=1000\n",
    "#        )"
   ]
  },
  {
   "cell_type": "code",
   "execution_count": 133,
   "id": "aabffd91",
   "metadata": {},
   "outputs": [],
   "source": [
    "#open('first.html', 'wb').write(first.encode('utf-8'));"
   ]
  },
  {
   "cell_type": "code",
   "execution_count": 120,
   "id": "d0a84e7e",
   "metadata": {},
   "outputs": [],
   "source": [
    "mar01_cv = CountVectorizer(ngram_range=(1,2),stop_words='english',max_features=10000)"
   ]
  },
  {
   "cell_type": "code",
   "execution_count": 121,
   "id": "55aee1c0",
   "metadata": {},
   "outputs": [],
   "source": [
    "siege = mar01_cv.fit_transform(mar01_docs)"
   ]
  },
  {
   "cell_type": "code",
   "execution_count": 122,
   "id": "ffe01786",
   "metadata": {},
   "outputs": [],
   "source": [
    "siege_doc = siege.toarray()"
   ]
  },
  {
   "cell_type": "code",
   "execution_count": 123,
   "id": "38623cf4",
   "metadata": {},
   "outputs": [
    {
     "data": {
      "text/plain": [
       "{'40': 157,\n",
       " 'mile': 5098,\n",
       " 'long': 4789,\n",
       " 'russian': 7087,\n",
       " 'military': 5107,\n",
       " 'convoy': 1866,\n",
       " 'approaching': 672,\n",
       " 'ukraine': 8777,\n",
       " 'capital': 1360,\n",
       " 'youtube': 9952,\n",
       " 'russiaukrainewar': 7233,\n",
       " '40 mile': 160,\n",
       " 'mile long': 5100,\n",
       " 'long russian': 4796,\n",
       " 'russian military': 7125,\n",
       " 'military convoy': 5114,\n",
       " 'ukraine capital': 8813,\n",
       " 'sister': 7655,\n",
       " 'trapped': 8637,\n",
       " 'thread': 8465,\n",
       " 'incredible': 3962,\n",
       " 'journey': 4282,\n",
       " 'reach': 6563,\n",
       " 'poland': 6086,\n",
       " 'escape': 2692,\n",
       " 'experienced': 2837,\n",
       " 'racism': 6521,\n",
       " 'injuries': 4043,\n",
       " 'freezing': 3232,\n",
       " 'temps': 8389,\n",
       " 'sleep': 7688,\n",
       " 'deprivation': 2223,\n",
       " 'story': 8079,\n",
       " 'hundreds': 3829,\n",
       " 'thousands': 8463,\n",
       " 'people': 5931,\n",
       " 'trying': 8698,\n",
       " 'sister trapped': 7656,\n",
       " 'trapped ukraine': 8639,\n",
       " 'ukraine thread': 9016,\n",
       " 'thread incredible': 8467,\n",
       " 'incredible journey': 3963,\n",
       " 'journey reach': 4283,\n",
       " 'reach poland': 6565,\n",
       " 'poland escape': 6090,\n",
       " 'escape experienced': 2693,\n",
       " 'experienced racism': 2838,\n",
       " 'racism injuries': 6522,\n",
       " 'injuries freezing': 4044,\n",
       " 'freezing temps': 3234,\n",
       " 'temps sleep': 8390,\n",
       " 'sleep deprivation': 7689,\n",
       " 'deprivation story': 2224,\n",
       " 'story hundreds': 8080,\n",
       " 'hundreds thousands': 3830,\n",
       " 'thousands people': 8464,\n",
       " 'people trying': 5971,\n",
       " 'president': 6215,\n",
       " 'zelenskyyua': 9971,\n",
       " 'signed': 7626,\n",
       " 'application': 663,\n",
       " 'membership': 5042,\n",
       " 'european': 2763,\n",
       " 'union': 9294,\n",
       " 'historic': 3703,\n",
       " 'moment': 5216,\n",
       " 'president zelenskyyua': 6227,\n",
       " 'zelenskyyua signed': 9974,\n",
       " 'signed application': 7627,\n",
       " 'application membership': 666,\n",
       " 'membership ukraine': 5050,\n",
       " 'ukraine european': 8843,\n",
       " 'european union': 2769,\n",
       " 'union historic': 9296,\n",
       " 'historic moment': 3705,\n",
       " 'stop': 8013,\n",
       " 'aggression': 398,\n",
       " 'nato': 5341,\n",
       " 'close': 1621,\n",
       " 'sky': 7674,\n",
       " 'exclude': 2809,\n",
       " 'russia': 6944,\n",
       " 'security': 7409,\n",
       " 'council': 1901,\n",
       " 'stopputin': 8035,\n",
       " 'stoprussia': 8048,\n",
       " 'stop russian': 8022,\n",
       " 'russian aggression': 7090,\n",
       " 'aggression ukraine': 400,\n",
       " 'ukraine nato': 8916,\n",
       " 'nato close': 5347,\n",
       " 'close sky': 1623,\n",
       " 'sky ukraine': 7676,\n",
       " 'ukraine exclude': 8844,\n",
       " 'exclude russia': 2810,\n",
       " 'russia security': 7034,\n",
       " 'security council': 7410,\n",
       " 'council stopputin': 1905,\n",
       " 'stopputin stoprussia': 8039,\n",
       " 'anonymous': 613,\n",
       " 'hackers': 3530,\n",
       " 'announce': 602,\n",
       " 'reveal': 6822,\n",
       " 'govt': 3439,\n",
       " 'citizens': 1551,\n",
       " 'com': 1689,\n",
       " 'war': 9584,\n",
       " 'ukraine war': 9048,\n",
       " 'myth': 5314,\n",
       " 'aren': 685,\n",
       " 'dead': 2096,\n",
       " 'surrendered': 8249,\n",
       " 'running': 6938,\n",
       " 'ammo': 524,\n",
       " 'alexanderdecroo': 475,\n",
       " 'did': 2277,\n",
       " 'putin': 6413,\n",
       " 'succeed': 8162,\n",
       " 'changing': 1471,\n",
       " 'europe': 2755,\n",
       " 'ukraine russia': 8962,\n",
       " 'forces': 3159,\n",
       " 'struck': 8119,\n",
       " 'independence': 3966,\n",
       " 'square': 7873,\n",
       " 'central': 1443,\n",
       " 'kharkiv': 4349,\n",
       " 'powerful': 6169,\n",
       " 'explosion': 2851,\n",
       " 'according': 294,\n",
       " 'video': 9462,\n",
       " 'event': 2790,\n",
       " 'blast': 1048,\n",
       " 'right': 6842,\n",
       " 'headquarters': 3596,\n",
       " 'oblast': 5595,\n",
       " 'government': 3424,\n",
       " 'russian forces': 7116,\n",
       " 'independence square': 3967,\n",
       " 'square central': 7875,\n",
       " 'central kharkiv': 1445,\n",
       " 'powerful explosion': 6171,\n",
       " 'kharkiv oblast': 4359,\n",
       " 'government ukraine': 3431,\n",
       " 'tories': 8573,\n",
       " 'set': 7491,\n",
       " 'kind': 4429,\n",
       " 'protests': 6357,\n",
       " 'praised': 6179,\n",
       " 'read': 6571,\n",
       " 'amp': 529,\n",
       " 'rt': 6910,\n",
       " 'russia read': 7018,\n",
       " 'amp rt': 555,\n",
       " 'abstain': 275,\n",
       " 'russiaukraine': 7196,\n",
       " 'indiarussia': 4002,\n",
       " 'abstain russiaukraine': 276,\n",
       " 'russiaukraine indiarussia': 7199,\n",
       " 'help': 3634,\n",
       " 'vacuum': 9409,\n",
       " 'bombs': 1123,\n",
       " 'terrorists': 8419,\n",
       " 'shooting': 7573,\n",
       " 'civilians': 1579,\n",
       " 'children': 1510,\n",
       " 'shelters': 7545,\n",
       " 'suffering': 8179,\n",
       " 'dying': 2514,\n",
       " 'threat': 8468,\n",
       " 'second': 7395,\n",
       " 'chernobyl': 1503,\n",
       " 'nato help': 5351,\n",
       " 'help ukraine': 3650,\n",
       " 'vacuum bombs': 9411,\n",
       " 'people suffering': 5967,\n",
       " '5710': 197,\n",
       " 'counting': 1911,\n",
       " 'classified': 1600,\n",
       " 'information': 4025,\n",
       " 'losses': 4828,\n",
       " 'secret': 7400,\n",
       " 'instead': 4061,\n",
       " 'picking': 6007,\n",
       " 'continue': 1835,\n",
       " 'lie': 4694,\n",
       " 'pretend': 6239,\n",
       " 'information war': 4029,\n",
       " 'attack': 787,\n",
       " 'airstrike': 460,\n",
       " 'destroys': 2254,\n",
       " 'regional': 6645,\n",
       " 'administration': 343,\n",
       " 'building': 1266,\n",
       " 'attack kharkiv': 790,\n",
       " 'kharkiv airstrike': 4350,\n",
       " 'airstrike destroys': 461,\n",
       " 'destroys kharkiv': 2255,\n",
       " 'kharkiv regional': 4364,\n",
       " 'regional administration': 6646,\n",
       " 'administration building': 344,\n",
       " 'building ukraine': 1271,\n",
       " 'journalist': 4276,\n",
       " 'british': 1233,\n",
       " 'prime': 6265,\n",
       " 'minister': 5150,\n",
       " 'boris': 1145,\n",
       " 'johnson': 4253,\n",
       " 'press': 6233,\n",
       " 'conference': 1783,\n",
       " 'tells': 8383,\n",
       " 'willing': 9767,\n",
       " 'act': 309,\n",
       " 'fear': 2969,\n",
       " 'world': 9825,\n",
       " 'prime minister': 6266,\n",
       " 'boris johnson': 1146,\n",
       " 'world war': 9857,\n",
       " 'just': 4286,\n",
       " 'begins': 952,\n",
       " 'europeanunion': 2773,\n",
       " 'declared': 2131,\n",
       " 'time': 8506,\n",
       " 'indian': 3977,\n",
       " 've': 9426,\n",
       " 'step': 8000,\n",
       " 'ahead': 422,\n",
       " 'great': 3468,\n",
       " 'leader': 4609,\n",
       " 'war just': 9607,\n",
       " 'ukraine time': 9017,\n",
       " 'anti': 628,\n",
       " 'protesters': 6352,\n",
       " 'streets': 8096,\n",
       " 'moscow': 5239,\n",
       " 'tonight': 8559,\n",
       " 'showing': 7599,\n",
       " 'reject': 6654,\n",
       " 'kremlin': 4472,\n",
       " '02': 14,\n",
       " 'anti war': 632,\n",
       " 'people russia': 5962,\n",
       " 'wow': 9885,\n",
       " 'watch': 9669,\n",
       " 'congresswoman': 1803,\n",
       " 'victoria': 9458,\n",
       " 'spartz': 7804,\n",
       " 'indiana': 3987,\n",
       " 'born': 1150,\n",
       " 'raised': 6543,\n",
       " 'testimony': 8422,\n",
       " 'heart': 3610,\n",
       " 'wrenching': 9888,\n",
       " 'wow watch': 9887,\n",
       " 'watch congresswoman': 9672,\n",
       " 'congresswoman victoria': 1804,\n",
       " 'victoria spartz': 9459,\n",
       " 'spartz indiana': 7805,\n",
       " 'indiana born': 3988,\n",
       " 'born amp': 1151,\n",
       " 'amp raised': 554,\n",
       " 'raised ukraine': 6544,\n",
       " 'ukraine testimony': 9014,\n",
       " 'testimony heart': 8423,\n",
       " 'heart wrenching': 3614,\n",
       " 'standwithukraine': 7919,\n",
       " 'sending': 7448,\n",
       " '27': 130,\n",
       " 'tons': 8562,\n",
       " 'medical': 5013,\n",
       " 'supplies': 8197,\n",
       " 'china': 1519,\n",
       " 'sides': 7612,\n",
       " 'unlimited': 9325,\n",
       " 'alliance': 488,\n",
       " 'taiwan': 8303,\n",
       " 'freedom': 3219,\n",
       " 'democracy': 2199,\n",
       " 'fighting': 3032,\n",
       " 'expansion': 2824,\n",
       " 'authoritarianism': 827,\n",
       " 'faith': 2905,\n",
       " 'prevail': 6242,\n",
       " 'jw': 4318,\n",
       " 'standwithukraine sending': 7921,\n",
       " 'sending 27': 7449,\n",
       " '27 tons': 133,\n",
       " 'tons medical': 8563,\n",
       " 'medical supplies': 5015,\n",
       " 'supplies china': 8199,\n",
       " 'china sides': 1525,\n",
       " 'sides russia': 7613,\n",
       " 'russia unlimited': 7064,\n",
       " 'unlimited alliance': 9326,\n",
       " 'alliance taiwan': 490,\n",
       " 'taiwan freedom': 8304,\n",
       " 'freedom amp': 3220,\n",
       " 'amp democracy': 536,\n",
       " 'democracy fighting': 2200,\n",
       " 'fighting expansion': 3035,\n",
       " 'expansion authoritarianism': 2825,\n",
       " 'authoritarianism faith': 828,\n",
       " 'faith democracy': 2906,\n",
       " 'democracy prevail': 2201,\n",
       " 'prevail jw': 6243,\n",
       " 'combat': 1691,\n",
       " 'footage': 3145,\n",
       " 'ukrainian': 9178,\n",
       " 'special': 7818,\n",
       " 'engaging': 2640,\n",
       " 'tank': 8333,\n",
       " 'near': 5400,\n",
       " 'kyiv': 4487,\n",
       " 'ukrainerussiawar': 9106,\n",
       " 'combat footage': 1693,\n",
       " 'footage ukrainian': 3147,\n",
       " 'ukrainian special': 9228,\n",
       " 'special forces': 7820,\n",
       " 'forces engaging': 3162,\n",
       " 'engaging russian': 2641,\n",
       " 'russian tank': 7160,\n",
       " 'tank near': 8338,\n",
       " 'near kyiv': 5404,\n",
       " 'kyiv russia': 4519,\n",
       " 'russia ukraine': 7053,\n",
       " 'ukraine ukrainerussiawar': 9031,\n",
       " 'predsjednik_cg': 6200,\n",
       " 'learned': 4625,\n",
       " 'pilot': 6017,\n",
       " 'su': 8151,\n",
       " 'flanker': 3099,\n",
       " 'fighter': 3024,\n",
       " 'jet': 4233,\n",
       " 'grey': 3483,\n",
       " 'wolf': 9793,\n",
       " 'colonel': 1674,\n",
       " 'oleksandr': 5679,\n",
       " 'oksanchenko': 5664,\n",
       " 'died': 2292,\n",
       " 'plane': 6034,\n",
       " 'shot': 7581,\n",
       " 'kiev': 4386,\n",
       " 'friday': 3239,\n",
       " 'evening': 2789,\n",
       " 'rest': 6792,\n",
       " 'peace': 5916,\n",
       " 'fallen': 2913,\n",
       " 'hero': 3666,\n",
       " 'nation': 5323,\n",
       " 'fighter jet': 3026,\n",
       " 'grey wolf': 3484,\n",
       " 'colonel oleksandr': 1675,\n",
       " 'oleksandr oksanchenko': 5680,\n",
       " 'oksanchenko died': 5665,\n",
       " 'rest peace': 6793,\n",
       " 'nation ukraine': 5325,\n",
       " 'mainstream': 4895,\n",
       " 'media': 4998,\n",
       " 'failed': 2901,\n",
       " 'sadia': 7252,\n",
       " 'kashmir': 4332,\n",
       " 'wins': 9779,\n",
       " 'gold': 3397,\n",
       " 'wushu': 9901,\n",
       " 'stars': 7936,\n",
       " 'championship': 1461,\n",
       " 'india': 3969,\n",
       " 'proud': 6360,\n",
       " 'mainstream media': 4896,\n",
       " 'explain': 2842,\n",
       " 'light': 4707,\n",
       " 'completely': 1753,\n",
       " 'wrong': 9898,\n",
       " 'link': 4726,\n",
       " 'news': 5480,\n",
       " 'god': 3379,\n",
       " 'report': 6704,\n",
       " 'orthodox': 5768,\n",
       " 'church': 1540,\n",
       " 'troops': 8666,\n",
       " 'different': 2298,\n",
       " 'pray': 6183,\n",
       " 'russian troops': 7163,\n",
       " 'average': 832,\n",
       " 'battle': 926,\n",
       " 'gun': 3517,\n",
       " 'forward': 3200,\n",
       " 'leaving': 4638,\n",
       " 'space': 7798,\n",
       " '50': 183,\n",
       " 'tanks': 8343,\n",
       " 'km': 4446,\n",
       " 'currently': 2033,\n",
       " 'headed': 3592,\n",
       " 'bad': 867,\n",
       " 'day': 2078,\n",
       " 'today': 8528,\n",
       " 'pls': 6067,\n",
       " 'think': 8445,\n",
       " 'think ukraine': 8449,\n",
       " 'ukraine putin': 8943,\n",
       " 'internal': 4081,\n",
       " 'data': 2066,\n",
       " 'ransomware': 6558,\n",
       " 'gang': 3293,\n",
       " 'leaked': 4620,\n",
       " 'strength': 8100,\n",
       " 'nowar': 5564,\n",
       " 'ukraine nowar': 8923,\n",
       " 'saw': 7333,\n",
       " 'guy': 3522,\n",
       " 'gonzalo': 3403,\n",
       " 'lira': 4731,\n",
       " 'lopez': 4819,\n",
       " 'state': 7949,\n",
       " 'tv': 8722,\n",
       " 'sitting': 7663,\n",
       " 'bashing': 916,\n",
       " 'simultaneously': 7644,\n",
       " 'praising': 6181,\n",
       " 'calls': 1328,\n",
       " 'coach': 1644,\n",
       " 'red': 6609,\n",
       " 'pill': 6015,\n",
       " 'filming': 3050,\n",
       " 'american': 517,\n",
       " 'journalists': 4280,\n",
       " 'eating': 2536,\n",
       " 'hotel': 3785,\n",
       " 'just saw': 4304,\n",
       " 'saw guy': 7334,\n",
       " 'guy gonzalo': 3523,\n",
       " 'gonzalo lira': 3404,\n",
       " 'lira lopez': 4732,\n",
       " 'lopez russia': 4820,\n",
       " 'russia state': 7038,\n",
       " 'state tv': 7960,\n",
       " 'tv sitting': 8730,\n",
       " 'sitting kyiv': 7665,\n",
       " 'kyiv bashing': 4492,\n",
       " 'bashing ukraine': 917,\n",
       " 'ukraine simultaneously': 8986,\n",
       " 'simultaneously praising': 7645,\n",
       " 'praising russia': 6182,\n",
       " 'russia calls': 6962,\n",
       " 'calls coach': 1329,\n",
       " 'coach red': 1645,\n",
       " 'red pill': 6611,\n",
       " 'pill filming': 6016,\n",
       " 'filming american': 3051,\n",
       " 'american journalists': 520,\n",
       " 'journalists eating': 4281,\n",
       " 'eating hotel': 2537,\n",
       " 'hotel thread': 3786,\n",
       " 'representative': 6728,\n",
       " 'started': 7942,\n",
       " '2014': 95,\n",
       " 'mean': 4989,\n",
       " 'make': 4903,\n",
       " 'bow': 1167,\n",
       " 'accept': 281,\n",
       " 'dictatorship': 2276,\n",
       " 'like': 4709,\n",
       " 'missing': 5188,\n",
       " 'war started': 9625,\n",
       " 'unicef': 9293,\n",
       " 'amnesty': 527,\n",
       " 'international': 4082,\n",
       " 'crisis': 1995,\n",
       " 'evidence': 2797,\n",
       " 'lab': 4547,\n",
       " 'analyzed': 583,\n",
       " 'digital': 2304,\n",
       " 'including': 3947,\n",
       " 'photos': 6003,\n",
       " 'videos': 9474,\n",
       " 'satellite': 7312,\n",
       " 'imagery': 3884,\n",
       " 'indiscriminate': 4007,\n",
       " 'attacks': 806,\n",
       " 'verified': 9440,\n",
       " 'violations': 9484,\n",
       " 'law': 4597,\n",
       " 'crimes': 1973,\n",
       " 'amnesty international': 528,\n",
       " 'international crisis': 4088,\n",
       " 'crisis evidence': 1997,\n",
       " 'evidence lab': 2799,\n",
       " 'lab analyzed': 4548,\n",
       " 'analyzed digital': 584,\n",
       " 'digital evidence': 2305,\n",
       " 'evidence including': 2798,\n",
       " 'including photos': 3952,\n",
       " 'photos videos': 6004,\n",
       " 'videos satellite': 9475,\n",
       " 'satellite imagery': 7314,\n",
       " 'imagery indiscriminate': 3885,\n",
       " 'indiscriminate attacks': 4008,\n",
       " 'attacks ukraine': 811,\n",
       " 'ukraine verified': 9041,\n",
       " 'verified violations': 9442,\n",
       " 'violations international': 9485,\n",
       " 'international law': 4091,\n",
       " 'law war': 4601,\n",
       " 'war crimes': 9595,\n",
       " 'march': 4927,\n",
       " 'year': 9919,\n",
       " '2022': 107,\n",
       " 'feels': 2995,\n",
       " '28': 134,\n",
       " '1945': 73,\n",
       " 'berlin': 993,\n",
       " 'madness': 4887,\n",
       " 'stop madness': 8019,\n",
       " 'madness ukraine': 4888,\n",
       " 'friend': 3242,\n",
       " 'netherlands': 5461,\n",
       " 'handymen': 3553,\n",
       " 'doing': 2402,\n",
       " 'renovations': 6698,\n",
       " 'house': 3797,\n",
       " 'apologized': 647,\n",
       " 'left': 4644,\n",
       " 'tools': 8569,\n",
       " 'defend': 2150,\n",
       " 'country': 1922,\n",
       " 'analysis': 580,\n",
       " 'couldn': 1899,\n",
       " 'predict': 6196,\n",
       " 'friend netherlands': 3244,\n",
       " 'netherlands tells': 5462,\n",
       " 'tells ukrainian': 8385,\n",
       " 'ukrainian handymen': 9203,\n",
       " 'handymen doing': 3554,\n",
       " 'doing renovations': 2406,\n",
       " 'renovations house': 6699,\n",
       " 'house day': 3798,\n",
       " 'day apologized': 2080,\n",
       " 'apologized left': 648,\n",
       " 'left tools': 4648,\n",
       " 'tools amp': 8570,\n",
       " 'amp headed': 543,\n",
       " 'headed ukraine': 3593,\n",
       " 'ukraine defend': 8829,\n",
       " 'defend country': 2153,\n",
       " 'country russia': 1931,\n",
       " 'russia military': 7005,\n",
       " 'military analysis': 5110,\n",
       " 'analysis couldn': 582,\n",
       " 'couldn predict': 1900,\n",
       " 'opganga': 5729,\n",
       " 'meaindia': 4988,\n",
       " 'ignore': 3865,\n",
       " 'experts': 2840,\n",
       " 'fakenews': 2911,\n",
       " 'use': 9378,\n",
       " 'social': 7717,\n",
       " 'run': 6936,\n",
       " 'political': 6114,\n",
       " 'propaganda': 6325,\n",
       " 'appreciate': 671,\n",
       " 'evacuation': 2783,\n",
       " 'students': 8136,\n",
       " 'stranded': 8084,\n",
       " 'social media': 7718,\n",
       " 'evacuation indian': 2785,\n",
       " 'indian students': 3986,\n",
       " 'students stranded': 8141,\n",
       " 'dear': 2108,\n",
       " 'yes': 9934,\n",
       " 'attacked': 796,\n",
       " 'image': 3881,\n",
       " 'palestine': 5816,\n",
       " 'israel': 4178,\n",
       " 'selective': 7432,\n",
       " 'outrage': 5777,\n",
       " 'palestinerussiaukraineukrainerussiawar': 5836,\n",
       " 'dear world': 2109,\n",
       " 'world yes': 9863,\n",
       " 'yes ukraine': 9935,\n",
       " 'ukraine attacked': 8806,\n",
       " 'attacked image': 798,\n",
       " 'image palestine': 3883,\n",
       " 'palestine attacked': 5817,\n",
       " 'attacked day': 797,\n",
       " 'day israel': 2083,\n",
       " 'israel selective': 4188,\n",
       " 'selective outrage': 7433,\n",
       " 'outrage palestinerussiaukraineukrainerussiawar': 5779,\n",
       " 'hello': 3631,\n",
       " 'kids': 4383,\n",
       " 'play': 6049,\n",
       " 'shells': 7538,\n",
       " 'dropping': 2504,\n",
       " 'life': 4700,\n",
       " 'little': 4747,\n",
       " 'ones': 5691,\n",
       " 'write': 9889,\n",
       " 'falling': 2915,\n",
       " 'hello world': 3633,\n",
       " 'world kids': 9839,\n",
       " 'kids today': 4384,\n",
       " 'today sleep': 8543,\n",
       " 'sleep play': 7691,\n",
       " 'play russian': 6050,\n",
       " 'russian shells': 7149,\n",
       " 'shells dropping': 7539,\n",
       " 'dropping ukraine': 2506,\n",
       " 'ukraine life': 8902,\n",
       " 'life little': 4701,\n",
       " 'little ones': 4749,\n",
       " 'ones write': 5693,\n",
       " 'write russian': 9892,\n",
       " 'shells falling': 7540,\n",
       " 'berdyansk': 990,\n",
       " 'occupiers': 5617,\n",
       " 'ukraineinvasion': 9071,\n",
       " 'ukrainewillresist': 9175,\n",
       " 'russian occupiers': 7131,\n",
       " 'ukraine ukraineinvasion': 9027,\n",
       " 'eucopresident': 2734,\n",
       " 'franceinfo': 3212,\n",
       " 'eucopresident franceinfo': 2737,\n",
       " 'franceinfo stop': 3213,\n",
       " 'received': 6594,\n",
       " 'extremely': 2875,\n",
       " 'sad': 7249,\n",
       " 'morning': 5233,\n",
       " 'display': 2355,\n",
       " '2013': 94,\n",
       " '2018': 102,\n",
       " 'lost': 4830,\n",
       " 'night': 5517,\n",
       " 'sad news': 7250,\n",
       " 'news ukraine': 5490,\n",
       " 'ukraine morning': 8914,\n",
       " 'lost life': 4833,\n",
       " 'french': 3235,\n",
       " 'rn': 6863,\n",
       " 'marine': 4935,\n",
       " 'le': 4606,\n",
       " 'pen': 5928,\n",
       " 'shredding': 7607,\n",
       " 'million': 5132,\n",
       " 'copies': 1878,\n",
       " 'page': 5805,\n",
       " 'campaign': 1345,\n",
       " 'flyer': 3121,\n",
       " 'contains': 1830,\n",
       " 'photo': 5996,\n",
       " 'course': 1942,\n",
       " 'total': 8582,\n",
       " 'shame': 7501,\n",
       " 'spread': 7864,\n",
       " 'wildfire': 9765,\n",
       " 'internet': 4094,\n",
       " 'french rn': 3236,\n",
       " 'rn marine': 6864,\n",
       " 'marine le': 4936,\n",
       " 'le pen': 4607,\n",
       " 'pen currently': 5929,\n",
       " 'currently shredding': 2034,\n",
       " 'shredding million': 7608,\n",
       " 'million copies': 5133,\n",
       " 'copies page': 1879,\n",
       " 'page campaign': 5806,\n",
       " 'campaign flyer': 1346,\n",
       " 'flyer contains': 3122,\n",
       " 'contains photo': 1831,\n",
       " 'photo course': 5997,\n",
       " 'course total': 1943,\n",
       " 'total shame': 8586,\n",
       " 'shame photo': 7503,\n",
       " 'photo spread': 5998,\n",
       " 'spread like': 7865,\n",
       " 'like wildfire': 4718,\n",
       " 'wildfire internet': 9766,\n",
       " 'internet ukraine': 4096,\n",
       " 'ukraine anonymous': 8797,\n",
       " 'terrified': 8399,\n",
       " 'consequences': 1816,\n",
       " 'tower': 8596,\n",
       " 'reported': 6707,\n",
       " 'injured': 4040,\n",
       " 'mothers': 5251,\n",
       " 'fathers': 2957,\n",
       " 'alive': 477,\n",
       " 'hour': 3787,\n",
       " 'ago': 407,\n",
       " 'world watch': 9858,\n",
       " 'watch terrified': 9675,\n",
       " 'terrified consequences': 8400,\n",
       " 'consequences attack': 1817,\n",
       " 'attack kyiv': 791,\n",
       " 'kyiv tv': 4528,\n",
       " 'tv tower': 8731,\n",
       " 'tower people': 8599,\n",
       " 'people reported': 5961,\n",
       " 'reported dead': 6708,\n",
       " 'dead injured': 2097,\n",
       " 'injured mothers': 4041,\n",
       " 'mothers fathers': 5253,\n",
       " 'fathers children': 2958,\n",
       " 'children alive': 1511,\n",
       " 'alive hour': 478,\n",
       " 'hour ago': 3788,\n",
       " 'ago stoprussia': 412,\n",
       " 'stoprussia stopputin': 8051,\n",
       " '11': 37,\n",
       " '42': 166,\n",
       " 'pm': 6071,\n",
       " 'need': 5416,\n",
       " 'coffee': 1651,\n",
       " '6th': 215,\n",
       " 'survive': 8256,\n",
       " 'know': 4454,\n",
       " 'fine': 3067,\n",
       " 'having': 3587,\n",
       " 'late': 4572,\n",
       " 'excuse': 2812,\n",
       " 'dearest': 2110,\n",
       " 'friends': 3246,\n",
       " 'want': 9569,\n",
       " 'feel': 2990,\n",
       " 'horror': 3767,\n",
       " 'love': 4845,\n",
       " '11 42': 39,\n",
       " '42 pm': 167,\n",
       " 'pm kyiv': 6073,\n",
       " 'kyiv need': 4507,\n",
       " 'need war': 5430,\n",
       " 'war coffee': 9592,\n",
       " 'coffee 6th': 1652,\n",
       " '6th night': 217,\n",
       " 'night survive': 5521,\n",
       " 'survive know': 8257,\n",
       " 'know fine': 4455,\n",
       " 'fine having': 3068,\n",
       " 'having coffee': 3588,\n",
       " 'coffee late': 1653,\n",
       " 'late excuse': 4573,\n",
       " 'excuse war': 2813,\n",
       " 'war dearest': 9599,\n",
       " 'dearest friends': 2111,\n",
       " 'friends heart': 3249,\n",
       " 'heart want': 3613,\n",
       " 'want feel': 9573,\n",
       " 'feel horror': 2991,\n",
       " 'horror love': 3768,\n",
       " 'defencehq': 2149,\n",
       " 'definitely': 2175,\n",
       " 'worth': 9879,\n",
       " 'minutes': 5170,\n",
       " 'ukriane': 9255,\n",
       " 'ukraineunderattack': 9152,\n",
       " 'ukrainekrieg': 9080,\n",
       " 'minutes watch': 5172,\n",
       " 'ukrainerussiawar ukriane': 9138,\n",
       " 'ukriane ukraineunderattack': 9261,\n",
       " 'ukraineunderattack ukrainekrieg': 9160,\n",
       " 'hungary': 3831,\n",
       " 'banned': 896,\n",
       " 'eu': 2716,\n",
       " 'weapons': 9699,\n",
       " 'territory': 8407,\n",
       " 'remember': 6677,\n",
       " 'weapons ukraine': 9705,\n",
       " 'ukraine territory': 9013,\n",
       " 'took': 8565,\n",
       " 'control': 1848,\n",
       " 'kherson': 4376,\n",
       " 'train': 8616,\n",
       " 'station': 7973,\n",
       " '32': 147,\n",
       " 'train station': 8618,\n",
       " 'support': 8210,\n",
       " 'humanitarian': 3812,\n",
       " 'donation': 2439,\n",
       " 'taiwan proud': 8305,\n",
       " 'proud support': 6363,\n",
       " 'support people': 8216,\n",
       " 'people ukraine': 5972,\n",
       " 'time need': 8513,\n",
       " 'need humanitarian': 5422,\n",
       " 'humanitarian donation': 3817,\n",
       " 'donation medical': 2442,\n",
       " 'supplies country': 8200,\n",
       " 'country amp': 1923,\n",
       " 'amp people': 551,\n",
       " 'people standwithukraine': 5964,\n",
       " 'europarl_en': 2744,\n",
       " 'europarl_en stop': 2748,\n",
       " 'welcome': 9720,\n",
       " 'ukraine ukraine': 9023,\n",
       " 'canada': 1347,\n",
       " 'supply': 8205,\n",
       " 'refuse': 6627,\n",
       " 'import': 3913,\n",
       " 'oil': 5651,\n",
       " 'trudeau': 8679,\n",
       " 'said': 7266,\n",
       " 'ukraine anti': 8798,\n",
       " 'anti tank': 631,\n",
       " 'tank weapons': 8341,\n",
       " 'russian oil': 7133,\n",
       " 'significant': 7629,\n",
       " 'number': 5584,\n",
       " 'residents': 6758,\n",
       " 'turn': 8711,\n",
       " 'soldiers': 7730,\n",
       " 'vehicles': 9435,\n",
       " 'city': 1558,\n",
       " 'russian soldiers': 7153,\n",
       " 'military vehicles': 5129,\n",
       " 'wondering': 9805,\n",
       " 'reached': 6567,\n",
       " 'till': 8503,\n",
       " 'hacked': 3528,\n",
       " 'destination': 2238,\n",
       " 'abandoned': 257,\n",
       " 'anonymous ukraine': 621,\n",
       " '15': 57,\n",
       " 'air': 432,\n",
       " 'strikes': 8110,\n",
       " '72': 221,\n",
       " 'hours': 3792,\n",
       " 'tough': 8594,\n",
       " 'maybe': 4980,\n",
       " 'cities': 1543,\n",
       " 'metro': 5082,\n",
       " 'come': 1698,\n",
       " 'new': 5468,\n",
       " 'normal': 5546,\n",
       " 'air strikes': 442,\n",
       " '72 hours': 222,\n",
       " 'russia attacks': 6956,\n",
       " 'ukraine new': 8920,\n",
       " 'naveenshekharappa': 5383,\n",
       " 'fell': 2996,\n",
       " 'victim': 9452,\n",
       " 'modi': 5202,\n",
       " 'voting': 9544,\n",
       " 'russiaukraine war': 7217,\n",
       " 'modi govt': 5204,\n",
       " 'african': 381,\n",
       " 'immigrants': 3899,\n",
       " 'tell': 8377,\n",
       " 'sidner': 7615,\n",
       " 'pushed': 6410,\n",
       " 'shoved': 7592,\n",
       " 'flee': 3104,\n",
       " 'cameroonian': 1343,\n",
       " 'told': 8549,\n",
       " 'ukrainians': 9238,\n",
       " 'good': 3405,\n",
       " 'fleeing': 3107,\n",
       " 'black': 1036,\n",
       " 'turned': 8714,\n",
       " 'brutal': 1249,\n",
       " 'african immigrants': 382,\n",
       " 'immigrants ukraine': 3900,\n",
       " 'ukraine tell': 9011,\n",
       " 'tell sidner': 8380,\n",
       " 'sidner pushed': 7616,\n",
       " 'pushed train': 6411,\n",
       " 'train shoved': 8617,\n",
       " 'shoved trying': 7593,\n",
       " 'trying flee': 8699,\n",
       " 'flee poland': 3105,\n",
       " 'poland train': 6097,\n",
       " 'station cameroonian': 7975,\n",
       " 'cameroonian residents': 1344,\n",
       " 'residents ukraine': 6759,\n",
       " 'ukraine told': 9020,\n",
       " 'told ukrainians': 8550,\n",
       " 'ukrainians good': 9243,\n",
       " 'good people': 3409,\n",
       " 'people fleeing': 5948,\n",
       " 'fleeing war': 3109,\n",
       " 'war black': 9588,\n",
       " 'black turned': 1039,\n",
       " 'turned brutal': 8715,\n",
       " 'white': 9756,\n",
       " 'closely': 1626,\n",
       " 'miles': 5101,\n",
       " 'standwithukriane': 7929,\n",
       " 'white house': 9757,\n",
       " 'russian convoy': 7107,\n",
       " '40 miles': 161,\n",
       " 'miles long': 5103,\n",
       " 'russia putin': 7017,\n",
       " 'putin ukraineunderattack': 6475,\n",
       " 'breaking': 1194,\n",
       " 'missile': 5178,\n",
       " 'strike': 8106,\n",
       " 'airbase': 444,\n",
       " 'chuguev': 1538,\n",
       " 'informations': 4030,\n",
       " 'ukrainerussiaconflict': 9098,\n",
       " 'missile strike': 5183,\n",
       " 'verified video': 9441,\n",
       " 'video informations': 9464,\n",
       " 'informations ukrainerussiaconflict': 4031,\n",
       " 'ukrainerussiaconflict ukraine': 9099,\n",
       " 'came': 1333,\n",
       " 'brilliant': 1224,\n",
       " 'win': 9769,\n",
       " 'held': 3622,\n",
       " 'february': 2982,\n",
       " '22': 120,\n",
       " 'police': 6101,\n",
       " 'department': 2217,\n",
       " 'shared': 7513,\n",
       " 'wearing': 9707,\n",
       " 'don': 2413,\n",
       " 'mess': 5065,\n",
       " 'texas': 8424,\n",
       " 'ukrainewar': 9165,\n",
       " 'thought': 8456,\n",
       " 'weak': 9694,\n",
       " 'years': 9924,\n",
       " 'covid19': 1953,\n",
       " 'pissed': 6025,\n",
       " 'looking': 4814,\n",
       " 'putinisawarcriminal': 6485,\n",
       " 'belarus': 959,\n",
       " 'stopwarinukraine': 8071,\n",
       " 'russia belarus': 6959,\n",
       " 'enormous': 2649,\n",
       " 'hit': 3710,\n",
       " 'tuesday': 8706,\n",
       " 'directly': 2323,\n",
       " 'largest': 4569,\n",
       " 'interior': 4079,\n",
       " 'ministry': 5158,\n",
       " 'explosion hit': 2852,\n",
       " 'hit central': 3711,\n",
       " 'kharkiv tuesday': 4371,\n",
       " 'tuesday morning': 8707,\n",
       " 'ukraine second': 8982,\n",
       " 'second largest': 7396,\n",
       " 'largest city': 4570,\n",
       " 'city ukraine': 1570,\n",
       " 'ukraine interior': 8883,\n",
       " 'interior ministry': 4080,\n",
       " 'ministry said': 5164,\n",
       " 'target': 8348,\n",
       " 'equivalent': 2683,\n",
       " 'bombing': 1119,\n",
       " 'county': 1936,\n",
       " 'hall': 3542,\n",
       " 'london': 4787,\n",
       " 'military target': 5122,\n",
       " 'reporting': 6717,\n",
       " 'fresh': 3237,\n",
       " 'snow': 7712,\n",
       " 'settling': 7495,\n",
       " 'ground': 3490,\n",
       " 'invaders': 4114,\n",
       " 'breached': 1187,\n",
       " 'barricades': 910,\n",
       " 'remain': 6673,\n",
       " 'world kyiv': 9841,\n",
       " 'kyiv reporting': 4515,\n",
       " 'reporting fresh': 6718,\n",
       " 'fresh snow': 3238,\n",
       " 'snow settling': 7714,\n",
       " 'settling ground': 7496,\n",
       " 'ground invaders': 3491,\n",
       " 'invaders breached': 4116,\n",
       " 'breached barricades': 1188,\n",
       " 'barricades remain': 911,\n",
       " 'remain kyiv': 6674,\n",
       " 'crimean': 1972,\n",
       " 'commander': 1714,\n",
       " 'joined': 4265,\n",
       " 'fight': 3016,\n",
       " 'urges': 9367,\n",
       " 'fellow': 2997,\n",
       " 'muslim': 5309,\n",
       " 'fighters': 3031,\n",
       " 'fight russia': 3019,\n",
       " 'fight ukraine': 3022,\n",
       " 'russia ukrainerussiawar': 7058,\n",
       " 'baby': 856,\n",
       " 'saturday': 7319,\n",
       " 'basement': 915,\n",
       " 'hospital': 3770,\n",
       " 'shelling': 7527,\n",
       " 'heartbreaking': 3615,\n",
       " 'stoprussianaggression': 8058,\n",
       " 'russian shelling': 7148,\n",
       " 'donate': 2433,\n",
       " 'proceeds': 6293,\n",
       " 'sales': 7286,\n",
       " 'series': 7474,\n",
       " 'appeal': 652,\n",
       " 'ukraine humanitarian': 8873,\n",
       " 'humanitarian crisis': 3816,\n",
       " 'repeat': 6702,\n",
       " ...}"
      ]
     },
     "execution_count": 123,
     "metadata": {},
     "output_type": "execute_result"
    }
   ],
   "source": [
    "mar01_cv.vocabulary_"
   ]
  },
  {
   "cell_type": "code",
   "execution_count": 124,
   "id": "5b35e231",
   "metadata": {},
   "outputs": [],
   "source": [
    "mar01_words = mar01_cv.get_feature_names_out()"
   ]
  },
  {
   "cell_type": "code",
   "execution_count": 125,
   "id": "15c4b534",
   "metadata": {},
   "outputs": [],
   "source": [
    "ind = np.argsort(siege_doc.sum(axis=0))[-100:]\n",
    "\n",
    "top_100_words = [mar01_words[a] for a in ind]"
   ]
  },
  {
   "cell_type": "code",
   "execution_count": 126,
   "id": "85f5894d",
   "metadata": {},
   "outputs": [
    {
     "name": "stdout",
     "output_type": "stream",
     "text": [
      "['news', 'says', 'peace', 'bomb', 'ukraineinvasion', 'eucopresident', 'israel', 'supplies', 'doing', 'tv', 'russians', 'kiev', 'troops', 'vonderleyen', 'air', 'attack', 'soldiers', 'sanctions', 'civilians', 'video', 'want', 'international', 'ukrainewar', 'children', 'anonymous', 'know', 'european', 'ukrainians', 'war ukraine', 'zelensky', 'fighting', 'ukraineunderattack', 'poland', 'state', 'time', 'potus', 'indian', 'left', 'ukraine ukrainerussiawar', 'media', 'army', 'breaking', 'palestine', 'forces', 'need', 'said', 'city', 'europe', 'don', 'day', 'president', 'like', 'invasion', 'eu', 'russiaukrainewar', 'russia ukraine', 'standwithukraine', 'support', 'country', 'council stopputin', 'stopputin stoprussia', 'today', 'just', 'stop russian', 'ukraine nato', 'aggression ukraine', 'russian aggression', 'help', 'military', 'ukraine russia', 'kharkiv', 'aggression', 'russiaukraine', 'nato close', 'stopputin', 'ukraine exclude', 'exclude russia', 'exclude', 'security council', 'russia security', 'sky ukraine', 'close sky', 'sky', 'world', 'council', 'close', 'security', 'stoprussia', 'stop', 'ukrainian', 'people', 'kyiv', 'nato', 'ukrainerussiawar', 'amp', 'war', 'putin', 'russian', 'russia', 'ukraine']\n"
     ]
    }
   ],
   "source": [
    "print(top_100_words)"
   ]
  },
  {
   "cell_type": "code",
   "execution_count": 127,
   "id": "7cf98b93",
   "metadata": {},
   "outputs": [],
   "source": [
    "opp = np.argsort(siege_doc.sum(axis=0))[:100]\n",
    "\n",
    "least_100_words = [mar01_words[a] for a in opp]"
   ]
  },
  {
   "cell_type": "code",
   "execution_count": 128,
   "id": "7e6d3962",
   "metadata": {},
   "outputs": [
    {
     "name": "stdout",
     "output_type": "stream",
     "text": [
      "['combat russian', 'plea', 'square 2008', 'europarl_en stopputin', 'attacking civilians', 'georgians refusing', 'driver', 'taking trucks', 'national guard', 'denounce', 'high precision', 'correspondent', 'russia nuclear', '40 122mm', 'bless ukraine', 'cameraman street', 'spoken', 'russia stopped', 'vitaliy_klychko', 'air defence', 'playing friends', 'raided russian', 'thinking difficult', 'amp bomb', 'shelter specialized', 'ukraine grateful', 'efforts indian', 'ranks', 'rostov', 'sold', 'destroyed ukrainian', 'picoftheday', 'govt submissionwe', 'includes subtitles', 'msta', 'family died', 'rubblerussiaukraine', 'ukrainewar russiabreaking', 'rubblerussiaukraine russianarmy', 'attack palestinen', 'uk ukraine', 'loaded 40', 'putin attacking', 'barbaric crime', 'ukraine international', 'combat medic', 'spain', 'base okhtyrka', 'prosecutor international', 'russiaukraine racisteu', 'took place', 'survivor grandson', 'prohibiting', 'usa come', 'donations ukraine', 'north east', 'information attacks', 'beat', 'prevent barbaric', 'prisoners', 'feb 28', 'russia tonight', 'fuel power', 'intercepted', 'uav', 'forget anonymous', 'russia waiting', 'poltava', 'china iran', 'russiabreaking', 'russiabreaking news', 'want make', 'lines taking', 'times send', 'occupying', 'unusual', 'russian gas', 'life saving', 'afghanistan iraq', 'indians stranded', 'predsjednik_cg', 'growing signs', 'confront', 'forces raided', 'kyivcut city', 'command post', 'imperialist', 'refusing fuel', 'standwithukrainestoprussianagression', 'ukrainerussiaconflict ukrainerussiacrisis', 'meaning', 'expression', 'remembering playing', 'diplomat', 'mistakes', 'failing', '131 command', 'direction cameraman', 'media ukrainerussiawar', 'trucks capturing']\n"
     ]
    }
   ],
   "source": [
    "print(least_100_words)"
   ]
  },
  {
   "cell_type": "code",
   "execution_count": 146,
   "id": "3e2f445d",
   "metadata": {},
   "outputs": [
    {
     "name": "stdout",
     "output_type": "stream",
     "text": [
      "['right', 'new', 'students', 'countries', 'news', 'says', 'peace', 'bomb', 'ukraineinvasion', 'eucopresident', 'israel', 'supplies', 'tv', 'russians', 'kiev', 'troops', 'vonderleyen', 'air', 'attack', 'soldiers', 'civilians', 'sanctions', 'video', 'want', 'international', 'ukrainewar', 'children', 'anonymous', 'know', 'european', 'ukrainians', 'war ukraine', 'zelensky', 'fighting', 'ukraineunderattack', 'poland', 'state', 'time', 'potus', 'indian', 'left', 'ukraine ukrainerussiawar', 'media', 'army', 'breaking', 'palestine', 'forces', 'need', 'said', 'city', 'europe', 'day', 'president', 'like', 'invasion', 'eu', 'russiaukrainewar', 'standwithukraine', 'support', 'russia ukraine', 'country', 'council stopputin', 'stopputin stoprussia', 'today', 'stop russian', 'ukraine nato', 'aggression ukraine', 'russian aggression', 'help', 'military', 'ukraine russia', 'kharkiv', 'aggression', 'russiaukraine', 'nato close', 'stopputin', 'ukraine exclude', 'exclude russia', 'exclude', 'security council', 'russia security', 'sky ukraine', 'close sky', 'sky', 'world', 'council', 'close', 'security', 'stoprussia', 'stop', 'ukrainian', 'people', 'kyiv', 'nato', 'ukrainerussiawar', 'war', 'putin', 'russian', 'russia', 'ukraine']\n"
     ]
    }
   ],
   "source": [
    "mar01token_cv = CountVectorizer(ngram_range=(1,2),stop_words='english',max_features=10000)\n",
    "siege_token = mar01token_cv.fit_transform(mar01_token)\n",
    "siege_token_doc = siege_token.toarray()\n",
    "mar01token_cv.vocabulary_\n",
    "mar01token_words = mar01token_cv.get_feature_names_out()\n",
    "ind_toke = np.argsort(siege_token_doc.sum(axis=0))[-100:]\n",
    "\n",
    "top_100_words_token = [mar01token_words[a] for a in ind_toke]\n",
    "\n",
    "print(top_100_words_token)"
   ]
  },
  {
   "cell_type": "code",
   "execution_count": 148,
   "id": "53df04fb",
   "metadata": {},
   "outputs": [
    {
     "name": "stdout",
     "output_type": "stream",
     "text": [
      "['confronting country', 'support making', 'peace world', 'starmer', 'begin 24', 'terror totally', 'grand', 'passing', 'concrete', 'war crisis', 'nationals swarmed', 'profound', 'contribute strengthening', '152mm msta', '152mm', 'strengthening russia', 'ukraine supportukraine', '140', 'protesting stopputin', 'roskomnadzor', 'aside', 'continued ukraine', '2004', 'jeancastex', 'claimed intended', '29 years', 'msta self', 'inconvenient', 'canadian comedian', 'ukraine continuing', 'ukraine day', 'russiaukraine define', 'polina', 'picoftheday ukraine', 'initial', 'charles', 'intended use', 'border serving', 'vonderleyen emmanuelmacron', 'perakov 29', 'helmets', 'supplies contribute', 'city center', 'israel ukrainerussiawar', 'japan introduces', 'hardware', 'transfers', 'pummelled russia', 'mrls loaded', 'outright', 'marks', 'airindia', 'evacuate ukraine', 'exports general', 'today fighting', 'media ukraine', '000 russian', 'tonight mrls', 'deeper', 'fifth day', 'enormous explosion', 'offices', 'repeatedly', 'relying', 'let work', 'uav', 'bombings', 'includes subtitles', 'bomb starve', 'invaders volodymyr', 'supplies bomb', 'playing friends', 'taking trucks', 'aged', 'plea', 'ship includes', 'war know', 'bless ukraine', 'israel ukraine', 'meaning', 'north east', 'boost', 'occupying', 'media ukrainerussiawar', 'nwo', 'indians stranded', 'brigade ukraine', 'nuclear weapon', 'russiaukraine racisteu', 'nowar anonymous', 'square 2008', 'information attacks', 'intercepted', 'sunflowers', 'shop', 'picoftheday', 'thinking difficult', 'spoken', 'boxing', 'uk ukraine']\n"
     ]
    }
   ],
   "source": [
    "opp_toke = np.argsort(siege_token_doc.sum(axis=0))[:100]\n",
    "\n",
    "least_100_words_token = [mar01token_words[a] for a in opp_toke]\n",
    "print(least_100_words_token)"
   ]
  },
  {
   "cell_type": "code",
   "execution_count": 256,
   "id": "68856ecc",
   "metadata": {},
   "outputs": [
    {
     "name": "stdout",
     "output_type": "stream",
     "text": [
      "Top 100 words\n",
      "['ru', 'looted', 'kids', 'act', 'oblast', 'murdered', 'hello', 'girls', 'europe', 'kyiv region', 'russiaukrainewar', 'tied backs', 'trying', 'support', 'russian troops', 'backs', 'families', 'needs', 'says', 'let', 'leave', 'said', 'near kyiv', 'genocideofukrainians', 'liberated', 'clear', 'road', 'russian soldiers', 'help', 'destroyed', 'stopputinnow', 'need', 'children', 'ukrainerussiawar', 'photo', 'time', 'occupiers', 'gas', 'right', 'crime', 'hands tied', 'stop', 'genocide freeukraine', 'new', 'stopthewar ukraine', 'standwithukraine stopthewar', 'freeukraine standwithukraine', 'woman', 'genocide genocide', 'military', 'irpin', 'stopthewar', 'know', 'putinwarcrimes', 'freeukraine', 'atrocities', 'dead', 'left', 'army', 'region', 'shot', 'troops', 'tied', 'day', 'ukrainians', 'like', 'nato', 'city', 'rape', 'raped', 'mass', 'humiliate', 'hands', 'today', 'near', 'forces', 'war crimes', 'stoprussia', 'mariupol', 'soldiers', 'buchamassacre', 'crimes', 'russianwarcrimes', 'bodies', 'world', 'women', 'russians', 'people', 'killed', 'civilians', 'genocide', 'kyiv', 'ukrainian', 'putin', 'standwithukraine', 'war', 'bucha', 'russia', 'russian', 'ukraine']\n",
      "Least freq 100 words\n",
      "['potential membership', 'reason existed', 'str lermontov', 'update recent', 'red line', 'traffic', 'refrigerators', 'baltic fleet', 'near irpin', 'spox peskov', 'unable', 'navalny', 'concerned trade', 'nato update', 'tracks concerning', 'dependence', 'concerning nato', 'nato potential', 'stoprussianow', 'condoms pockets', 'ukraine right', 'trump evil', 'report tonight', 'trump called', 'comment share', 'confrontation', 'command eastern', 'battlegroups following', 'blue 2022', 'training exercises', 'destroyed brem', 'putin_in_hague', 'clarity', 'blank', 'nlaw', 'climate', 'putinwarcrimes buchamassacre', 'shut', 'desperately', 'putinwarcrimes standwithukraine', 'quantity', 'collect', 'rally today', 'shortly', 'ran ukrainian', 'new multinational', 'beginning war', 'strengthened', 'network', 'combatants released', 'bbcnewsten bowenbbc', 'battery command', 'civilised world', 'shame russia', 'towns foreign', 'antony blinken', 'antony', 'crimes trials', 'ed', 'announces', 'defend putin', 'criminals russia', 'criticalthreats', 'screaming ukraine', 'russian political', 'staffs', 'staffs giz', 'scene civilians', 'alliance allies', 'usa uk', 'russian withdrawal', 'russians bad', 'russians leave', 'decisive manner', 'ago attempting', 'ukraine odessa', 'manner thread', 'maks levin', 'ukraine hoping', 'murdered reason', 'membership advanced', 'apparent russian', 'multinational battlegroups', 'msta self', 'asylum', 'result expected', 'convoy ran', 'demand stop', 'emerging', 'stopgenocideofukrainians', 'minor', 'serhii', 'ministerputinatwar', 'country world', 'million worth', 'embargo eu', 'sent training', 'sensitive', 'crew', 'sri lankan']\n"
     ]
    }
   ],
   "source": [
    "apr03token_cv = CountVectorizer(ngram_range=(1,2),stop_words='english',max_features=10000)\n",
    "bucha_token = apr03token_cv.fit_transform(apr03_token)\n",
    "bucha_token_doc = bucha_token.toarray()\n",
    "apr03token_cv.vocabulary_\n",
    "apr03token_words = apr03token_cv.get_feature_names_out()\n",
    "\n",
    "ind_bucha = np.argsort(bucha_token_doc.sum(axis=0))[-100:]\n",
    "top_100_words_bucha = [apr03token_words[a] for a in ind_bucha]\n",
    "print(\"Top 100 words\")\n",
    "print(top_100_words_bucha)\n",
    "\n",
    "opp_bucha = np.argsort(bucha_token_doc.sum(axis=0))[:100]\n",
    "\n",
    "least_100_words_bucha = [apr03token_words[a] for a in opp_bucha]\n",
    "print(\"Least freq 100 words\")\n",
    "print(least_100_words_bucha)"
   ]
  },
  {
   "cell_type": "code",
   "execution_count": 184,
   "id": "48d8de91",
   "metadata": {},
   "outputs": [],
   "source": [
    "mar01neg = combined_mar01.sort_values(\"neg\",ascending=False)\n",
    "mar01pos = combined_mar01.sort_values(\"pos\",ascending=False)"
   ]
  },
  {
   "cell_type": "code",
   "execution_count": 220,
   "id": "707b23b7",
   "metadata": {},
   "outputs": [],
   "source": [
    "mar01comp_neg = combined_mar01.sort_values(\"compound\")\n",
    "mar01comp_pos = combined_mar01.sort_values(\"compound\",ascending=False)"
   ]
  },
  {
   "cell_type": "code",
   "execution_count": 247,
   "id": "2f1d76c9",
   "metadata": {},
   "outputs": [],
   "source": [
    "mar13neg = combined_mar13.sort_values(\"neg\",ascending=False)\n",
    "mar13pos = combined_mar13.sort_values(\"pos\",ascending=False)\n",
    "mar13comp_neg = combined_mar13.sort_values(\"compound\")\n",
    "mar13comp_pos = combined_mar13.sort_values(\"compound\",ascending=False)"
   ]
  },
  {
   "cell_type": "code",
   "execution_count": 219,
   "id": "614d4c25",
   "metadata": {},
   "outputs": [],
   "source": [
    "mar15neg = combined_mar15.sort_values(\"neg\",ascending=False)\n",
    "mar15pos = combined_mar15.sort_values(\"pos\",ascending=False)\n",
    "mar15comp_neg = combined_mar15.sort_values(\"compound\")\n",
    "mar15comp_pos = combined_mar15.sort_values(\"compound\",ascending=False)"
   ]
  },
  {
   "cell_type": "code",
   "execution_count": 221,
   "id": "343000ba",
   "metadata": {},
   "outputs": [],
   "source": [
    "mar16neg = combined_mar16.sort_values(\"neg\",ascending=False)\n",
    "mar16pos = combined_mar16.sort_values(\"pos\",ascending=False)\n",
    "mar16comp_neg = combined_mar16.sort_values(\"compound\")\n",
    "mar16comp_pos = combined_mar16.sort_values(\"compound\",ascending=False)"
   ]
  },
  {
   "cell_type": "code",
   "execution_count": 222,
   "id": "645fa164",
   "metadata": {},
   "outputs": [],
   "source": [
    "apr03neg = combined_apr03.sort_values(\"neg\",ascending=False)\n",
    "apr03pos = combined_apr03.sort_values(\"pos\",ascending=False)\n",
    "apr03comp_neg = combined_apr03.sort_values(\"compound\")\n",
    "apr03comp_pos = combined_apr03.sort_values(\"compound\",ascending=False)"
   ]
  },
  {
   "cell_type": "code",
   "execution_count": 223,
   "id": "96c53a62",
   "metadata": {},
   "outputs": [],
   "source": [
    "apr08neg = combined_apr08.sort_values(\"neg\",ascending=False)\n",
    "apr08pos = combined_apr08.sort_values(\"pos\",ascending=False)\n",
    "apr08comp_neg = combined_apr08.sort_values(\"compound\")\n",
    "apr08comp_pos = combined_apr08.sort_values(\"compound\",ascending=False)"
   ]
  },
  {
   "cell_type": "code",
   "execution_count": 201,
   "id": "648c5dd6",
   "metadata": {},
   "outputs": [],
   "source": [
    "def extract_tweets(df,number):\n",
    "    print(\"Top \"+str(number)+\" tweets:\")\n",
    "    for i in range(0,number):\n",
    "        print(str(i+1)+\" \"+df.iloc[i][\"text\"])\n",
    "    return"
   ]
  },
  {
   "cell_type": "code",
   "execution_count": null,
   "id": "805827e5",
   "metadata": {},
   "outputs": [],
   "source": []
  },
  {
   "cell_type": "code",
   "execution_count": 224,
   "id": "0d9ea5d2",
   "metadata": {},
   "outputs": [
    {
     "name": "stdout",
     "output_type": "stream",
     "text": [
      "March 01: Negative\n",
      "Top 20 tweets:\n",
      "1 Fury 6.5/10UkraineRussiaWar fury \n",
      "2 Stop War now!UkrianeRussiaUkraineWarStopWarInUkraine \n",
      "3 ukraine (shamelessly stolen) \n",
      "4 Destruction Kharkiv \n",
      "5 Fuck Putin \n",
      "6 Fuck Putin \n",
      "7 Fuck Putin. \n",
      "8 putin Stop this shit! \n",
      "9 RUSSIANS KILL CIVILIANS!!!UkraineRussiaWarStopRussiaStopPutinRussiaInvadedUkraine\n",
      "10 stop the war policy.Ukraine \n",
      "11 Defeat Putin'sPuppets \n",
      "12 STOP UkraineRussiaWar \n",
      "13 nuclearwarUkraineRussiaWar WorldWarIII REAL WAR Criminals.. \n",
      "14 nuclearwarUkraineRussiaWar WorldWarIII REAL WAR Criminals.. \n",
      "15 Bullshit incoming Ukraine Russia war \n",
      "16 Fuck Ukraine for its racism \n",
      "17 Spam, Spam everywhere UkraineRussiaWar \n",
      "18 grim times, grim header ☹️Ukraine SüdwindMagazin \n",
      "19 STOP the war, now! Ukraine\n",
      "20 STOP the war, now! Ukraine\n"
     ]
    }
   ],
   "source": [
    "print(\"March 01: Negative\")\n",
    "extract_tweets(mar01neg,20)"
   ]
  },
  {
   "cell_type": "code",
   "execution_count": 225,
   "id": "5e1c9a61",
   "metadata": {},
   "outputs": [
    {
     "name": "stdout",
     "output_type": "stream",
     "text": [
      "March 01: Positive\n",
      "Top 20 tweets:\n",
      "1 Amazing courage. Ukriane \n",
      "2 GOD Bless Ukraine \n",
      "3 God bless Russia\n",
      "4 Hope for peace hope peace Ukraine RussiaUkraine \n",
      "5 Well well well well well.Schröder Ukraine \n",
      "6 Freedom fighter.DefendUkraineDefendDemocracyUkraineRussiaWar \n",
      "7 GOD BLESS YOU! GOD BLESS UKRAINE! GOD GIVE PEACE AND WORLD FREEDOM! PRAYS! PRAY FOR PEACE! PRAY FOR UKRAINE!🇺🇦 \n",
      "8 HUGE WIN UkraineRussiaWar Ukriane \n",
      "9 Lmfao UkraineWar \n",
      "10 Lmfao UkraineWar \n",
      "11 Lmfao UkraineWar \n",
      "12 Support Ukraine!! \n",
      "13 @MarcMichales @frijolesloca Wow.  Powerful. True.  PutinWarCriminal\n",
      "14 Creativity is intelligence having fun.  tuesdayvibeUkraineRussiaWar \n",
      "15 Welcome move.UkraineRussiaWar \n",
      "16 putin please help the Peace @VPutin \n",
      "17 Help Ukraine \n",
      "18 Help us Help Ukraine \n",
      "19 Help Ukraine \n",
      "20 Praying ukraine \n"
     ]
    }
   ],
   "source": [
    "print(\"March 01: Positive\")\n",
    "extract_tweets(mar01pos,20)"
   ]
  },
  {
   "cell_type": "code",
   "execution_count": 226,
   "id": "fd02eea2",
   "metadata": {},
   "outputs": [
    {
     "name": "stdout",
     "output_type": "stream",
     "text": [
      "March 01: Compound - most negative\n",
      "Top 20 tweets:\n",
      "1 Ukraine UkraineRussia UkraineRussiaWar UkraineWar russiaBreaking News: Just Now..Ukraine vs Russia War😭😭😭😭😭😭😭😭😭😭😭😭😭😭😭😭😭😭😭😭😭😭😭\n",
      "2 Ukraine UkraineRussia UkraineRussiaWar UkraineWar russiaBreaking News: Just NowUkraine vs Russia War😭😭😭😭😭😭😭😭😭😭😭😭😭😭😭😭😭😭😭😭😭😭😭\n",
      "3 Ukraine UkraineRussia UkraineRussiaWar UkraineWar russiaBreaking News: Just Now.......++++++Ukraine vs Russia War😭😭😭😭😭😭😭😭😭😭😭😭😭😭😭😭😭😭😭😭😭😭\n",
      "4 Ukraine UkraineRussia UkraineRussiaWar UkraineWar russiaBreaking News: Just Now.......Ukraine vs Russia War😭😭😭😭😭😭😭😭😭😭😭😭😭😭😭😭😭😭😭😭😭😭\n",
      "5 Ukraine UkraineRussia UkraineRussiaWar UkraineWar russiaBreaking News: Just Now......++Ukraine vs Russia War😭😭😭😭😭😭😭😭😭😭😭😭😭😭😭😭😭😭😭😭😭😭\n",
      "6 Ukraine UkraineRussia UkraineRussiaWar UkraineWar russiaBreaking News: Just Now....+.Ukraine vs Russia War😭😭😭😭😭😭😭😭😭😭😭😭😭😭😭😭😭😭😭😭😭😭\n",
      "7 Ukraine UkraineRussia UkraineRussiaWar UkraineWar russiaBreaking News: Just NowUkraine vs Russia War😭😭😭😭😭😭😭😭😭😭😭😭😭😭😭😭😭😭😭😭😭😭\n",
      "8 Ukraine UkraineRussia UkraineRussiaWar UkraineWar russiaBreaking News: Just NowUkraine vs Russia War😭😭😭😭😭😭😭😭😭😭😭😭😭😭😭😭😭😭😭😭😭😭\n",
      "9 Ukraine UkraineRussia UkraineRussiaWar UkraineWar russiaBreaking News: Just Now.....,,,,..Ukraine vs Russia War😭😭😭😭😭😭😭😭😭😭😭😭😭😭😭😭😭😭😭😭😭😭\n",
      "10 Ukraine UkraineRussia UkraineRussiaWar UkraineWar russiaBreaking News: Just Now.......+++...Ukraine vs Russia War Live😭😭😭😭😭😭😭😭😭😭😭😭😭😭😭😭😭😭😭😭😭😭\n",
      "11 Ukraine UkraineRussia UkraineRussiaWar UkraineWar russiaBreaking News: Just Now.......+++...Ukraine vs Russia War.....😭😭😭😭😭😭😭😭😭😭😭😭😭😭😭😭😭😭😭😭😭😭\n",
      "12 Ukraine UkraineRussia UkraineRussiaWar UkraineWar russiaBreaking News: Just Now..........+....Ukraine vs Russia War😭😭😭😭😭😭😭😭😭😭😭😭😭😭😭😭😭😭😭😭😭😭\n",
      "13 Ukraine UkraineRussia UkraineRussiaWar UkraineWar russiaBreaking News: Just Now.........+.....Ukraine vs Russia War😭😭😭😭😭😭😭😭😭😭😭😭😭😭😭😭😭😭😭😭😭😭\n",
      "14 Ukraine UkraineRussia UkraineRussiaWar UkraineWar russiaBreaking News: Just NowUkraine vs Russia War😭😭😭😭😭😭😭😭😭😭😭😭😭😭😭😭😭😭😭😭😭😭\n",
      "15 Ukraine UkraineRussia UkraineRussiaWar UkraineWar russiaBreaking News: Just Now.....+++...Ukraine vs Russia War😭😭😭😭😭😭😭😭😭😭😭😭😭😭😭😭😭😭😭😭😭\n",
      "16 Ukraine UkraineRussia UkraineRussiaWar UkraineWar russiaBreaking News: Just NowUkraine vs Russia War😭😭😭😭😭😭😭😭😭😭😭😭😭😭😭😭😭😭😭😭😭\n",
      "17 Ukraine UkraineRussia UkraineRussiaWar UkraineWar russiaBreaking News: Just Now.....++++Ukraine vs Russia War😭😭😭😭😭😭😭😭😭😭😭😭😭😭😭😭😭😭😭😭😭\n",
      "18 Ukraine UkraineRussia UkraineRussiaWar UkraineWar russiaBreaking News: Just NowUkraine vs Russia War😭😭😭😭😭😭😭😭😭😭😭😭😭😭😭😭😭😭😭😭\n",
      "19 Ukraine UkraineRussia UkraineRussiaWar UkraineWar russiaBreaking News: Just Now.......+....Ukraine vs Russia War😭😭😭😭😭😭😭😭😭😭😭😭😭😭😭😭😭😭😭😭\n",
      "20 Ukraine UkraineRussia UkraineRussiaWar UkraineWar russiaBreaking News: Just Now.......++Ukraine vs Russia War😭😭😭😭😭😭😭😭😭😭😭😭😭😭😭😭😭😭😭😭\n"
     ]
    }
   ],
   "source": [
    "print(\"March 01: Compound - most negative\")\n",
    "extract_tweets(mar01comp_neg,20)\n"
   ]
  },
  {
   "cell_type": "code",
   "execution_count": 228,
   "id": "559e30c0",
   "metadata": {},
   "outputs": [
    {
     "name": "stdout",
     "output_type": "stream",
     "text": [
      "March 01: Compound - most positive\n",
      "Top 20 tweets:\n",
      "1 Listen to ABBA’s “Ode to freedom”! The group should dedicate the song to the brave Ukrainian people. @ABBA UkraineRussiaWar UkraineUnderAttack 💛💙💛💙💛💙💛💙💛💙💛💙 \n",
      "2 @HeikkiOjala Happy New Week in beautiful Finland 🇫🇮 💙🇫🇮Dear Heikiki 💙🕊Good morning ☕️💐🌿💐 1/6/8c sunny ☀️ later ☀️Hugs from Wendy ☀️😻😻 AnimalLovers 😻😻🕊😻 MondayMorning ☕️💐☕️ UkraineConflict ☮️☮️☮️ PeaceNotWar ☮️💙☮️💙 \n",
      "3 Sing louder &amp; love harder ... it's what the world needs now. 💛💛💛💛💛💛💛 peace in ukraine love shines bright Photo Credit: Jim Ziegler @ucmusicman \n",
      "4 lucky in love falls why short of the truth!! 🥲🇺🇦💖🤍😚🤍🥳🥳🤍🤍🍯♥️🎈💋💙🎀💗💌🖤🌷🤍🌴💚❤️‍🔥 keepupEuphoriagoodforthesoul911LoneStarcarFckPutinweekendbehaviourEuphoriaHBOMax UkraineRussiaWarWWERawEuphoriaFinale gymmfwdaterush Miamidatenight\n",
      "5 @idclrWorldPeace @AharoniAda @kliebs @relax4balance @nellywagner @SkyBridgeMusic @guanduania @EmperorJustusI @AnneGWoodhead1 @Lightness2022 @HultinKatarina @HisHoneyButt @m__iwakiri @tomalpat @ErikaPolyk @mandyhoskin1 @raja00710 @Conduru @UtakoMusic 🇺🇦♥️🇺🇦♥️🇺🇦♥️🇺🇦♥️🇺🇦Thank you so much for the inclusion.It is an honor to be on such a brilliant list.I have happily followed everyone!We are always StrongerTogetherI Declare World Peace IDWPStand With Ukraine!         ♥️🇺🇦♥️ \n",
      "6 Good Tuesday marnin' me ducks! Rise and shine to a hopeful new day! How lucky are the most of us to wake up living in places where we safe and free? My heart is with the people who aren't as lucky may God bless you and keep you safe 🙏 Ukraine 💙💛 much love ❤️ da Newf.. \n",
      "7 Good Tuesday marnin' me ducks! Rise and shine to a hopeful new day! How lucky are the most of us to wake up living in places where we safe and free? My heart is with the people who aren't as lucky may God bless you and keep you safe 🙏 Ukraine 💙💛 much love ❤️ da Newf.. \n",
      "8 librarytwitter Ukriane people are amazing!! Sending love and hope from America we love you 💕💕💕 love UkraineRussiaWar RussiaUkraine \n",
      "9 TulipTuesday  FlowersForUkraine Another collage of blue purple flowers that represent the sky &amp; yellow tulips &amp; other flowers that represent sunflower fields 🌻 For the people of Ukraine May God give you strength &amp; courage 🙏🏼🇺🇦 🕊💙💛 💙💛💙💛🕊 IStandWithUkraine StopWarNow \n",
      "10 @agavecorn @fab4screamie @lionsdenmother1 @PRubesa @Lindsay68365003 @DonnaJo1002 @lizwonders1 @PattiKimble @NoreneD39766667 @perrigoat @1stCAV_AM_1972 @AndrewTRei1 @unewmeb41 @network_gal @Valkyrry @Swags_D17 @grupp_arthur @JonMesser7 @elisabeth_pal @kim_f86 @Robyn_CherCrew @TheAwkwardLefty @dorismelmore1 @Jeeneree @GlennVotesBlue @mitch_gorman @JameJoh86430339 @TrishBeMe @AveryBa68752542 @WebbL03 @MoreWhit @dac37799066 @nadiepetah @rlongman1 @MVRaiderFan @lotus12282633 @debbie_american @Cherfan4ever1 @Meiguo_nan @gregdemarco1964 @TXhoneydew @RestlessNews @judeaa @markie_kmarky8 @kasseykrammer @SaulTgh @boris3324 @christraynor @Impeach66051636 @yazzyqz So cute 🥰. I’m soon going to have to jump off here. I loved my time with our great gang. I hope you &amp;everyone have a night of good rest &amp; sweet dreams. I’m going to have to get my head out of this war for awhile. Our hearts break for Ukraine. Such amazing people. Putin=👺😪🇧🇸❤️\n",
      "11 My heart 💔 for all those fighting for country in UkraineI StandWithUkraine and wish you strength and pray for your safety 🙏   Power vibes 💪 for success Zelensky🌻 SunflowerSeeds 🌻🌻  💗 I LOVE YOU ALL 💗🙏 \n",
      "12 This man is a hero and I just wanted to honor him VolodymyrZelensky  Ukraine 💙💛💙💛💙💛 \n",
      "13 IF THERE IS ANY TRUTH IN THIS VIDEO! I AM WITH PUTIN!! 😂😂😂😂😂😂😂😂😂😂😂😂😂😂Russia Ukraine war \n",
      "14 GOOD MORNING MEMBERS OF THIS WINNING FAMILY.  HOPE YOU ALL HAD A GREAT NIGHT. STAY BLESSED AS WE BEGIN THIS NEW DAY WITH  GOD'S UNLIMITED GRACE AND BLESSINGS. KEEP SUBCRIBING AND KEEP WINNING!!!GOOD MORNINGtuesdaymotivations CarabaoCupFinal Dadaba Ukraine VGMA23unsung\n",
      "15 Dear @Ukraine I am from india and m just 13 years old boy. I can't help you bcoz m not a soldiers but my best wishes with you. My best wishes definitely help you. God will help you. God r listening  my Mankibaat Ukraine UkraineRussiaWar Haarkebaadhijeethai 👍\n",
      "16 Hey guys! Just donated ©RB 112 to help Support NFTUkraine! ☮️✌🏼💙💛Support 🕊 Donate  Peace &amp; Love! ❤️NFTUkraine support peace nftcommunity ukraine \n",
      "17 I feel very bad not being able to do more, but I'm trying my best. I hope this little drop in the ocean could help someone.🙏Please share with all your friends💙💛BTC Ethereum BNB Solana Binance Ukraine NoWar love \n",
      "18 @EnLiEretzAheret 🤣🤣🤣🤣 It looks like I'm in excellent company but there seems to be a bit of a queue!  Zelensky ❤❤❤\n",
      "19 🇷🇺🇷🇺🇷🇺An old video of Putin fulfilling a blind girl's dream of giving him a TV interview was circulated💙💚💛🧡❤️💜💔❤️‍🩹❣️UkraineRussiaWar RussiaUkraine \n",
      "20 🇷🇺🇷🇺🇷🇺An old video of Putin fulfilling a blind girl's dream of giving him a TV interview was circulated💙💚💛🧡❤️💜💔❤️‍🩹❣️UkraineRussiaWar RussiaUkraine \n"
     ]
    }
   ],
   "source": [
    "print(\"March 01: Compound - most positive\")\n",
    "extract_tweets(mar01comp_pos,20)"
   ]
  },
  {
   "cell_type": "code",
   "execution_count": 249,
   "id": "604811e1",
   "metadata": {},
   "outputs": [
    {
     "name": "stdout",
     "output_type": "stream",
     "text": [
      "March 13: Negative\n",
      "Top 20 tweets:\n",
      "1 flop\n",
      "2 ANXIOUS\n",
      "3 blocked!\n",
      "4 Shitty.\n",
      "5 UNEASY\n",
      "6 Devastated\n",
      "7 DEAD. \n",
      "8 Stop domestic violence! \n",
      "9 More WAR \n",
      "10 Anxiety attack again.\n",
      "11 body pain!!!!!!\n",
      "12 POOR Iraq! \n",
      "13 War crimesStandWithUkraine \n",
      "14 Putin's War...\n",
      "15 @fayeeerytail_ Bullshit\n",
      "16 same bitch \n",
      "17 Fuck Putin! \n",
      "18 fries po\n",
      "19 The bloody scumbag Putin \n",
      "20 Fuck RussiaUkraine  \n"
     ]
    }
   ],
   "source": [
    "print(\"March 13: Negative\")\n",
    "extract_tweets(mar13neg,20)"
   ]
  },
  {
   "cell_type": "code",
   "execution_count": 250,
   "id": "ce031f72",
   "metadata": {},
   "outputs": [
    {
     "name": "stdout",
     "output_type": "stream",
     "text": [
      "March 13: Positive\n",
      "Top 20 tweets:\n",
      "1 lover! \n",
      "2 Please \n",
      "3 Congrats.\n",
      "4 cutie\n",
      "5 Trust \n",
      "6 Dream... \n",
      "7 OKAY\n",
      "8 ✨virtual hugs ✨💖\n",
      "9 @23ariel2 You're welcome 💗💗💗\n",
      "10 Better GOD Blessed Ukraine \n",
      "11 Happy Monday 💗 \n",
      "12 Motivation &amp; Opportunity🤗💖 \n",
      "13 good morning, happy monday 💖\n",
      "14 Wow. Interesting read.UkraineWar  \n",
      "15 Coach💖 \n",
      "16 @tiandesal Truly haha\n",
      "17 Thank goodness StandWithUkraine \n",
      "18 @deedaboiii Congratulations!!!!\n",
      "19 Love you!!! \n",
      "20 Good morning monday 💖\n"
     ]
    }
   ],
   "source": [
    "print(\"March 13: Positive\")\n",
    "extract_tweets(mar13pos,20)"
   ]
  },
  {
   "cell_type": "code",
   "execution_count": 251,
   "id": "1c465b81",
   "metadata": {},
   "outputs": [
    {
     "name": "stdout",
     "output_type": "stream",
     "text": [
      "March 13: Compound - most negative\n",
      "Top 20 tweets:\n",
      "1 🕊☦️🕊 PRAYING FOR THE SOUL SALVATION OF BOTHUKRAINE &amp; RUSSIABECAUSE MY MASTER SAYS, ABOUT EVERY HUMAN BEING:“FATHER FORGIVE THEM, BECAUSE THEY DO NOT KNOW WHAT THEY ARE DOING”😭😭😭😭😭😭😭😭😭😭😭😭😭😭😭😭😭😭😭😭😭😭😭😭😭😭😭😭😭😭😭😭😭😭😭😭😭😭😭😭😭😭😭😭😭😭😭😭 \n",
      "2 Fascist Putin genocide against civilians in Bucha,Ukraine continues. 76 civilians buried in mass graves, some of them, impossible to establish ID. CHILDREN,WOMEN,ELDERY…😢😢😢😢😢😢😢😢😢😢😢“Russian Peace” for non Russian!🤬🇷🇺☠️🇷🇺Ukraine War Fascist Putin WarCrimes \n",
      "3 In Tigray, @hrw reported \"the widespread conflict-related sexual violence including rape, gang rape, sexual slavery, and torture. Sexual violence took place alongside killings of family members, beatings, and psychological violence.\" IWD2022 Justice4TigrayWomen @endrapeinwar\n",
      "4 Sounds like the UkraineWar might be ending. So the Covid 19 “news” is coming back 😭😭😭😭😭😭😭😭😭😭😭😭 \n",
      "5 “Don't give to anyone the power to put you down. Haters are losers pretending to be winners.”Paulo Coelho now saying, war criminals, mass killers and liars Putin &amp; Lavrov using bombs, poison gas and lies are winners and the resistance are \"losers\", \"haters\" or \"Russophobes. \n",
      "6 @dkaleniuk @joncoopertweets @NATO @USNATO enough of sanctions! We’re watching a biblical reenactment of David &amp; Goliath but with bombs. Time to stop this war criminal. PERIOD! To sit back &amp; watch a defenceless country &amp; civilians being killed for no reason other than power is an outrage! StopPutinNOW\n",
      "7 “Don't give to anyone the power to put you down. Haters are losers pretending to be winners.”Paulo Coelho saying, war criminals, mass killers and liars Putin &amp; Lavrov using bombs, poison gas and lies should get their way and the resistance are \"haters\" or \"Russophobes. \n",
      "8 BREAKING: (War Criminal) Stops Purchasing Oil From (War Criminal), Seeks Purchase of Oil Shortfall From (War Criminal) Creating Worse Humanitarian Crisis Than Ukraine'sOil WarCriminal WARINUKRAINE RussiaUkraineWar Biden Putin MBS Sanctions Yemen MakeItMakeSense\n",
      "9 @M45966441 Putin hates Ukranian people. Putin hates men. Putin hates women. Putin hates children. Putin hates babies. Putin hates hospitals. Putin hates houses. Putin hates Russians too. So go on with your criminal acts. Putin Poetin Poutine Russia Ukraine war Warcriminal\n",
      "10 Putin hates Ukranian people. Putin hates men. Putin hates women. Putin hates children. Putin hates babies. Putin hates hospitals. Putin hates houses. Putin hates Russians too. So go on with your criminal acts. Putin Poetin Poutine Russia Ukraine war Warcriminal\n",
      "11 @japie0522 Putin hates Ukranian people. Putin hates men. Putin hates women. Putin hates children. Putin hates babies. Putin hates hospitals. Putin hates houses. Putin hates Russians too. So go further with your criminal acts. Putin Poetin Poutine Russia Ukraine war Warcriminal\n",
      "12 @DeLannoyeBart Putin hates Ukranian people. Putin hates men. Putin hates women. Putin hates children. Putin hates babies. Putin hates hospitals. Putin hates houses. Putin hates Russians too. So go further with your criminal acts. Putin Poetin Poutine Russia Ukraine war Warcriminal\n",
      "13 @Sipos71440093 Putin hates Ukranian people. Putin hates men. Putin hates women. Putin hates children. Putin hates babies. Putin hates hospitals. Putin hates houses. Putin hates Russians too. So go further with your criminal acts. Putin Poetin Poutine Russia Ukraine war Warcriminal\n",
      "14 @Muslim soon there will be bars pubs nightclubs alcohol wars weapons murders bombing in yemen by UAE Saudi USA ISRAEL your money HAJJ for weapons to kill innocent humans in yemen war on terror only kills muslims\n",
      "15 @freeman8306 Lying bastard.  Erdogan is not sending anyone to the war zone.  You are spreading fake news. Putin invited terrorist organizations in Syria to the Ukraine war. follow the news. Turkey is the only country working towards ending the Russia-Ukraine war. \n",
      "16 To all women suffering, specifically those in Tigray who are raped, killed, traumatized &amp; starved to death due to Ethiopian &amp; Eritrean genocidal war, all our thoughts are with you. WWD2022 TigrayGenocide\n",
      "17 Questioning the concepts is necessary, but the risk is to forget the facts. When an army bombs cities with weapons of war, it is a war. When a territory is besieged &amp; deprived of its means of subsistence, it is a siege. Why is the Tigray forgotten ?EndTigraySiege @UN 1/2\n",
      "18 Questioning the concepts is necessary, but the risk is to forget the facts. When an army bombs cities with weapons of war, it is a war. When a territory is besieged &amp; deprived of its means of subsistence, it is a siege. Why is the Tigray forgotten ?EndTigraySiege @UN 1/2\n",
      "19 Questioning the concepts is necessary, but the risk is to forget the facts. When an army bombs cities with weapons of war, it is a war. When a territory is besieged &amp; deprived of its means of subsistence, it is a siege. Why is the Tigray forgotten ?EndTigraySiege @UN 1/2\n",
      "20 Questioning the concepts is necessary, but the risk is to forget the facts. When an army bombs cities with weapons of war, it is a war. When a territory is besieged &amp; deprived of its means of subsistence, it is a siege. Why is the Tigray forgotten ?EndTigraySiege @UN 1/2\n"
     ]
    }
   ],
   "source": [
    "print(\"March 13: Compound - most negative\")\n",
    "extract_tweets(mar13comp_neg,20)"
   ]
  },
  {
   "cell_type": "code",
   "execution_count": 252,
   "id": "a61d3e15",
   "metadata": {},
   "outputs": [
    {
     "name": "stdout",
     "output_type": "stream",
     "text": [
      "March 13: Compound - most positive\n",
      "Top 20 tweets:\n",
      "1 @47angb @FAB87F @ERIC_1A @lizziedonny @321jz @Fed_Up_JS @SweetLouTiger @Minmcae @jAlmz5 @Chloe4Djt @aingelgrl @Will_OC_BA @_trump1_ @TraceBrownd1 @JDugudichi @keith0sta @fujacky2 @c0c0s0 @Im__Ken @smrose29 @DeenaKeys @dl4trump @BFes56 @BladeRocco @goin_nice @12LT3 @1us45 @goldisez @63redb @8_27J @Pat10th @gaburnsagain @FM_NoAlgos @6usmc1 @1_McRider @45Catnip @4us45 @JPC4USA @Giddeeupgo @MAGA_Corgi @MyMagaDays @Erica7016 @manoukliar @bellaisbubbly @MsKrayzi @USA_Patriot_S @SurgeRight I follow back always ☺️♥️💋♥️💋♥️💋♥️💋follobackforfolloback FolloForFolloBack follo4follo FolloMe japan folloforflowersback indonesia china germany folloback follo followback 💖💖💖💘💘💘💘💘💘💘💋💋💋💋💋💋🥰🥰🥰🥰🥰🥰🥰 russia ukraine \n",
      "2 I follow back always ☺️♥️💋♥️💋♥️💋♥️💋follobackforfolloback FolloForFolloBack follo4follo FolloMe japan folloforflowersback indonesia china germany folloback follo followback 💖💖💖💘💘💘💘💘💘💘💋💋💋💋💋💋🥰🥰🥰🥰🥰🥰🥰 russia ukraine \n",
      "3 I follow back always ☺️♥️💋♥️💋♥️💋♥️💋follobackforfolloback FolloForFolloBack follo4follo FolloMe japan folloforflowersback indonesia china germany folloback follo followback 💖💖💖💘💘💘💘💘💋💋💋💋💋💋🥰🥰🥰🥰🥰🥰🥰 russia ukraine \n",
      "4 @NergisN @glenton123 @jasmine50012486 @Jemaco40 @Roy1980_lions @Claudimotiva @MarcelaErcia @nealhailey @LadyYAZNE @ElderAcost @kittymayo7101 @ChiaraAgay @swydersk @Spencerjames211 @Mariano03876298 @ranasilvia63 @Chloe1Irina @darre5 @JuanSGE @BrettMGWV @jaggirm I follow back always ☺️♥️💋♥️💋♥️💋♥️follobackforfolloback FolloForFolloBack follo4follo FolloMe japan folloforflowersback indonesia china germany folloback follo followback 💖💘💘💘💘💘💘💋💋💋💋🥰🥰🥰🥰🥰 russia ukraine \n",
      "5 @yorlyx @Voor21 @vptarek7 @Patrici25038019 @ereditsh @Shahin75247020 @hnsamona @MiguelA07060467 @don_sabanas @SardarM09733316 @RBN1703 @UbaidKhaan @zyas_c @Pervrso1 @Beingsayedul @norvisromero @antonylople @RealVirendraBJP @ElRafaGuedes1 @hocamona1 I follow back always ☺️♥️💋♥️💋♥️💋♥️follobackforfolloback FolloForFolloBack follo4follo FolloMe japan folloforflowersback indonesia china germany folloback follo followback 💖💘💘💘💘💘💘💋💋💋💋🥰🥰🥰🥰🥰 russia ukraine \n",
      "6 I follow back always ☺️♥️💋♥️💋♥️💋♥️follobackforfolloback FolloForFolloBack follo4follo FolloMe japan folloforflowersback indonesia china germany folloback follo followback 💖💘💘💘💘💘💘💋💋💋💋🥰🥰🥰🥰🥰 russia ukraine \n",
      "7 @AjimNShaikh1 @YonoSuy98140840 @MarthaCandia21 @Ibrahimwalda1 @Zehra78225547 @espinosa_cla @OflazSevilayali @Claudia_bonita0 @lunayessih @cicekzeki34 @waelsmg @Valenrojas0015 @Eles26 @PayalNag1 @Magdale_Aguilar @1rjj2 I follow back always ☺️♥️💋♥️💋♥️💋♥️follobackforfolloback FolloForFolloBack follo4follo FolloMe japan folloforflowersback indonesia china germany folloback follo followback 💖💘💘💘💘💘💘💋💋💋💋🥰🥰🥰🥰🥰 russia ukraine \n",
      "8 @OmarOma64360171 @La__Novia_de__Y @JulianaCaldas23 @Magdale_Aguilar @WA_Suitedracer @eltata_tuitero @ElanaFernande @Sino_Tibetana @Crazy_50368 @RPrima789 @MeybeDom @ma781969 @AMAINA_5 @MIqbalCh7 @Jemaco40 @MarEthr @FKAR1NE @4nywh3r3 @fkha30 @l_f1i @20ysf1 @1hh_2_ @sji_2 I follow back always ☺️♥️💋♥️💋♥️💋♥️follobackforfolloback FolloForFolloBack follo4follo FolloMe japan folloforflowersback indonesia china germany folloback follo followback 💖💘💘💘💘💘💋💋💋💋🥰🥰🥰🥰🥰 russia ukraine \n",
      "9 @tnmuda @italianostyle1 @GRAHAM15583070 @Luisa1Queen @Nazia_fb @Leiluna9 @yelarvel @Ivatempestade @Alaga4040 @MarkBird17 @IsoaG @anthony_queens @MarthaCandia21 @Kwen_Mavys @JennyDazze @Spirited_1o @DougQuantz @Simon_4i4 @VA94Vet @BrettMGWV @bindyb123 I follow back always ☺️♥️💋♥️💋♥️💋♥️follobackforfolloback FolloForFolloBack follo4follo FolloMe japan folloforflowersback indonesia china germany folloback follo followback 💖💘💘💘💘💘💋💋💋💋🥰🥰🥰🥰🥰 russia ukraine \n",
      "10 @jasmine50012486 @italianostyle2 @MarEthr @ME_1b @luisalarosa @DianeDaQueen @s_ah67 @09Esther @lumpie125 @oce2020 @VA94Vet @gtcily @yelarvel @AbidinBoryta @Ivatempestade @bindyb123 @BrettMGWV @GRAHAM15583070 I follow back always ☺️♥️💋♥️💋♥️💋♥️follobackforfolloback FolloForFolloBack follo4follo FolloMe japan folloforflowersback indonesia china germany folloback follo followback 💖💘💘💘💘💘💋💋💋💋🥰🥰🥰🥰🥰 russia ukraine \n",
      "11 @Spencerjames211 @jasmine50012486 @Jemaco40 @ElanaFernande @Raquelita1070 @ElderAcost @MirnaJule @_Chinitha_35 @tatysolcito @Naho80299188 @teamdinamicas @CelesliMusic @RoxxLo3 @GValiente22 @ednadesenzi @A888my @mirnajule1 @H6z8S I follow back always ☺️♥️💋♥️💋♥️💋♥️follobackforfolloback FolloForFolloBack follo4follo FolloMe japan folloforflowersback indonesia china germany folloback follo followback 💖💘💘💘💘💘💋💋💋💋🥰🥰🥰🥰🥰 russia ukraine \n",
      "12 @OmarOma64360171 @La__Novia_de__Y @JulianaCaldas23 @Magdale_Aguilar @WA_Suitedracer @eltata_tuitero @ElanaFernande @Sino_Tibetana @Crazy_50368 @RPrima789 @MeybeDom @ma781969 @AMAINA_5 @MIqbalCh7 @Jemaco40 @MarEthr @FKAR1NE @4nywh3r3 @fkha30 @l_f1i @20ysf1 @1hh_2_ @sji_2 I follow back always ☺️♥️💋♥️💋♥️💋♥️follobackforfolloback FolloForFolloBack follo4follo FolloMe japan folloforflowersback indonesia china germany folloback follo followback 💖💘💘💘💘💘💋💋💋💋🥰🥰🥰🥰🥰 russia ukraine \n",
      "13 @TheCryptoLark @austinahilton@koromaruinukoro💙💙💙💙💙💙💙💙koromaruinu💚💚💚💚💚squiddogs💛💛💛💛💛💛eth UkraineUnderAttack 💔p2e playtoearn🐊🐊🐊🐊casinocard🐋🐋🐋🐋🐋nft🌎🌎🌎🌎🔥🔥Eran up to 500$ per day🔥🔥 \n",
      "14 @TheCryptoLark @austinahilton@koromaruinukoro💙💙💙💙💙💙💙💙koromaruinu💚💚💚💚💚squiddogs💛💛💛💛💛💛eth UkraineUnderAttack 💔p2e playtoearn🐊🐊🐊🐊casinocard🐋🐋🐋🐋🐋nft🌎🌎🌎🌎🔥🔥Eran up to 500$ per day🔥🔥 \n",
      "15 @ChinaPumpWXC @austinahilton@koromaruinukoro💙💙💙💙💙💙💙💙koromaruinu💚💚💚💚💚squiddogs💛💛💛💛💛💛eth UkraineUnderAttack 💔p2e playtoearn🐊🐊🐊🐊casinocard🐋🐋🐋🐋🐋nft🌎🌎🌎🌎🔥🔥Eran up to 500$ per day🔥🔥 \n",
      "16 @BTC_Archive @austinahilton@koromaruinukoro💙💙💙💙💙💙💙💙koromaruinu💚💚💚💚💚squiddogs💛💛💛💛💛💛eth UkraineUnderAttack 💔p2e playtoearn🐊🐊🐊🐊casinocard🐋🐋🐋🐋🐋nft🌎🌎🌎🌎🔥🔥Eran up to 500$ per day🔥🔥\n",
      "17 @TheCryptoLark @austinahilton@koromaruinukoro💙💙💙💙💙💙💙💙koromaruinu💚💚💚💚💚squiddogs💛💛💛💛💛💛eth UkraineUnderAttack 💔p2e playtoearn🐊🐊🐊🐊casinocard🐋🐋🐋🐋🐋nft🌎🌎🌎🌎🔥🔥Eran up to 500$ per day🔥🔥 \n",
      "18 @SupermanGEMs @austinahilton@koromaruinukoro💙💙💙💙💙💙💙💙koromaruinu💚💚💚💚💚squiddogs💛💛💛💛💛💛eth UkraineUnderAttack 💔p2e playtoearn🐊🐊🐊🐊casinocard🐋🐋🐋🐋🐋nft🌎🌎🌎🌎🔥🔥Eran up to 500$ per day🔥🔥 \n",
      "19 @TheCryptoLark @austinahilton@koromaruinukoro💙💙💙💙💙💙💙💙koromaruinu💚💚💚💚💚squiddogs💛💛💛💛💛💛eth UkraineUnderAttack 💔p2e playtoearn🐊🐊🐊🐊casinocard🐋🐋🐋🐋🐋nft🌎🌎🌎🌎🔥🔥Eran up to 500$ per day🔥🔥 \n",
      "20 @MikeDulaimi @austinahilton@koromaruinukoro💙💙💙💙💙💙💙💙koromaruinu💚💚💚💚💚squiddogs💛💛💛💛💛💛eth UkraineUnderAttack 💔p2e playtoearn🐊🐊🐊🐊casinocard🐋🐋🐋🐋🐋nft🌎🌎🌎🌎🔥🔥Eran up to 500$ per day🔥🔥 \n"
     ]
    }
   ],
   "source": [
    "print(\"March 13: Compound - most positive\")\n",
    "extract_tweets(mar13comp_pos,20)"
   ]
  },
  {
   "cell_type": "code",
   "execution_count": 229,
   "id": "0be6d4fb",
   "metadata": {},
   "outputs": [
    {
     "name": "stdout",
     "output_type": "stream",
     "text": [
      "March 15: Negative\n",
      "Top 20 tweets:\n",
      "1 Resigned\n",
      "2 Boring\n",
      "3 Boring~~~\n",
      "4 Tired\n",
      "5 Negative.\n",
      "6 Frustrating\n",
      "7 wasted\n",
      "8 pain\n",
      "9 Fake fake fake fake fake fake fakenews Ucraina russia \n",
      "10 Stop War Ukraine\n",
      "11 Im tired. Drained\n",
      "12 @emalenab12 sorry po\n",
      "13 @kahimanawari__ GOPHER IT 🔥🔥🔥🔥🔥🔥\n",
      "14 No emojis please\n",
      "15 STOP WARS!!! StandWithUkraine KatrinaKaif \n",
      "16 Ffs. War criminals all around UkraineUnderAttack \n",
      "17 Init wtf\n",
      "18 Horrible! Ukraine \n",
      "19 Hourly po\n",
      "20 @revillas_jervie Shit\n"
     ]
    }
   ],
   "source": [
    "print(\"March 15: Negative\")\n",
    "extract_tweets(mar15neg,20)"
   ]
  },
  {
   "cell_type": "code",
   "execution_count": 230,
   "id": "44674892",
   "metadata": {},
   "outputs": [
    {
     "name": "stdout",
     "output_type": "stream",
     "text": [
      "March 15: Positive\n",
      "Top 20 tweets:\n",
      "1 Sure. Lol \n",
      "2 Brave \n",
      "3 Yes, please! \n",
      "4 Want \n",
      "5 Blessed \n",
      "6 Happy? \n",
      "7 Loyalty matters. \n",
      "8 Reliever \n",
      "9 Agree \n",
      "10 okay.\n",
      "11 Happiness \n",
      "12 Definitely \n",
      "13 Want \n",
      "14 Cutie \n",
      "15 LOVE\n",
      "16 nice\n",
      "17 okay.\n",
      "18 Perfection 💜 \n",
      "19 @ZacHamTrendsOFC Happy fun fatherZACHAM HAPPY LIKE\n",
      "20 Thank you sa food💖💖💖 \n"
     ]
    }
   ],
   "source": [
    "print(\"March 15: Positive\")\n",
    "extract_tweets(mar15pos,20)"
   ]
  },
  {
   "cell_type": "code",
   "execution_count": 231,
   "id": "fd02d5cf",
   "metadata": {},
   "outputs": [
    {
     "name": "stdout",
     "output_type": "stream",
     "text": [
      "March 15: Compound - most negative\n",
      "Top 20 tweets:\n",
      "1 @mfa_russia @russiaqatar @MofaQatar_EN @RusEmbSyria @Presidency_Sy @UNEnvoySyria @RusembUkraine @MFA_Ukraine @RusMission_EU @Dpol_un @RussiaUN Putin has passed a law in Russia that would imprison anyone who says WAR  We don't do that in the FREE WORLD. WAR WAR WAR WAR WAR WAR WAR WAR WAR WARWAR WAR WAR WAR WAR WAR WAR WAR WAR PutinWarCrimes PutinWarCriminal PutinsWar RussiaUkraineWar \n",
      "2 Our convoy sets off in 5 days!We now have 20 vehicles filled with kit and equipment being donated to firefighters in Ukraine 🇺🇦 🚒🚒🚒🚒🚒🚒🚒🚒🚒🚒🚒🚒🚒🚒🚒🚒🚒🚒🚒🚒Here are some words by FIRE AID's @happyhoy90 on how this has all come about.FireAid4Ukraine \n",
      "3 Ukraine UkraineRussia UkraineRussiaWar UkraineWar russiaBreaking News: Just NowUkraine vs Russia War😭😭😭😭😭😭😭😭😭😭😭😭😭\n",
      "4 Ukraine UkraineRussia UkraineRussiaWar UkraineWar russiaBreaking News: Just NowUkraine vs Russia War😭😭😭😭😭😭😭😭😭😭😭😭😭\n",
      "5 @natynettle This is like a bad sci-fi movie, but it is real... where the evil leader, Putin, needs to be right &amp; attack people without care or regard. If you speak up then his thug minions arrest you?Putin has his blind followers attack civilians for no reason. Russia STOP the evil man.\n",
      "6 UKRAINE Україна CloseTheSky NUCLEAR UN WAR TERRORISM\" THE ART OF WAR \"WHILE YOU FEAR THAT NUCLEAR WEAPONS THAT VLADIMIR PUTIN IS KEEPING ON HIS OWN TURFHE IS ALREADY USING THAT FEAR TO MAKE YOU HESITATE FROM MAKING YOUR MOVE TO STOP HIS OWN TERRORISM\n",
      "7 WAR CRIMINAL PUTIN DELIBERATELY BOMBING CIVILIANS. WAR CRIMINAL PUTIN DELIBERATELY BOMBING CIVILIANS. WAR CRIMINAL PUTIN DELIBERATELY BOMBING CIVILIANS. WAR CRIMINAL PUTIN DELIBERATELY BOMBING CIVILIANS. THIS A WAR CRIME! PUTIN MUST BE STOPPED! UKRAINE\n",
      "8 @KremlinRussia PUTIN@KremlinRussia_E STOP THE WAR IN UKRAINE! WAR CRIMINAL! CHILD KILLER... MURDERER! QUIT LYING TO ALLLLL YOUR PEOPLE! 🤬🤬🤬\n",
      "9 How much war means can now be seen on photos and films from Kharkiv, war is destruction, war is terror, war is violence, war is millions liter of innocent bloodshed.And this is only for a piece of land.Ukraine Russia poland BreakingNews breaking war putin StopPutin \n",
      "10 @KyivIndependent 😥Until now 73 children died in Ukraine and 108 children were injured.😕Children suffering all the pain of war.🥺Children suffer because of us adults, full of pride, hatred, darkness.🙏Only Providence will save us from our evilnesssavechildren unicef stopwar SlavaUkraini \n",
      "11 We've had War on Drugs, War on Terror and now, War on Truth. I'm hoping I live to see the War on Hypocrisy,  War on Double Standards and the War on War Criminals from USA UK Russia India Israel occupied/bombed Afghanistan Iraq Palestine Syria Kashmir Ukraine \n",
      "12 We've had War on Drugs, War on Terror and now, War on Truth. I'm hoping I live to see the War on Hypocrisy,  War on Double Standards and the War on War Criminals from USA UK Russia India Israel occupied/bombed Afghanistan Iraq Palestine Syria Kashmir Ukraine \n",
      "13 @nytimes @PTI_News What Russia has achieved by earning money from Crude? War, Ukraine war. Spending money in war not for good cause. This is fact of all OPEC nations. Loot money in the name of Crude and waste on useless purpose.Russia is now 30 yrs dragged back due to war.\n",
      "14 To civilians🌍StopNATO Now!❤️‍🔥for OUR peace!! 🌸From Me❤️in Japan. Hiroshima Nagasaki FukushimaStopHating If you can’t stop hating others you must have mental sick💔as humans so go hospital🏥❤️‍🩹right now. StopSuicide suicide kids abuse racism hate war 人権 \n",
      "15 how to piss of liberals the quickest… how about whiterussians with putin!!! 🤣😂🤣😂🤣✌️🔥🔥🔥🔥🔥🔥🔥🔥🔥🔥🙏🙏🙏🔥🔥🔥🔥🔥🔥🔥🔥🔥🔥🔥 \n",
      "16 Britain to end its reliance on fossil fuel from the brutal, dictatorial, murderous, humanrights abusing and totalitarian regime of Putin and, wait for it, develop a relationship with the brutal, dictatorial, murderous, humanrights abusing and totalitarian Saudi regime.\n",
      "17 Ukraine War: Reporters ask Russian Ambassador when the \"barbaric war\" wi...  via @YouTube Putin &amp; all his other war criminals must be prosecuted &amp; imprisoned for life. This evil must stop now. SlavaUkraine StopPutin StandWithUkraine NATO StopWar @NDP\n",
      "18 International Law and the Use of Armed Force in and against Ukraine WeStandWithUkraine   ukraine the name for story in the place  i am so worry in the place is not good in the place at all in no good  mar 18th 2022 🇺🇦🇺🇦🇺🇦🇺🇦😭😭😭😭😭😭😭 \n",
      "19 In the Kiev region, a safari on a Russian rapist.Commander Mikhail Romanov is a war criminal who tortures civilians and rapes Ukrainian women.Dear ru-hunters, take revenge on him properly. The Evil must suffer! \n",
      "20 In the Kiev region, a safari on a Russian rapist.Commander Mikhail Romanov is a war criminal who tortures civilians and rapes Ukrainian women.Dear ru-hunters, take revenge on him properly. The Evil must suffer! \n"
     ]
    }
   ],
   "source": [
    "print(\"March 15: Compound - most negative\")\n",
    "extract_tweets(mar15comp_neg,20)"
   ]
  },
  {
   "cell_type": "code",
   "execution_count": 232,
   "id": "49d2474c",
   "metadata": {},
   "outputs": [
    {
     "name": "stdout",
     "output_type": "stream",
     "text": [
      "March 15: Compound - most positive\n",
      "Top 20 tweets:\n",
      "1 @lumpie125 @HARRYS1DEMPIRE @ginaaaa345 @Luisa1Queen @Tangerine4545 @TheRealPope7 @MarEthr @Leonina_0108 @bluea125 @r95731 @DianeDaQueen @ginestarros @Tina1Queen @AbidinBoryta @VIPGains @zaizul_abidin @TahneeQueen @Baloch_786_ @soymisteriosa_ @eReferenceDesk @luisalarosa @Siogo61 I follow back always ☺️♥️💋♥️💋♥️💋♥️follobackforfolloback FolloForFolloBack follo4follo FolloMe japan folloforflowersback indonesia china germany folloback follo followback 💖💘💘💘💘💘💋💋💋💋🥰🥰🥰🥰🥰 🥰🥰🥰🥰😂😂😂russia ukraine \n",
      "2 @naturedoll_moni @AlexiaAnnuk @MarthaCandia21 @MarianLuque4 @nealhailey @Aa_ban1 @oce2005 @Jemaco40 @swydersk @hRp__5 @WALLI27 @ElderAcost @glenton123 @Zar_43 @nbea_h @r95731 @Elvira57538981 @Jamesspencer211 @GRAHAM15583070 @SergioA60798547 @pajenrry76 @itijv I follow back always ☺️♥️💋♥️💋♥️💋♥️follobackforfolloback FolloForFolloBack follo4follo FolloMe japan folloforflowersback indonesia china germany folloback follo followback 💖💘💘💘💘💘💋💋💋💋🥰🥰🥰🥰🥰 🥰🥰🥰🥰😂😂😂russia ukraine \n",
      "3 @Siogo61 @italianostyle1 @italianostyle2 @MarEthr @soymisteriosa_ @_lawonder @r95731 @R3_Adv @tnmuda @Baloch_786_ @AbidinBoryta @doc_mazz @bluea125 @Spencerjames211 @GRAHAM15583070 @ginestarros @ginaaaa345 @DianeDaQueen @TahneeQueen @Luisa1Queen @luisalarosa @lumpie125 I follow back always ☺️♥️💋♥️💋♥️💋♥️follobackforfolloback FolloForFolloBack follo4follo FolloMe japan folloforflowersback indonesia china germany folloback follo followback 💖💘💘💘💘💘💋💋💋💋🥰🥰🥰🥰🥰 🥰🥰🥰🥰😂😂😂russia ukraine \n",
      "4 @RobertPage68 @Spencerjames211 @sinan525 @MeryemSu28 @Da__Eliz @EKM68 @otrogoga60 @bdonesem @Aegir25 @nealhailey @jasmine50012486 @mvf7186 @Ayhan_525 @1Ulwi @1firj @R3_Adv @R2__Adv @glenton123 @GRAHAM15583070 @_Tzny @NergisN @WALLI27 I follow back always ☺️♥️💋♥️💋♥️💋♥️follobackforfolloback FolloForFolloBack follo4follo FolloMe japan folloforflowersback indonesia china germany folloback follo followback 💖💘💘💘💘💘💋💋💋💋🥰🥰🥰🥰🥰 🥰🥰🥰🥰😂😂😂russia ukraine \n",
      "5 @Jemaco40 @Roy1980_lions @MarcelaErcia @nealhailey @LadyYAZNE @ElderAcost @kittymayo7101 @ChiaraAgay @swydersk @Spencerjames211 @Mariano03876298 @bdonesem @glenton123 @Chloe1Irina @NergisN @darre5 @JuanSGE @MarthaCandia21 @BrettMGWV @jasmine50012486 @jaggirm I follow back always ☺️♥️💋♥️💋♥️💋♥️follobackforfolloback FolloForFolloBack follo4follo FolloMe japan folloforflowersback indonesia china germany folloback follo followback 💖💘💘💘💘💘💋💋💋💋🥰🥰🥰🥰🥰 🥰🥰🥰🥰😂😂😂russia ukraine \n",
      "6 @Alaayous3 @Albasha40835 @La__Novia_de__Y @T_g6ed @Haidy366 @ivymarina1 @shinunao2 @JulianaBrii @Elaine9118 @zihmssar2 @aslamjavedch @msmaricela1 @A79838048 @steligarcia @antoniaparra8 @henrirousseau12 @tadayokun73 @EjazNoorii @Okacmaz72 I follow back always ☺️♥️💋♥️💋♥️💋♥️follobackforfolloback FolloForFolloBack follo4follo FolloMe japan folloforflowersback indonesia china germany folloback follo followback 💖💘💘💘💘💘💋💋💋💋🥰🥰🥰🥰🥰 🥰🥰🥰🥰😂😂😂russia ukraine \n",
      "7 @DoyoungPromotes 🙏 HOPING TO WIN 🙏🙏 HOPING TO WIN 🙏🙏 HOPING TO WIN 🙏🙏 HOPING TO WIN 🙏🙏 HOPING TO WIN 🙏🙏 HOPING TO WIN 🙏🙏 HOPING TO WIN 🙏🙏 HOPING TO WIN 🙏🙏 HOPING TO WIN 🙏🙏 HOPING TO WIN 🙏🙏 HOPING TO WIN 🙏🙏 HOPING TO WIN 🙏🙏 HOPING TO WIN 🙏🙏 HOPING TO WIN 🙏 \n",
      "8 @Alaayous3 @JulianaBrii @shinunao2 @75suhair @Samryhtw @Ivatempestade @leilasbsantos @Mamaguzo @MarthaCandia21 @rose19_red @HiuminL @Elvira57538981 @WALLI27 @La__Novia_de__Y @Sahelenaa @lunayessih @ritta_lopes @Therealroland02 @SarahAg60285405 @zihmssar2 @foz3x3 I follow back always ☺️♥️💋♥️💋♥️💋♥️follobackforfolloback FolloForFolloBack follo4follo FolloMe japan folloforflowersback indonesia china germany folloback follo followback 💖💘💘💘💘💘💋💋💋💋🥰🥰🥰🥰🥰 russia ukraine \n",
      "9 @naturedoll_moni @AlexiaAnnuk @MarthaCandia21 @MarianLuque4 @hRp__5 @WALLI27 @Jemaco40 @glenton123 @Aa_ban1 @Zar_43 @nbea_h @r95731 @oce2005 @MarkSanz12 @moni_dollnature @swydersk @jasmine50012486 @GRAHAM15583070 @Spencerjames211 @Chloe1Irina @pajenrry76 @AmeliaVicencio @itijv I follow back always ☺️♥️💋♥️💋♥️💋♥️follobackforfolloback FolloForFolloBack follo4follo FolloMe japan folloforflowersback indonesia china germany folloback follo followback 💖💘💘💘💘💘💋💋💋💋🥰🥰🥰🥰🥰 russia ukraine \n",
      "10 @Aegir25 @MarcelaErcia @EKM68 @GREATASOK @nealhailey @Da__Eliz @insaurraldeh @ma_yeth @NartoNang2 @Sami3464S @Hsnklil @ToteronT @Deslegal1 @otrogoga60 @RobertPage68 @oce2005 @EdgarALagos1 @SergioA60798547 @bdonesem @Governor8358621 I follow back always ☺️♥️💋♥️💋♥️💋♥️follobackforfolloback FolloForFolloBack follo4follo FolloMe japan folloforflowersback indonesia china germany folloback follo followback 💖💘💘💘💘💘💋💋💋💋🥰🥰🥰🥰🥰 russia ukraine \n",
      "11 @sinan525 @MeryemSu28 @Da__Eliz @jasmine50012486 @JennyDazze @otrogoga60 @NergisN @Aegir25 @Hsnklil @nealhailey @Sude0028 @Ayhan_525 @5q_zk @R3_Adv @ba11love @Q_Afika1 @zapp12347 @GREATASOK @RosaNegra_08 @AmeliaVicencio @GRAHAM15583070 I follow back always ☺️♥️💋♥️💋♥️💋♥️follobackforfolloback FolloForFolloBack follo4follo FolloMe japan folloforflowersback indonesia china germany folloback follo followback 💖💘💘💘💘💘💋💋💋💋🥰🥰🥰🥰🥰 russia ukraine \n",
      "12 @AmeliaVicencio @Da__Eliz @nealhailey @1firj @Aegir25 @EA_LM1978 @Deslegal1 @halconavicencio @GRAHAM15583070 @EdgarLagos13 @legal_legal69 @MariFa05 @cagalafiesta @malaCATosa1 @SunstoneMassage @EdgarALagos1 @HalconaUFF @Elmaslegal @ilegalilegal1 @MarinaEle23 I follow back always ☺️♥️💋♥️💋♥️💋♥️follobackforfolloback FolloForFolloBack follo4follo FolloMe japan folloforflowersback indonesia china germany folloback follo followback 💖💘💘💘💘💘💋💋💋💋🥰🥰🥰🥰🥰 russia ukraine \n",
      "13 @TaniaSa1984 @Reciclatecno @TeamDinamica @CelesliMusic @MultiRedDigital @Moisesrtorrens @JoseParedes2022 @RunPierwork13 @LuisCRodrguez7 @dreams_Bcn @m_shahed_18 @Ka_Elhk @maribonita_09 I follow back always ☺️♥️💋♥️💋♥️💋♥️follobackforfolloback FolloForFolloBack follo4follo FolloMe japan folloforflowersback indonesia china germany folloback follo followback 💖💘💘💘💘💘💋💋💋💋🥰🥰🥰🥰🥰 russia ukraine \n",
      "14 @ereditsh @FelicPalma @jui_kn @Boby0a @Voor21 @otrogoga60 @Natalia81314750 @75suhair @bdonesem @learockerita @yvidalaqui2 @Rema_RoRo95 @MarcelaErcia @H2Dl__ @RosaNegra_08 @Uliana21hm @Brittany22girls @AboRawan8886 @Hsnklil @Sami3464S @Magdale_Aguilar @Eles26 @Celeste39355374 @hn_ia7 @MarthaCandia21 @Elvira57538981 @T_g6ed @M3H122 @Jemaco40 @Sahara_ii @UbaidKhaan @Ionly_roast @Claudimotiva @MNS__5 @tadayokun73 @Q_Afika1 @EdgarLagos13 @5q_zk @Viaccola @Freile_navarro @kn_jui I follow back always ☺️♥️💋♥️💋♥️💋♥️follobackforfolloback FolloForFolloBack follo4follo FolloMe japan folloforflowersback indonesia china germany folloback follo followback 💖💘💘💘💘💘💋💋💋💋🥰🥰🥰🥰🥰 russia ukraine \n",
      "15 @NomadhySpirit @DustyRoad357 @biaBDSM @Annah__18 @ednadesenzi @AlexiaAnnuk @antonylople @rafi_rough @Arle_Lynda @glenton123 @MarcelaErcia @TeamKingOfc @nunespereirabr @cristiangreySDV @jasmine50012486 @Eles26 @lunayessih @Magdale_Aguilar I follow back always ☺️♥️💋♥️💋♥️💋♥️follobackforfolloback FolloForFolloBack follo4follo FolloMe japan folloforflowersback indonesia china germany folloback follo followback 💖💘💘💘💘💘💋💋💋💋🥰🥰🥰🥰🥰 russia ukraine \n",
      "16 @RosaNegra_08 @GREATASOK @sinan525 @MeryemSu28 @Da__Eliz @jasmine50012486 @JennyDazze @otrogoga60 @NergisN @Aegir25 @Hsnklil @nealhailey @Sude0028 @Ayhan_525 @5q_zk @R3_Adv @ba11love @Q_Afika1 @zapp12347 @AmeliaVicencio @GRAHAM15583070 I follow back always ☺️♥️💋♥️💋♥️💋♥️follobackforfolloback FolloForFolloBack follo4follo FolloMe japan folloforflowersback indonesia china germany folloback follo followback 💖💘💘💘💘💘💋💋💋💋🥰🥰🥰🥰🥰 russia ukraine \n",
      "17 @Siogo61 @HARRYS1DEMPIRE @italianostyle2 @MarEthr @luisalarosa @_lawonder @zaizul_abidin @R3_Adv @eReferenceDesk @ME_1b @DianeDaQueen @doc_mazz @ginaaaa345 @Baloch_786_ @ginestarros @Luisa1Queen @VIPGains @AbidinBoryta @r95731 @TahneeQueen @Leonina_0108 @lumpie125 I follow back always ☺️♥️💋♥️💋♥️💋♥️follobackforfolloback FolloForFolloBack follo4follo FolloMe japan folloforflowersback indonesia china germany folloback follo followback 💖💘💘💘💘💘💋💋💋💋🥰🥰🥰🥰🥰 russia ukraine \n",
      "18 @RobertPage68 @AbidinBoryta @nealhailey @Da__Eliz @LourdesPass @Deslegal1 @MNS__5 @YG_572 @SmartMom_1 @5q_zk @Eclare_Pure @Sami3464S @B1nadir @sinan525 @MeryemSu28 @Mahiya2116 @EKM68 @MarcelaErcia @RosaNegra_08 @AmeliaVicencio @jet_new @IfbSdv I follow back always ☺️♥️💋♥️💋♥️💋♥️follobackforfolloback FolloForFolloBack follo4follo FolloMe japan folloforflowersback indonesia china germany folloback follo followback 💖💘💘💘💘💘💋💋💋💋🥰🥰🥰🥰🥰 russia ukraine \n",
      "19 @Spencerjames211 @MirnaJule @mamiRD_ @teamdinamicas @mirian_RD @miarianmoreno @swydersk @Jamesspencer211 @ranasilvia63 @mirnajule1 @tatysolcito @yelarvel @nunespereirabr @XXaavvii__ @ElXavo31 @lunacreciente70 I follow back always ☺️♥️💋♥️💋♥️💋♥️follobackforfolloback FolloForFolloBack follo4follo FolloMe japan folloforflowersback indonesia china germany folloback follo followback 💖💘💘💘💘💘💋💋💋💋🥰🥰🥰🥰🥰 russia ukraine \n",
      "20 @TheGrayRider @1us45 @Libertyville22 @4321parker @Grit_Factor @Elissa4R @Ecomemory1 @47angb @gonofurther @RnkSt7 @FreeStateFl @Chloe4Djt @Minmcae @goldisez @bdonesem @1be3z @sunnytooo @12LT3 @Mrcy_Grce @daverich503 @Synchro2021 @BrexitLondon @MAGA__TRON @PC4USA1 I follow back always ☺️♥️💋♥️💋♥️💋♥️follobackforfolloback FolloForFolloBack follo4follo FolloMe japan folloforflowersback indonesia china germany folloback follo followback 💖💘💘💘💘💘💋💋💋💋🥰🥰🥰🥰🥰 russia ukraine \n"
     ]
    }
   ],
   "source": [
    "print(\"March 15: Compound - most positive\")\n",
    "extract_tweets(mar15comp_pos,20)"
   ]
  },
  {
   "cell_type": "code",
   "execution_count": 233,
   "id": "5ffca84d",
   "metadata": {},
   "outputs": [
    {
     "name": "stdout",
     "output_type": "stream",
     "text": [
      "March 16: Negative\n",
      "Top 20 tweets:\n",
      "1 Bullshit\n",
      "2 Anxiety attacks.\n",
      "3 seriously!!??? \n",
      "4 Ghost.\n",
      "5 Frustrated.....\n",
      "6 Boring\n",
      "7 pain \n",
      "8 Regret.\n",
      "9 Wasted \n",
      "10 boring\n",
      "11 Annoying bitch\n",
      "12 DAMN \n",
      "13 Hate this! \n",
      "14 inittttttttttt🥵🔥🔥🔥🔥🔥\n",
      "15 Bloody mass murder. Putin\n",
      "16 RuSSia is war criminal. \n",
      "17 RuSSia is war criminal. \n",
      "18 RuSSia is war criminal. \n",
      "19 RuSSia is war criminal. \n",
      "20 RuSSia is war criminal. \n"
     ]
    }
   ],
   "source": [
    "print(\"March 16: Negative\")\n",
    "extract_tweets(mar16neg,20)"
   ]
  },
  {
   "cell_type": "code",
   "execution_count": 234,
   "id": "254f49f3",
   "metadata": {},
   "outputs": [
    {
     "name": "stdout",
     "output_type": "stream",
     "text": [
      "March 16: Positive\n",
      "Top 20 tweets:\n",
      "1 Thank God.\n",
      "2 enjoy\n",
      "3 Well well \n",
      "4 Dream \n",
      "5 Satisfied..... \n",
      "6 True \n",
      "7 true \n",
      "8 WANT \n",
      "9 cute\n",
      "10 Relax... \n",
      "11 Ambivalent feeling lol\n",
      "12 perfection. \n",
      "13 casual\n",
      "14 please\n",
      "15 YES!!! YES! YES!!!!! \n",
      "16 thanks! \n",
      "17 Thanks\n",
      "18 Super agree. \n",
      "19 BROWNMAAAAAAN!!! 💗💗💗 \n",
      "20 favesss 💗💗💗 \n"
     ]
    }
   ],
   "source": [
    "print(\"March 16: Positive\")\n",
    "extract_tweets(mar16pos,20)"
   ]
  },
  {
   "cell_type": "code",
   "execution_count": 236,
   "id": "d947a087",
   "metadata": {},
   "outputs": [
    {
     "name": "stdout",
     "output_type": "stream",
     "text": [
      "March 16: Compound - most negative\n",
      "Top 20 tweets:\n",
      "1 This War must stop please, please, please, please RussiaUkraineWar 😭😭😭😭😭😭😭😭😭😭😭😭😭😭😭😭😭😭😭😭😭😭😭😭😭😭😭😭😭😭😭😭😭😭😭😭😭😭\n",
      "2 FourCities dead, two on each side, 🇺🇸🇬🇧🇷🇺 is the automatic end to ww3, no need for further diplomacy as the world wails &amp; screams in horror 😱😱😱😱😭😭😭😭😱😱😱😱alternatively, find the RoadtoArmistice now  @antonioguterres timetoearnyourpension \n",
      "3 Shocking News 😱😱😱😱😱😱😱😱😱 Elderly men in Mariupol tried not to drew attention from this tank, they decided to shot anyway... Tank against civilians? UkraineUnderAttack PutinWarCriminal UkraineRussiaWar StopRussia StopTheWar RussianUkrainianWar \n",
      "4 we are the poor! we live in poverty! we needed help but you said there was NO MONEY! YOU LIED! 😡! you always find it for weapons 💣. FUCK USA! FUCK UK! FUCK THE RICH! fuck all liberals! 🇷🇺✊UkraineUnderAttack UkraineRussianWar UkraineRussiaWarUkrainebbcbreakfast BBC \n",
      "5 ⚡️⚡️Who’s Terrorist ? No Person or Country yet to call Putin Terror or Launch War Against terror in Russia How many Buildings and lives Putin destroyed in Ukraine 👈🏼⚡️⚡️ Is war against Terror only targeted the WEAK!! \n",
      "6 ⚡️⚡️Who’s Terrorist ? No Person or Country yet to call Putin Terror or Launch War Against terror in Russia How many Buildings and lives Putin destroyed in Ukraine 👈🏼⚡️⚡️ Is war against Terror only targeted the WEAK!! \n",
      "7 ⚡️⚡️Who’s Terrorist ? No Person or Country yet to call Putin Terror or Launch War Against terror in Russia How many Buildings and lives Putin destroyed in Ukraine 👈🏼⚡️⚡️ Is war against Terror only targeted the WEAK!! \n",
      "8 ⚡️⚡️Who’s Terrorist ? No Person or Country yet to call Putin Terror or Launch War Against terror in Russia How many Buildings and lives Putin destroyed in Ukraine 👈🏼⚡️⚡️ Is war against Terror only targeted the WEAK!! \n",
      "9 The war in Ukraine has triggered strong emotions in many of us, even those of us watching and worrying from afar: anguish, heartbreak, sadness, grief — but also fear, disgust, anger, even rage.  /1\n",
      "10 @alangridge200 @LisLombard @SkyNews That is a stupid argument, killing million people, destroying Iraq &amp; yet claiming we saved people from a dictator that could have been killed is utterly stupid. Should the same argument apply to Ukraine as Russia is claiming denazification? Blair &amp; Bush are war criminals period\n",
      "11 Some good points but GeorgeWBush IRRELEVANT: sacrificed credibility by lying US into Iraq war.🤦‍♂️State of world 1000 or even 100 years agao irrelevant. World moves on. Slavery no longer exists. France no longer monarchy. US now Republic. Putin, Xi WRONG.🤦‍♂️ \n",
      "12 UkraineUnderAttack Putin is an evil psychopath killing innocent people and destroying a peaceful country. He must be prosecuted as a war criminal and deserves to die a long painful slow death\n",
      "13 Fuck @NATO fuck @POTUS fuck USA. Fuck this unfair world. Fuck Ukraine UkraineUnderAttack UkraineWar . Fuck you of u thinking fuck me. You destroyed the last hope we had as Africa \n",
      "14 @rommari Im from the West and you have a right to hate Russia, Im disgusted that the fall for Putin lies and propaganda. The hatred they must feel to ukraine to bomb civilians, children and to illegal invade means I have such contempt for that nation, it’s time to stop them Ukraine 🤘🇺🇦\n",
      "15 In the Kiev region, a safari on a Russian rapist.Commander Mikhail Romanov is a war criminal who tortures civilians and rapes Ukrainian women.Dear ru-hunters, take revenge on him properly. The Evil must suffer! \n",
      "16 Bloody hell poor man is in a fight to death with most terrifying dictator &amp; war machine in world &amp; this guy is upset he does not wear a shirt &amp; tie Ukraine \n",
      "17 Bloody hell poor man is in a fight to death with most terrifying dictator &amp; war machine in world &amp; this guy is upset he does not wear a shirt &amp; tie Ukraine \n",
      "18 Bloody hell poor man is in a fight to death with most terrifying dictator &amp; war machine in world &amp; this guy is upset he does not wear a shirt &amp; tie Ukraine \n",
      "19 Bloody hell poor man is in a fight to death with most terrifying dictator &amp; war machine in world &amp; this guy is upset he does not wear a shirt &amp; tie Ukraine \n",
      "20 Bloody hell poor man is in a fight to death with most terrifying dictator &amp; war machine in world &amp; this guy is upset he does not wear a shirt &amp; tie Ukraine \n"
     ]
    }
   ],
   "source": [
    "print(\"March 16: Compound - most negative\")\n",
    "extract_tweets(mar16comp_neg,20)"
   ]
  },
  {
   "cell_type": "code",
   "execution_count": 237,
   "id": "0a44d461",
   "metadata": {},
   "outputs": [
    {
     "name": "stdout",
     "output_type": "stream",
     "text": [
      "March 16: Compound - most positive\n",
      "Top 20 tweets:\n",
      "1 @elongateog Day 65 of telling the community and @elongateog that I love it💙💙💙💙   💙💙💙💙💙                💙💙💙💙      💙   💙💙💙💛                💛            💛 💛💛💛💛   💛💛💛💛UkraineElongate web3 NFTCrypto CryptoNewsEG cryptocurrency\n",
      "2 @elongateog Day 65 of telling the community and @elongateog that I love it💙💙💙💙   💙💙💙💙💙                💙💙💙💙      💙   💙💙💙💛                💛            💛 💛💛💛💛   💛💛💛💛UkraineElongate web3 NFTCrypto CryptoNewsEG cryptocurrency\n",
      "3 @LazadaPH HAPPY BIRTHDAY LAZADA 🎂💙💙💙💙💙💙🎂🎈🎈🎈🎂🎈🎈🎈🎂🎈🎂🎂🎂🎈🎂🎂🎂🎈🥳🎈💙💙💙💙💙🎈🥳💙💙🎈🥳🥳🥳🎈💙💙🥳🥳🥳🎈🥳🎈🥳🥳🥳🎁🎁🎁🎁🎈🎁🎁🎁🎁LazTurns10 LazadaPH10Birthday\n",
      "4 @JLo 🗣 The people have no weapons, The masters Putin, Xi have. @JLo is armed with wisdom. 🥰 loving it🥰     Jlo  tcentristv   indgroup3 Ukraine  🇺🇦  Afghanistan  🇦🇫 💛💙💛💙💛💙💛💙💛💙💛💙💛💙💛💙💛💙💛💙\n",
      "5 @NergisN @glenton123 @jasmine50012486 @Jemaco40 @Roy1980_lions @Claudimotiva @MarcelaErcia @nealhailey @LadyYAZNE @ElderAcost @kittymayo7101 @ChiaraAgay @swydersk @Spencerjames211 @Mariano03876298 @ranasilvia63 @Chloe1Irina @darre5 @JuanSGE @BrettMGWV @jaggirm I follow back always ☺️♥️💋♥️💋♥️💋♥️follobackforfolloback FolloForFolloBack follo4follo FolloMe japan folloforflowersback indonesia china germany folloback follo followback 💖💘💘💘💘💘💘💋💋💋💋🥰🥰🥰🥰🥰 russia ukraine \n",
      "6 @JLo 🗣  Many  are Slaves without weapons. Putin, Xi  Masters with weapons. @JLo 😻 is armed with wisdom. 🥰  💘 Jlo   tcentristv    indgroup3   Ukraine 🇺🇦  Afghanistan 🇦🇫  💛💙💛💙💛💙💛💙💛💙💛💙💛💙💛💙💛💙💛💙\n",
      "7 @ArmedForcesUkr ❤❤❤ 💪🏽💪🏽💪🏽 💙💙💙 !!! ⚡ UKRAINE FIGHTS BACK! ((👊🏼))⚡ fckptn !!! ____ I'm Soo Proud! 🤗😊🗣 SlavaUkraini !!! ❤🇺🇦 💜 IStandWithUkraine 😍🤩&gt; Because Ukraine's GONNA WIN! 💪🏽! ☺☺☺ 💜❤ 🇺🇦 ❤💜 😊😊😊! GloryToUkraine TogetherToVictory ! \n",
      "8 Why is my heart keep beating and when l see amity and amelia my heart start beating so fast 💓💓 l think I'm so in love with amelia and amity because they are so cute and beautiful and hot and amelia is so hot and amity is so cute and my heart can't stop beating now at 3am💓💓💓\n",
      "9 @CryptoAssasin_0 @austinahilton@koromaruinukoro💙💙💙💙💙💙💙💙koromaruinu💚💚💚💚💚squiddogs💛💛💛💛💛💛eth UkraineUnderAttack 💔p2e playtoearn🐊🐊🐊🐊casinocard🐋🐋🐋🐋🐋nft🌎🌎🌎🌎🔥🔥Eran up to 500$ per day🔥🔥 \n",
      "10 @kucoincom @austinahilton@koromaruinukoro💙💙💙💙💙💙💙💙koromaruinu💚💚💚💚💚squiddogs💛💛💛💛💛💛eth UkraineUnderAttack 💔p2e playtoearn🐊🐊🐊🐊casinocard🐋🐋🐋🐋🐋nft🌎🌎🌎🌎🔥🔥Eran up to 500$ per day🔥🔥 \n",
      "11 @MrBigWhaleREAL @austinahilton@koromaruinukoro💙💙💙💙💙💙💙💙koromaruinu💚💚💚💚💚squiddogs💛💛💛💛💛💛eth UkraineUnderAttack 💔p2e playtoearn🐊🐊🐊🐊casinocard🐋🐋🐋🐋🐋nft🌎🌎🌎🌎🔥🔥Eran up to 500$ per day🔥🔥 \n",
      "12 @MrBigWhaleREAL @austinahilton@koromaruinukoro💙💙💙💙💙💙💙💙koromaruinu💚💚💚💚💚squiddogs💛💛💛💛💛💛eth UkraineUnderAttack 💔p2e playtoearn🐊🐊🐊🐊casinocard🐋🐋🐋🐋🐋nft🌎🌎🌎🌎🔥🔥Eran up to 500$ per day🔥🔥 \n",
      "13 @austinahilton @austinahilton@koromaruinukoro💙💙💙💙💙💙💙💙koromaruinu💚💚💚💚💚squiddogs💛💛💛💛💛💛eth UkraineUnderAttack 💔p2e playtoearn🐊🐊🐊🐊casinocard🐋🐋🐋🐋🐋kt10_officialnft🌎🌎🌎🌎🔥🔥Earn up to 500$ per day🔥🔥 \n",
      "14 @DjPrestigeUk @austinahilton@koromaruinukoro💙💙💙💙💙💙💙💙koromaruinu💚💚💚💚💚squiddogs💛💛💛💛💛💛eth UkraineUnderAttack 💔p2e playtoearn🐊🐊🐊🐊casinocard🐋🐋🐋🐋🐋nft🌎🌎🌎🌎🔥🔥Eran up to 500$ per day🔥🔥 \n",
      "15 @rebeccagrants @austinahilton@koromaruinukoro💙💙💙💙💙💙💙💙koromaruinu💚💚💚💚💚squiddogs💛💛💛💛💛💛eth UkraineUnderAttack 💔p2e playtoearn🐊🐊🐊🐊casinocard🐋🐋🐋🐋🐋nft🌎🌎🌎🌎🔥🔥Eran up to 500$ per day🔥🔥 \n",
      "16 @MrBigWhaleREAL @austinahilton@koromaruinukoro💙💙💙💙💙💙💙💙koromaruinu💚💚💚💚💚squiddogs💛💛💛💛💛💛eth UkraineUnderAttack 💔p2e playtoearn🐊🐊🐊🐊casinocard🐋🐋🐋🐋🐋nft🌎🌎🌎🌎🔥🔥Eran up to 500$ per day🔥🔥 \n",
      "17 @CryptoAssasin_0 @austinahilton@koromaruinukoro💙💙💙💙💙💙💙💙koromaruinu💚💚💚💚💚squiddogs💛💛💛💛💛💛eth UkraineUnderAttack 💔p2e playtoearn🐊🐊🐊🐊casinocard🐋🐋🐋🐋🐋nft🌎🌎🌎🌎🔥🔥Eran up to 500$ per day🔥🔥 \n",
      "18 @kucoincom @austinahilton@koromaruinukoro💙💙💙💙💙💙💙💙koromaruinu💚💚💚💚💚squiddogs💛💛💛💛💛💛eth UkraineUnderAttack 💔p2e playtoearn🐊🐊🐊🐊casinocard🐋🐋🐋🐋🐋nft🌎🌎🌎🌎🔥🔥Eran up to 500$ per day🔥🔥 \n",
      "19 @WOAS_Barbad @elonmusk @SpaceHub_SL @austinahilton@koromaruinukoro💙💙💙💙💙💙💙💙koromaruinu💚💚💚💚💚squiddogs💛💛💛💛💛💛eth UkraineUnderAttack 💔p2e playtoearngamecasinocard🐋🐋🐋🐋🐋nft🌎🌎🌎🌎🔥🔥Eran up to 500$ per day🔥🔥 \n",
      "20 @kucoincom @austinahilton@koromaruinukoro💙💙💙💙💙💙💙💙koromaruinu💚💚💚💚💚squiddogs💛💛💛💛💛💛eth UkraineUnderAttack 💔p2e playtoearn🐊🐊🐊🐊casinocard🐋🐋🐋🐋🐋nft🌎🌎🌎🌎🔥🔥Eran up to 500$ per day🔥🔥 \n"
     ]
    }
   ],
   "source": [
    "print(\"March 16: Compound - most positive\")\n",
    "extract_tweets(mar16comp_pos,20)"
   ]
  },
  {
   "cell_type": "code",
   "execution_count": 239,
   "id": "a8f3a173",
   "metadata": {},
   "outputs": [
    {
     "name": "stdout",
     "output_type": "stream",
     "text": [
      "April 03: Negative\n",
      "Top 20 tweets:\n",
      "1 Bastards! War criminals. 🇺🇦SlavaUkraini \n",
      "2 STOP WAR Ukraine \n",
      "3 Ban Russia FKING EVERYWHERE!!!!Fking pathetic war criminals.\n",
      "4 @EmmanuelMacron STOP WAR!!!! ukraine\n",
      "5 HELL NO NATO NoToWars \n",
      "6 Horrible. Devastating. Pure Evil. @UNHumanRights RussianWarCrimes \n",
      "7 War crimes.StopPutinNow \n",
      "8 Ruthless bastard &amp; war criminal Ukraine \n",
      "9 Ruthless bastard &amp; war criminal Ukraine \n",
      "10 Ruthless bastard &amp; war criminal Ukraine \n",
      "11 Ruthless bastard &amp; war criminal Ukraine \n",
      "12 Ruthless bastard &amp; war criminal Ukraine \n",
      "13 Ruthless bastard &amp; war criminal Ukraine \n",
      "14 Ruthless bastard &amp; war criminal Ukraine \n",
      "15 Ruthless bastard &amp; war criminal Ukraine \n",
      "16 Ruthless bastard &amp; war criminal Ukraine \n",
      "17 Ruthless bastard &amp; war criminal Ukraine \n",
      "18 Ruthless bastard &amp; war criminal Ukraine \n",
      "19 Ruthless bastard &amp; war criminal Ukraine \n",
      "20 Ruthless bastard &amp; war criminal Ukraine \n"
     ]
    }
   ],
   "source": [
    "print(\"April 03: Negative\")\n",
    "extract_tweets(apr03neg,20)"
   ]
  },
  {
   "cell_type": "code",
   "execution_count": 240,
   "id": "7e5acf5c",
   "metadata": {},
   "outputs": [
    {
     "name": "stdout",
     "output_type": "stream",
     "text": [
      "April 03: Positive\n",
      "Top 20 tweets:\n",
      "1 Yes please Ukraine \n",
      "2 Awesome action!StandWithUkraine \n",
      "3 @RBReich Love Wins Ukraine \n",
      "4 Fantastic! SlavaUkraini \n",
      "5 @FrankFigliuzzi1 YES!!! PLEASE!! PutinWarCrimes\n",
      "6 Thank you!SlavaUkraini 💙💛 \n",
      "7 Thank you!SlavaUkraini 💙💛 \n",
      "8 Good Night and Good Luck Ukraine\n",
      "9 Good articleStopPutinNOW\n",
      "10 Good morning Ukraine! 💙💛 \n",
      "11 UkraineFREE PRESSI trust Zelenskyy💛💙💛💙💛💙🤧  \n",
      "12 True. The truth. Ukraine \n",
      "13 Wonderful! 💙💛 Ukraine Zelensky SlavaUkraini \n",
      "14 @armyinformcomua Fantastic! Awesome! Excellent!🇺🇦💙💛🌻StandWithUkraine StandUpForUkraineStopRussiaSlavaUkrainii HeroiamSlava\n",
      "15 Strong. Beautiful. Warriors. Ukraine🇺🇦 GloryToTheHeroes \n",
      "16 Heart for Ukraine!  \n",
      "17 Heart breaking. StopPutinNOW \n",
      "18 Freedom of speech.....UkraineRussiaWar\n",
      "19 This place goes well! 💙💛 We have to support it! 💛💙  Ukraine *: \n",
      "20 @davidmweissman StillWeRise Ukraine You are a SOVEREIGN NATION HAVE_AT_ITCUZ YOUgotTHIS_UKRAIN PatriotsUnite Patriot Father WWII KOREA VIETNAM CLASSIFIED NAVY INTELLIGENCE ♥💕👌😍❤💙♥💕👌😍❤💙♥💕👌😍❤💙♥💕👌IStandWithUkraine KumuKahi Salutes VeteransUnite @codeofvets \n"
     ]
    }
   ],
   "source": [
    "print(\"April 03: Positive\")\n",
    "extract_tweets(apr03pos,20)"
   ]
  },
  {
   "cell_type": "code",
   "execution_count": 241,
   "id": "31b12151",
   "metadata": {},
   "outputs": [
    {
     "name": "stdout",
     "output_type": "stream",
     "text": [
      "April 03: Compound - most negative\n",
      "Top 20 tweets:\n",
      "1 @anders_aslund ww3 ends automatically after FourCities are killed quickly and everyone starts screaming... 😭😭😭😱😱😱😭😭😭 and weeping... \n",
      "2 No words, this is reality, ppl are being butchered, raped. Kids, adults, old ppl, animals. Daily evil, daily murders, genocide, horrors that will last forever. Blood, pain and terror. Evil, just evil. Fuck Putin &amp; fuck Russia and Russians for not standing up to him SlavaUkraini \n",
      "3 Russians...These scum came to a foreign land to kill, mock, destroy, rob, torture, rape, loot.  Our people will hate you forever.  You are not human, you are bastards, you are worse than cancer, you are gangrene. Genocide RussianWarCrimes RussianArmy Russians russia \n",
      "4 Russians...These scum came to a foreign land to kill, mock, destroy, rob, torture, rape, loot.  Our people will hate you forever.  You are not human, you are bastards, you are worse than cancer, you are gangrene. Genocide RussianWarCrimes RussianArmy Russians russia \n",
      "5 Russians...These scum came to a foreign land to kill, mock, destroy, rob, torture, rape, loot.  Our people will hate you forever.  You are not human, you are bastards, you are worse than cancer, you are gangrene. Genocide RussianWarCrimes RussianArmy Russians russia \n",
      "6 Russians...These scum came to a foreign land to kill, mock, destroy, rob, torture, rape, loot.  Our people will hate you forever.  You are not human, you are bastards, you are worse than cancer, you are gangrene. Genocide RussianWarCrimes RussianArmy Russians russia \n",
      "7 PutinWarCrimes: Bucha is not a battlefield but a CRIME SCENE! Rapes, executions, mass graves, corpses in the streets as Russia’s REPUTATION is forever LOST! 👺💣🔥🪦👻😱 Aa\n",
      "8 @StateDept @SecBlinken STOP Putin! STOP that murderer! STOP him! ISOLATE him! STOP reasoning with a murderer! Are you and the western world blind? What the hell is wrong with you people?!\n",
      "9 One word that has not been mentioned on TV or RADIO with regards to the atrocities in UkraineRAPE is a common crime by Russian soldiers.😱😡😱😡😱😡😱😡😱😡😱\n",
      "10 @jensstoltenberg @markrutte Notwithstanding in 1990 NATO had promised that NATO won’t extent to the East, but you has broken the promise😡😡🤬🤬💢💢 ‼️All problems about Ukrine is all NATO’s fault😡😡🤬🤬💢💢 ‼️NATO is liar‼️Russia RussiaUkraine \n",
      "11 @jensstoltenberg @markrutte Notwithstanding in 1990 NATO had promised that NATO won’t extent to the East, but you has broken the promise😡😡🤬🤬💢💢 ‼️All problems about Ukrine is all NATO’s fault😡😡🤬🤬💢💢 ‼️NATO is liar‼️Russia RussiaUkraine \n",
      "12 @BorisJohnson @Keir_Starmer @POTUS EU Nato Russia                  war crime is a violation of the laws of war that gives rise to individual criminal responsibility for actions by the combatants, such as intentionally killing civilians or intentionally killing prisoners of war\n",
      "13 Hello world. I’m Anna, and I’m UkrainianActually, I’m in both pictures. I’m both a survivor but I could’ve been  killed. And I still may be.Each of us can be raped or killed in this war initiated by russia.We we are killed simply because we’re Ukrainians.BuchaMassacre  \n",
      "14 @avalaina This is horrific. I just can't bear seeing ALL these human &amp; pet killing! The horrific crimes. RIP precious souls 😭💔These are Putins evil murderous butchers who did this, he sent them out to kill &amp; destroy everything.RussiasBloodshed PutinWarCrimes GenocideOfUkrainians\n",
      "15 @GeneralStaffUA The world will hold these criminals accountable and guilt will follow them to their deathbeds. The devil is already waiting in hell! The dead souls will haunt the living murderers on earth until they die in agony! StandUpForUkraine StandWithUkraine\n",
      "16 @AnnaMyroniuk @hrw There must be accountability for these crimes. I wish I could say I am shocked. But this is standard operating procedure for Russia - rape, torture, terror, indiscriminate killing, bombing of hospitals and bread lines. It is a medieval army, serving a cruel dictatorship. Ukraine \n",
      "17 @AnnaMyroniuk @hrw There must be accountability for these crimes. I wish I could say I am shocked. But this is standard operating procedure for Russia - rape, torture, terror, indiscriminate killing, bombing of hospitals and bread lines. It is a medieval army, serving a cruel dictatorship. Ukraine \n",
      "18 @AnnaMyroniuk @hrw There must be accountability for these crimes. I wish I could say I am shocked. But this is standard operating procedure for Russia - rape, torture, terror, indiscriminate killing, bombing of hospitals and bread lines. It is a medieval army, serving a cruel dictatorship. Ukraine \n",
      "19 @AnnaMyroniuk @hrw There must be accountability for these crimes. I wish I could say I am shocked. But this is standard operating procedure for Russia - rape, torture, terror, indiscriminate killing, bombing of hospitals and bread lines. It is a medieval army, serving a cruel dictatorship. Ukraine \n",
      "20 @AnnaMyroniuk @hrw There must be accountability for these crimes. I wish I could say I am shocked. But this is standard operating procedure for Russia - rape, torture, terror, indiscriminate killing, bombing of hospitals and bread lines. It is a medieval army, serving a cruel dictatorship. Ukraine \n"
     ]
    }
   ],
   "source": [
    "print(\"April 03: Compound - most negative\")\n",
    "extract_tweets(apr03comp_neg,20)"
   ]
  },
  {
   "cell_type": "code",
   "execution_count": 242,
   "id": "1987ac2d",
   "metadata": {},
   "outputs": [
    {
     "name": "stdout",
     "output_type": "stream",
     "text": [
      "April 03: Compound - most positive\n",
      "Top 20 tweets:\n",
      "1 @AVindman @ZelenskyyUa .The Right ManThe Right Leader for dark timesMay The Universe ProtectHim and His Loves OnesToday and foreverSlavaUkraini  🌻💙🌻💙🌻💙🌻💙🌻💙🌻💙🌻💙🌻💙🌻💙🌻💙🌻💙🌻💙🌻💙🌻💙🌻💙🌻❤️🌻💙🌻💙🌻💙🌻💙🌻💙🌻💙🌻💙🌻💙🌻💙🌻💙🌻💙🌻💙🌻💙🌻💙🌻💙🌻BeFierce \n",
      "2 @AVindman @ZelenskyyUa .The Right ManThe Right Leader for dark timesMay The Universe ProtectHim and His Loves OnesToday and foreverSlavaUkraini  🌻💙🌻💙🌻💙🌻💙🌻💙🌻💙🌻💙🌻💙🌻💙🌻💙🌻💙🌻💙🌻💙🌻💙🌻💙🌻❤️🌻💙🌻💙🌻💙🌻💙🌻💙🌻💙🌻💙🌻💙🌻💙🌻💙🌻💙🌻💙🌻💙🌻💙🌻💙🌻BeFierce \n",
      "3 @davidmweissman StillWeRise Ukraine You are a SOVEREIGN NATION HAVE_AT_ITCUZ YOUgotTHIS_UKRAIN PatriotsUnite Patriot Father WWII KOREA VIETNAM CLASSIFIED NAVY INTELLIGENCE ♥💕👌😍❤💙♥💕👌😍❤💙♥💕👌😍❤💙♥💕👌IStandWithUkraine KumuKahi Salutes VeteransUnite @codeofvets \n",
      "4 @GoodTrouble1150 @SugarDonaghy @markghost45 @AgapeLove28 @SCBlueJayne @MyOneAndOnlyKat @VeryAsianEric @ButtersKatz @SkiWithCharBQ @JimRDecker3rd @Gspirithorse @jim2u2 @jules1327 @MsVernestyne @JaxHarley5 @BananaShaysh @OhDangitEvie LISSAA😀♥️🥰 so good 2 see ya my beautiful friend!!!🤗🌹👀..look away while I steal your meme..👀😂😅Thx SO much😅🌹😘, happily following ALLL these Lovelies😁, hv a GORGEOUS night!!!🤗♥️🥰😘😁SlavaUkraïni!!!💙🌻🇺🇦Ohhhhh Damn YYAAEEESSSS it is SO frickin’ nice!!!!🤣😂👇😅 \n",
      "5 WordHurdle 150 5/6 wordhurdle peace🤍💛🤍🤍🤍💛💛💛💛💛💛🤍💙💙💛🤍💛🤍💙💙💙💙🤍🤍💙💙💙💙💙💙I like the steady progress ones!\n",
      "6 💙💙💙💙💙💙💙💙💙💙💙💙💙💙💙💛💛💛💛💛💛💛💛💛💛💛💛💛💛💛Don't do Wordle but Ukraine? Yeah.Never give up ❤️\n",
      "7 Pres. Zelensky’s Twitter banner—“UKRAINE IS DEFENDING EUROPE AND THE WORLD”Yes you are, Mr. President♥️🌹🥺And it’s been a stunning inspiration watching you &amp; ALL Ukrainians—your spirit, your courage, your determination, your heart..🙏💙🌻🇺🇦💙🌻🇺🇦💙🌹SlavaUkraini!!!💙🌻🇺🇦 \n",
      "8 Pres. Zelensky’s Twitter banner—“UKRAINE IS DEFENDING EUROPE AND THE WORLD”Yes you are, Mr. President♥️🌹🥺And it’s been a stunning inspiration watching you &amp; ALL Ukrainians—your spirit, your courage, your determination, your heart..🙏💙🌻🇺🇦💙🌻🇺🇦💙🌹SlavaUkraini!!!💙🌻🇺🇦 \n",
      "9 Pres. Zelensky’s Twitter banner—“UKRAINE IS DEFENDING EUROPE AND THE WORLD”Yes you are, Mr. President♥️🌹🥺And it’s been a stunning inspiration watching you &amp; ALL Ukrainians—your spirit, your courage, your determination, your heart..🙏💙🌻🇺🇦💙🌻🇺🇦💙🌹SlavaUkraini!!!💙🌻🇺🇦 \n",
      "10 Captiva: Good SundayMorning my Twitterverse Furrends 🌅I’m extending my Paw to send Purrs and Paw Hugz of Peace Love Happiness Healing &amp; Comfort to all those who are sad, sick, grieving, depressed, or just need a Paw to lean on 😻☮️💖😺💐🌺🌹❤️🧡😺💖☮️Purrs4Peace Hope \n",
      "11 💙🌻💛💙🌻💛 HRH Riley Boo wishes Evfurbody a Happy, Safe and warm Caturday &amp; yes she's getting an early Meowning cuddle in before zoomies &amp; naps ❤️💗❤️ Love HRH Riley BooStandWithUkraine @Xenta777 CatsOfTwitter cats Cat TabbyTroop TABBY PurringChain SaturdayVibes \n",
      "12 In your light I learn how to love. In your beauty, how to make poems. ~®~ Rumi poetry ☀️💙🌸☀️💙🌸☀️💙photo by princess.nao sundayvibes beauty peace love JOY Mindset lightUptheLove \n",
      "13 @larry5hands Thanks so much for the heads up, @larry5hands!😊💖 SupportUkraine 🌻💙🌻💛🌻Slava Ukraini!  Ukrainians will save their democracy &amp; be our inspiration to save ours!  VoteBlue2022 \n",
      "14 @larry5hands Thanks so much for the heads up, @larry5hands!😊💖 SupportUkraine 🌻💙🌻💛🌻Slava Ukraini!  Ukrainians will save their democracy &amp; be our inspiration to save ours!  VoteBlue2022 \n",
      "15 @larry5hands Thanks so much for the heads up, @larry5hands!😊💖 SupportUkraine 🌻💙🌻💛🌻Slava Ukraini!  Ukrainians will save their democracy &amp; be our inspiration to save ours!  VoteBlue2022 \n",
      "16 This is my new painting 🙏 Please retweet!    peace love  I would love your comments and thank you for sharing!                                                  💚💙💛  watercolor teachpeace  ukraine SunflowersForUkraine Ukraineart Sunflowers \n",
      "17 Good morning.  The Beatles are playing and coffee’s on the way.  Happy Sunday to all.  Sending ❤️.  Be kind and lead with love.  Stay safe and vaccinate. 😷💉Peace ☮️✌️❤️🤗🙏💛💙☕️🎶SlavaUkraini 🇺🇦SayGay 🏳️‍🌈ProtectTransKids 🏳️‍⚧️NoAbleism♿️ \n",
      "18 SUNDAY FOLLOW BACK PARTY 🇺🇸💙🌊🇺🇸💙🌊🇺🇸💙🌊We are stronger together 💪🏼.  Follow Everyone that Likes ❤️, Retweets 🔁, and Comments. 💕Make sure to follow the host.  💕💕💕StrongerTogether 💪🏼EndRacism 💙StandWithUkraine 🇺🇦KindnessTrain 🚂Drop Your Pics/Gifs \n",
      "19 SUNDAY FOLLOW BACK PARTY 🇺🇸💙🌊🇺🇸💙🌊🇺🇸💙🌊We are stronger together 💪🏼.  Follow Everyone that Likes ❤️, Retweets 🔁, and Comments. 💕Make sure to follow the host.  💕💕💕StrongerTogether 💪🏼EndRacism 💙StandWithUkraine 🇺🇦KindnessTrain 🚂Drop Your Pics/Gifs \n",
      "20 SUNDAY FOLLOW BACK PARTY 🇺🇸💙🌊🇺🇸💙🌊🇺🇸💙🌊We are stronger together 💪🏼.  Follow Everyone that Likes ❤️, Retweets 🔁, and Comments. 💕Make sure to follow the host.  💕💕💕StrongerTogether 💪🏼EndRacism 💙StandWithUkraine 🇺🇦KindnessTrain 🚂Drop Your Pics/Gifs \n"
     ]
    }
   ],
   "source": [
    "print(\"April 03: Compound - most positive\")\n",
    "extract_tweets(apr03comp_pos,20)"
   ]
  },
  {
   "cell_type": "code",
   "execution_count": 243,
   "id": "9d4e57b6",
   "metadata": {},
   "outputs": [
    {
     "name": "stdout",
     "output_type": "stream",
     "text": [
      "April 08: Negative\n",
      "Top 20 tweets:\n",
      "1 war racist \n",
      "2 RussiaUkraineWar Fuck!!! \n",
      "3 Russia STOP BULLYING India! Evil Trolls. \n",
      "4 KramatorskAnother russia|n war crime \n",
      "5 Fuck Ukrainians\n",
      "6 Fuck Putin. \n",
      "7 fuck StandWithUkraine\n",
      "8 sickening StandWithUkraine \n",
      "9 Evil knows no limits.StopRussia\n",
      "10 Sick PutinWarCrimes \n",
      "11 Terrible. Ukraine \n",
      "12 RussianWarcrimes BuchaMassacre Tortured Ukrainian victims of Russian occupiers. Horror Horror Horror \n",
      "13 Russian lies, lies, lies... Ukraine Ουκρανία \n",
      "14 Putin Drop Dead Challenge.\n",
      "15 Stop the war! war RussiaUkraineWar UkraineWar StandUpForUkraine \n",
      "16 'NO WAR', 'STOP PUTIN'Rho_moo_hyun Ukraine \n",
      "17 No s!tUkraine \n",
      "18 Warning Graphic War Video Ukraine Russia death dead kill Shooting explosion disturbing ambush sniper WW3 \n",
      "19 War criminal! The Evil! The Warlord. FckPutin StandWithUkraine \n",
      "20 War criminal! The Evil! The Warlord. FckPutin StandWithUkraine \n"
     ]
    }
   ],
   "source": [
    "print(\"April 08: Negative\")\n",
    "extract_tweets(apr08neg,20)"
   ]
  },
  {
   "cell_type": "code",
   "execution_count": 244,
   "id": "d5d5620e",
   "metadata": {},
   "outputs": [
    {
     "name": "stdout",
     "output_type": "stream",
     "text": [
      "April 08: Positive\n",
      "Top 20 tweets:\n",
      "1 Help support UkraineStandWithUkraine \n",
      "2 God bless Ukraine \n",
      "3 Courage, strength, resolve. @RobertaMetsola StandWithUkraine \n",
      "4 Awesome! StandWithUkraine \n",
      "5 Love thisStandWithUkraine \n",
      "6 Wow I-StandWithUkraine \n",
      "7 Oh wow. Oh wow... oh wow oh wow oh wow oh wow oh wow! SlavaUkraini PinkFloyd\n",
      "8 stay strong Ukraine 💙💛 \n",
      "9 OUTSTANDING!! 🇺🇦🇪🇺 💙💛 Ukraine europeanfamily \n",
      "10 Pleasant surprise. RussianInvasion ArmUkraineNow \n",
      "11 @dattalion @NickJon46108833 Absolutely beautiful &amp; heart warming. god bless the newlyweds. May life bless them both with love, happiness, peace &amp; joy SlavaUkraini 💙💙💛💛🇺🇦🇺🇦 \n",
      "12 @Claudette966 Great day💙💙💙💙💙 JudgeKetanjiBrownJackson StandWithUkraine fridaymorning\n",
      "13 Wonderful neighbours and friends.LithuaniaEstoniaSlovakiaSlavaUkraini 💙💛 \n",
      "14 @eduardheger Thank you Slovakia! 💙💛\n",
      "15 Beautiful Girl's, Brilliant Charity. Ukraine X 😘 \n",
      "16 Each moment, another dose of gorgeous, earnest humanity amidst the horrorStandWithUkraine 💛💙💛💙💛💙 \n",
      "17 @Val_Voshchevska @hrw @amnesty @vanessatsehaye You have good heart God bless Ukraine God bless Tigray\n",
      "18 Love this 💙💛 Well done @pinkfloyd 🇺🇦🌻StandWithUkraine \n",
      "19 Preorder Alert! Love Wins: A Ukraine Charity Anthology by 15 romance authors romance ukraine  via @NNP_W_Light \n",
      "20 @aplusk Thank you for helping us💙💛! StandWithUkraine\n"
     ]
    }
   ],
   "source": [
    "print(\"April 08: Positive\")\n",
    "extract_tweets(apr08pos,20)"
   ]
  },
  {
   "cell_type": "code",
   "execution_count": 245,
   "id": "ceed8247",
   "metadata": {},
   "outputs": [
    {
     "name": "stdout",
     "output_type": "stream",
     "text": [
      "April 08: Compound - most negative\n",
      "Top 20 tweets:\n",
      "1 My stolen spring. It will come very fast to bucha but I will see it only from the photos with dead bodies and burnt houses. War is awful, russiantroop are the worst, they rape boys and girls, teens and women of all ages. They torture and kill. Hate them \n",
      "2 \"He wanted to divide us, to shatter us, to provoke internal confrontation, but it is impossible to do this with Ukrainians. When one of us is tortured, raped, or killed, we feel that we all are being tortured, raped, or killed.\"- The First Lady of Ukraine, Olena Zelenska.\n",
      "3 BuchaMassacre  Kramatorsk all these aren’t  mistakes, that’s conscious choice. That’s how the Russians war. They actually want to kill civilians, with as much pain, torture, humiliate. Rape and kill kids. They count on terror and fear. Ukraine UkraineRussiaWar \n",
      "4 @mfa_russia must be blocked on @Twitter. REASONS: KREMLIN IS GUILTY OF CONSTANT LYING, REPRESSION, MURDER, RAPE, KIDNAPPING CHILDREN, BLATANT WAR CRIMES, CRIMINAL ATTACKS ON SOVEREIGN NATIONS. To mention just some of the reasons... Ukraine\n",
      "5 In Tigray, @hrw reported \"the widespread conflict-related sexual violence including rape, gang rape, sexual slavery, and torture. Sexual violence took place alongside killings of family members, beatings, and psychological violence.\" IWD2022 Justice4TigrayWomen @endrapeinwar\n",
      "6 @hrchora This is basically what Russia does to civilians. Falsely blame everyone for Nazism, rape all women, torture their kids, mass murder everybody with internationally banned weapons, accuse obviously dead people for moving and in the end blame the Ukrainians for killing their own.\n",
      "7 @RFERL @elonmusk @TwitterMoments The threat of Nuclear Weapons scare Ukraine?   Russians destroying every building and killing all the people.  I would rather die quick and fast than tortured and executed.  @NATO  FEAR ONLY THE FEAR StopGenocide 🇺🇦🇺🇦🇺🇦NOW! \n",
      "8 @davidcnswanson @WorldBeyondWar David, why do you want Russia to pay reparations, but not want Ukraine to pay reparations for the killing &amp; destruction they've done in the UkraineWar since 2014?Russia's military are trying to minimise killing &amp; destruction to achieve a neutral Ukraine after the war. \n",
      "9 US President @POTUS calls for a war crimes trial over the mass killings in Bucha, Ukraine. Calling his Russian counterpart Vladimir Putin \"a war criminal\" and the killings \"a war crime,\" Biden tells reporters there should be \"a war crimes trial.\" \n",
      "10 We have so many natural calamities happening &amp; will be many folds if we don’t take care of Soil but still we as a civilized race are busy in wars &amp; in making weapons of mass destruction to kill each other. So shameful and sad! StopPutinNOW Ukraine WarCrimesOfUkraine Russia\n",
      "11 UK: Ethiopia Using Starvation and Rape as Weapons of War In Tigray\"For 17 months there has been a conflict there, which has led to the mass starvation of almost 7m people, where blockades have been used to starve people to death &amp; where rape has been used as a weapon of war.\" \n",
      "12 TO ADD TO PUTINS RESUME, today 50+ dead and over 100 wounded by an Illegal Cluster Bomb of a Train Depot that terrorized thousands of peaceful civilians attempting to flee the ravages of a CRUEL UNWANTED WAR, BY A BUTCHER INSANE DESPOT! Who then blames others.  StandWithUkraine\n",
      "13 TO ADD TO PUTINS RESUME, today 50+ dead and over 100 wounded by an Illegal Cluster Bomb of a Train Depot that terrorized thousands of peaceful civilians attempting to flee the ravages of a CRUEL UNWANTED WAR, BY A BUTCHER INSANE DESPOT! Who then blames others.  StandWithUkraine\n",
      "14 TO ADD TO PUTINS RESUME, today 50+ dead and over 100 wounded by an Illegal Cluster Bomb of a Train Depot that terrorized thousands of peaceful civilians attempting to flee the ravages of a CRUEL UNWANTED WAR, BY A BUTCHER INSANE DESPOT! Who then blames others.  StandWithUkraine\n",
      "15 TO ADD TO PUTINS RESUME, today 50+ dead and over 100 wounded by an Illegal Cluster Bomb of a Train Depot that terrorized thousands of peaceful civilians attempting to flee the ravages of a CRUEL UNWANTED WAR, BY A BUTCHER INSANE DESPOT! Who then blames others.  StandWithUkraine\n",
      "16 TO ADD TO PUTINS RESUME, today 50+ dead and over 100 wounded by an Illegal Cluster Bomb of a Train Depot that terrorized thousands of peaceful civilians attempting to flee the ravages of a CRUEL UNWANTED WAR, BY A BUTCHER INSANE DESPOT! Who then blames others.  StandWithUkraine\n",
      "17 TO ADD TO PUTINS RESUME, today 50+ dead and over 100 wounded by an Illegal Cluster Bomb of a Train Depot that terrorized thousands of peaceful civilians attempting to flee the ravages of a CRUEL UNWANTED WAR, BY A BUTCHER INSANE DESPOT! Who then blames others.  StandWithUkraine\n",
      "18 TO ADD TO PUTINS RESUME, today 50+ dead and over 100 wounded by an Illegal Cluster Bomb of a Train Depot that terrorized thousands of peaceful civilians attempting to flee the ravages of a CRUEL UNWANTED WAR, BY A BUTCHER INSANE DESPOT! Who then blames others.  StandWithUkraine\n",
      "19 TO ADD TO PUTINS RESUME, today 50+ dead and over 100 wounded by an Illegal Cluster Bomb of a Train Depot that terrorized thousands of peaceful civilians attempting to flee the ravages of a CRUEL UNWANTED WAR, BY A BUTCHER INSANE DESPOT! Who then blames others.  StandWithUkraine\n",
      "20 TO ADD TO PUTINS RESUME, today 50+ dead and over 100 wounded by an Illegal Cluster Bomb of a Train Depot that terrorized thousands of peaceful civilians attempting to flee the ravages of a CRUEL UNWANTED WAR, BY A BUTCHER INSANE DESPOT! Who then blames others.  StandWithUkraine\n"
     ]
    }
   ],
   "source": [
    "print(\"April 08: Compound - most negative\")\n",
    "extract_tweets(apr08comp_neg,20)"
   ]
  },
  {
   "cell_type": "code",
   "execution_count": 246,
   "id": "4374c5d0",
   "metadata": {},
   "outputs": [
    {
     "name": "stdout",
     "output_type": "stream",
     "text": [
      "April 08: Compound - most positive\n",
      "Top 20 tweets:\n",
      "1 @AVindman @ZelenskyyUa .The Right ManThe Right Leader for dark timesMay The Universe ProtectHim and His Loves OnesToday and foreverSlavaUkraini  🌻💙🌻💙🌻💙🌻💙🌻💙🌻💙🌻💙🌻💙🌻💙🌻💙🌻💙🌻💙🌻💙🌻💙🌻💙🌻❤️🌻💙🌻💙🌻💙🌻💙🌻💙🌻💙🌻💙🌻💙🌻💙🌻💙🌻💙🌻💙🌻💙🌻💙🌻💙🌻BeFierce \n",
      "2 🔨PINKFLOYD🔨F🎸🔨🎸🔨🎸🔨🎸🎶🎼O🎵🎶🎼Ukraine L🎵🌻💙💕💛💃🏼🕺🏼🎶✨Pink🌟Floyd✨🎶💃🏼🕺🏼💙💕💛🌻🎶🎼 🌻💙✨💛🖼 🌻Hey, Hey Rise Up 🌻🖼💙✨💛🌻L🎵🌻💙⚜️ 💛🌻✨🌟💃🏼🕺🏼🌻⏰🌻💃🏼🕺🏼🌟✨💙⚜️💛🎶🎼👉  ❣️O🎵🎶🎼W🎵🎸🔨🎸🔨🎸🔨🎸🔨🎸🔨R🎤E🎤T🎤W🎤E🎤E🎤T\n",
      "3 @KoromaruInu @SquiddogsStudio @elonmusk @koromaruinukoro💙💙💙💙💙💙💙💙koromaruinu💚💚💚💚💚squiddogs💛💛💛💛💛💛eth UkraineUnderAttack 💔p2e playtoearn🐊🐊🐊🐊casinocard🐋🐋🐋🐋🐋kt10_officialnft🌎🌎🌎🌎🔥🔥Earn up to 500$ per day🔥🔥 \n",
      "4 5th &amp; last fun post 4 2nite: 50 Pets Who Thought They Were Hiding, But Actually Weren’t 😹😹😹💉💉💉😷😷😷🐾🐾🐾💖💖💖☮️☮️☮️UkraineWar is not forgotten, but without some time out now &amp; then I´d get Depressions from all the sad news. \n",
      "5 5th &amp; last fun post 4 2nite: 50 Pets Who Thought They Were Hiding, But Actually Weren’t 😹😹😹💉💉💉😷😷😷🐾🐾🐾💖💖💖☮️☮️☮️UkraineWar is not forgotten, but without some time out now &amp; then I´d get Depressions from all the sad news. \n",
      "6 Happy Thursday! White muscari seen @TrenthamGardens last week. I only have blue but will definitely get these next autumn! Have a great day 😊 Ukraine Peace Love 💙💛🇺🇦💙💛🇺🇦🙏🏻 \n",
      "7 @RedRocky31 @Eathbound420 @melo_myers @CynBlogger @jbm32753 @yada41852152 @sorayaRESIST @Jane_with_a_y @Mary1Kathy @noneejudi @enespacio @DarwunStJames @Gspirithorse @bb_roberson @ResistersUniteX @bab_102 @ConnieBabe4 @politicsusa46 @JackieVirgo Every day is awesome inteligent beautiful 💙 @RedRocky31 with U in it ThankU truly appreciateU honoured2be mentioned among such intellectual splendid excellent friends let's keep hope alive VOTE 💙 follow your dreams ❤ FreeUkraine  \n",
      "8 @RedRocky31 @Eathbound420 @melo_myers @CynBlogger @jbm32753 @yada41852152 @sorayaRESIST @Jane_with_a_y @Mary1Kathy @noneejudi @enespacio @DarwunStJames @Gspirithorse @bb_roberson @ResistersUniteX @bab_102 @ConnieBabe4 @politicsusa46 @JackieVirgo Every day is awesome inteligent beautiful 💙 @RedRocky31 with U in it ThankU truly appreciateU honoured2be mentioned among such intellectual splendid excellent friends let's keep hope alive VOTE 💙 follow your dreams ❤ FreeUkraine  \n",
      "9 @RedRocky31 @Eathbound420 @melo_myers @CynBlogger @jbm32753 @yada41852152 @sorayaRESIST @Jane_with_a_y @Mary1Kathy @noneejudi @enespacio @DarwunStJames @Gspirithorse @bb_roberson @ResistersUniteX @bab_102 @ConnieBabe4 @politicsusa46 @JackieVirgo Every day is awesome inteligent beautiful 💙 @RedRocky31 with U in it ThankU truly appreciateU honoured2be mentioned among such intellectual splendid excellent friends let's keep hope alive VOTE 💙 follow your dreams ❤ FreeUkraine  \n",
      "10 @dattalion @NickJon46108833 Absolutely beautiful &amp; heart warming. god bless the newlyweds. May life bless them both with love, happiness, peace &amp; joy SlavaUkraini 💙💙💛💛🇺🇦🇺🇦 \n",
      "11 @ukraine_world ukraine will come back as the capital of the free world and architecture must to reflect this rebirth. I can imagine ukraine in 10 years 🥰🥰🥰🥰 as one of the most beautiful countries in the world!!!. everything new, shining in the sun 💯💯 slavaUkraina\n",
      "12 @TRUESAY14 @katibug817 @katibug957 @PattyBriteKline @GoodTrouble1150 @Agent35512 @RcRegalstarfire @good_trouble96 @Talyn777 @RusPugs @ButtersKatz @Zee207702 @MsVernestyne @Eathbound420 @lisasmith1150 @AndreaTwitmo @JaxHarley5 @Jane_with_a_y @QuinnLeone4 @Blindfaith551 Good morning my Brother ☕️🌻🌞… sorry I missed you last night dear friend 💯. StandWithUkraine 🙏🇺🇦🙏. Please have a beautiful weekend to you &amp; yours 🥰 . I hope to see you soon 💥🤙🤗🤗💛💙 \n",
      "13 Images to see by…Hawaii’s sunflowers. 🌻💙💛🕊🌻💙💛🕊🌻💙💛🕊Many of us on the islands are sending healing thoughts of aloha to Ukraine. PeaceInUkraine 💙💛🕊 \n",
      "14 Afternoon all FridayFeeling Hope you all have a lovely day mentalhealth SuicidePrevention  anxiety PTSD Ukraine Zelenskyy WeStandWithUkraine 🇺🇦Its hard to find a friend who's cute, loving, generous, sexy, caring and smart..... try not to lose me 🤣🤣 \n",
      "15 Each moment, another dose of gorgeous, earnest humanity amidst the horrorStandWithUkraine 💛💙💛💙💛💙 \n",
      "16 Sooo cuteee🥰🥰☺☺🤗🤗😇😇 parkgyuri gyuri dogs pomeranian puppy BTS_THE_CITY_LasVegas instagram post Like BTSCONCERT OilPrices PriyankaChopra GlitchMode2ndWin Kramatorsk @gyuri88 \n",
      "17 Sooo cuteee🥰🥰☺☺🤗🤗😇😇 parkgyuri gyuri dogs pomeranian puppy BTS_THE_CITY_LasVegas instagram post Like BTSCONCERT OilPrices PriyankaChopra GlitchMode2ndWin Kramatorsk @gyuri88 \n",
      "18 2/3… You are the best mom in the whole world! I will never forget you! I wish you happiness on heaven! I want you to go to heaven! I will meet you in Paradise! I will try to behave well, so I could go to the Paradise! Kiss you, Tolya!”StopRussia StopRussianAggression\n",
      "19 2/3… You are the best mom in the whole world! I will never forget you! I wish you happiness on heaven! I want you to go to heaven! I will meet you in Paradise! I will try to behave well, so I could go to the Paradise! Kiss you, Tolya!”StopRussia StopRussianAggression\n",
      "20 2/3… You are the best mom in the whole world! I will never forget you! I wish you happiness on heaven! I want you to go to heaven! I will meet you in Paradise! I will try to behave well, so I could go to the Paradise! Kiss you, Tolya!”StopRussia StopRussianAggression\n"
     ]
    }
   ],
   "source": [
    "print(\"April 08: Compound - most positive\")\n",
    "extract_tweets(apr08comp_pos,20)"
   ]
  },
  {
   "cell_type": "code",
   "execution_count": 254,
   "id": "5a9b256f",
   "metadata": {},
   "outputs": [
    {
     "name": "stdout",
     "output_type": "stream",
     "text": [
      "Top 20 tweets:\n",
      "1 Pope Francis to Vladimir Putin: “In the name of God - stop this massacre.”StopPutin\n",
      "2 In the last few weeks, people from other parts of Ukraine have arrived in Lviv to escape the Russian invasion and seek safety.To help cope with the effects of the war, many people are in urgent need of mentalhealth and psychosocial support.Resources:  \n",
      "3 Old woman &amp; her dog look at the ruins of the hospital in Volnovakha. Proud are you Mr Putin Ukraine \n",
      "4 Russian journalist fined after TV protest. After the court hearing Ms Ovsyannikova told reporters that she had gone two days with no sleep, and had been questioned for over 14 hours without legal help or the opportunity to contact her loved ones Ukraine  \n",
      "5 1/Russia will become a megaplayground for organized crime as a result of its senseless war on Ukraine. Criminals will jump to the rescue to help Putin bypass sanctions and share the loot and Russians will return to the violence and uncertainty of the 90s. organizedcrime Russia\n",
      "6 Tell me that trash isn't addictive. Should you eat McDonald's...Nyet Russian McDonald's fan chains himself to eatery in attempt to prevent closing  via @nypostMcDonalds RussiaUkraineWar\n",
      "7 Putin Astrology T. Saturn (Outer wheel) mauls Putin's Prog Pluto in 8th (death/transitions) exactly opposite 14th April '22. Within 3 degrees it smases his P.Pluto (Inner Wheel) to mid Sept. Along with Saturn in 9th natual Justice squaring T. Pluto 2nd values, Karma is coming! \n",
      "8 @ukraine_world I'm surprised Putin bothers to lie because he's getting the consequences anyway\n",
      "9 Does Putin have plans to scapegoat Shoigu for the mistakes of the Ukraine campaign &amp; replace him with slavishly loyal fellow RyazanTatar Zolotov, to solidify his support in the RussianMilitary? It would mean one more step to PersonalDictatorship.  \n",
      "10 \"And I wish Putin torment! Gods, give him hard labor so that he dies a slow death! Despot, spider, jackal! I snorted this house from the Soviet government, and this creature is now climbing on us ?!\" These people survived the shelling and were left homeless.Ukraine Kyiv \n",
      "11 Update: almost 2000 cars left Mariupol today and 2000 more wait to exit. This is so important. \n",
      "12 'Will make sure Ukraine has weapons to fight Russia', says Biden RussiaUkraineWar JoeBiden \n",
      "13 PEPFAR has rapidly deployed an additional $6M in emergency resources to swiftly procure supplies of life-saving anti-retroviral HIV medications for the +100K people living with HIV in Ukraine that PEPFAR supports. StandWithUkraine \n",
      "14 Update: almost 2000 cars left Mariupol today and 2000 more wait to exit. This is so important. \n",
      "15 Old woman &amp; her dog look at the ruins of the hospital in Volnovakha. Proud are you Mr Putin Ukraine \n",
      "16 Putin Astrology T. Saturn (Outer wheel) mauls Putin's Prog Pluto in 8th (death/transitions) exactly opposite 14th April '22. Within 3 degrees it smases his P.Pluto (Inner Wheel) to mid Sept. Along with Saturn in 9th natual Justice squaring T. Pluto 2nd values, Karma is coming! \n",
      "17 This Nigerian man in Ukraine, Tolulope Osho, is helping people in war zones get to safety in Poland.  His Instagram page about him is @cowriesking AfricanslnUkraine NigerianslnUkraine RussiaUkraineWar StopWarInUkraine PutinWarCriminal Ukriane RussiaUkraine Russian \n",
      "18 BREAKING: Three sources from Russia reported the possible location of Kadyrov near Kyiv - intelligence of the Ukraine's Armed Forces. Via @EuromaidanPR\n",
      "19 Old woman &amp; her dog look at the ruins of the hospital in Volnovakha. Proud are you Mr Putin Ukraine \n",
      "20 How does Putin think he’s going to win this war? PresidentZelensky and Ukraine have the entire world on its side (exception China). StandWithUkraine\n"
     ]
    }
   ],
   "source": [
    "extract_tweets(mar15pos[30000:40000],20)"
   ]
  },
  {
   "cell_type": "code",
   "execution_count": null,
   "id": "5060b0de",
   "metadata": {},
   "outputs": [],
   "source": []
  }
 ],
 "metadata": {
  "kernelspec": {
   "display_name": "Python [conda env:metis] *",
   "language": "python",
   "name": "conda-env-metis-py"
  },
  "language_info": {
   "codemirror_mode": {
    "name": "ipython",
    "version": 3
   },
   "file_extension": ".py",
   "mimetype": "text/x-python",
   "name": "python",
   "nbconvert_exporter": "python",
   "pygments_lexer": "ipython3",
   "version": "3.9.7"
  }
 },
 "nbformat": 4,
 "nbformat_minor": 5
}
